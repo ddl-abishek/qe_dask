{
 "cells": [
  {
   "cell_type": "code",
   "execution_count": 8,
   "id": "833d01ea-249c-4370-b4b2-ded760f7c9c0",
   "metadata": {},
   "outputs": [],
   "source": [
    "from dask.distributed import Client\n",
    "import os"
   ]
  },
  {
   "cell_type": "code",
   "execution_count": 9,
   "id": "a4319c20-c130-415b-8c38-c60d575c9f6b",
   "metadata": {},
   "outputs": [],
   "source": [
    "def inc(x):\n",
    "    print(x)"
   ]
  },
  {
   "cell_type": "code",
   "execution_count": 10,
   "id": "a7406905-9f34-4596-8d71-3a949687a114",
   "metadata": {},
   "outputs": [],
   "source": [
    "if __name__ == \"__main__\":\n",
    "    service_port = os.environ['DASK_SCHEDULER_SERVICE_PORT']\n",
    "    service_host = os.environ['DASK_SCHEDULER_SERVICE_HOST']\n",
    "    client = Client(f'{service_host}:{service_port}')\n",
    "#     L = client.map(get_square, [2,3,4,5,6])"
   ]
  },
  {
   "cell_type": "code",
   "execution_count": 11,
   "id": "0f93e24c-3259-4484-82c3-ab087aafeca5",
   "metadata": {},
   "outputs": [
    {
     "data": {
      "text/html": [
       "<table style=\"border: 2px solid white;\">\n",
       "<tr>\n",
       "<td style=\"vertical-align: top; border: 0px solid white\">\n",
       "<h3 style=\"text-align: left;\">Client</h3>\n",
       "<ul style=\"text-align: left; list-style: none; margin: 0; padding: 0;\">\n",
       "  <li><b>Scheduler: </b>tcp://dask-60fd0db7d3e0ab65f699e7f2-dask-scheduler.dask-qe1643-compute.svc.cluster.local:8786</li>\n",
       "  <li><b>Dashboard: </b><a href='http://dask-60fd0db7d3e0ab65f699e7f2-dask-scheduler.dask-qe1643-compute.svc.cluster.local:8787/status' target='_blank'>http://dask-60fd0db7d3e0ab65f699e7f2-dask-scheduler.dask-qe1643-compute.svc.cluster.local:8787/status</a></li>\n",
       "</ul>\n",
       "</td>\n",
       "<td style=\"vertical-align: top; border: 0px solid white\">\n",
       "<h3 style=\"text-align: left;\">Cluster</h3>\n",
       "<ul style=\"text-align: left; list-style:none; margin: 0; padding: 0;\">\n",
       "  <li><b>Workers: </b>2</li>\n",
       "  <li><b>Cores: </b>2</li>\n",
       "  <li><b>Memory: </b>8.00 GiB</li>\n",
       "</ul>\n",
       "</td>\n",
       "</tr>\n",
       "</table>"
      ],
      "text/plain": [
       "<Client: 'tcp://100.96.1.20:8786' processes=2 threads=2, memory=8.00 GiB>"
      ]
     },
     "execution_count": 11,
     "metadata": {},
     "output_type": "execute_result"
    }
   ],
   "source": [
    "client"
   ]
  },
  {
   "cell_type": "code",
   "execution_count": 12,
   "id": "dba30bfc-59dc-4a8f-863d-7f2514a3f95c",
   "metadata": {},
   "outputs": [
    {
     "data": {
      "text/plain": [
       "<bound method Client.has_what of <Client: 'tcp://100.96.1.20:8786' processes=2 threads=2, memory=8.00 GiB>>"
      ]
     },
     "execution_count": 12,
     "metadata": {},
     "output_type": "execute_result"
    }
   ],
   "source": [
    "client.has_what"
   ]
  },
  {
   "cell_type": "code",
   "execution_count": 5,
   "id": "ba151d11-8c49-4548-8169-2f5abaeb2d44",
   "metadata": {},
   "outputs": [],
   "source": [
    "L = client.map(inc, [2,3,4,5,6])"
   ]
  },
  {
   "cell_type": "code",
   "execution_count": 6,
   "id": "7c53e6eb-35d1-4204-883c-76324ab86d1d",
   "metadata": {
    "tags": []
   },
   "outputs": [
    {
     "data": {
      "text/plain": [
       "[<Future: finished, type: builtins.NoneType, key: inc-a58e918fb4d1b18ba2e268f16cd8a4b1>,\n",
       " <Future: finished, type: builtins.NoneType, key: inc-93e3ea3c73cbfa0550132a73a53cc31d>,\n",
       " <Future: finished, type: builtins.NoneType, key: inc-5390f24189d168f430fc004bb1b2c7e2>,\n",
       " <Future: finished, type: builtins.NoneType, key: inc-d769f060d7cb821538d7824b8b93b6b6>,\n",
       " <Future: finished, type: builtins.NoneType, key: inc-c86bcde7d91cf380652b969ea9c5bdee>]"
      ]
     },
     "execution_count": 6,
     "metadata": {},
     "output_type": "execute_result"
    }
   ],
   "source": [
    "L"
   ]
  },
  {
   "cell_type": "code",
   "execution_count": 7,
   "id": "d1a1977d-c892-42e2-90a3-f7744680ec47",
   "metadata": {},
   "outputs": [
    {
     "data": {
      "text/plain": [
       "[None, None, None, None, None]"
      ]
     },
     "execution_count": 7,
     "metadata": {},
     "output_type": "execute_result"
    }
   ],
   "source": [
    "client.gather(L)"
   ]
  },
  {
   "cell_type": "code",
   "execution_count": null,
   "id": "153df2e0-0467-40e3-ac39-9b0ca578c78f",
   "metadata": {},
   "outputs": [],
   "source": [
    "clinet.shutdown()"
   ]
  }
 ],
 "metadata": {
  "kernelspec": {
   "display_name": "Python 3 (ipykernel)",
   "language": "python",
   "name": "python3"
  },
  "language_info": {
   "codemirror_mode": {
    "name": "ipython",
    "version": 3
   },
   "file_extension": ".py",
   "mimetype": "text/x-python",
   "name": "python",
   "nbconvert_exporter": "python",
   "pygments_lexer": "ipython3",
   "version": "3.8.10"
  }
 },
 "nbformat": 4,
 "nbformat_minor": 5
}
