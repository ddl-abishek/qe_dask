{
 "cells": [
  {
   "cell_type": "code",
   "execution_count": 1,
   "id": "a5527da6-e09d-4b6a-8b03-9410ea57b21b",
   "metadata": {},
   "outputs": [],
   "source": [
    "import pandas as pd\n",
    "from sklearn.cluster import KMeans\n",
    "import numpy as np\n",
    "from sklearn.preprocessing import StandardScaler\n",
    "from sklearn.decomposition import PCA\n",
    "from itertools import combinations\n",
    "import yaml\n",
    "import os"
   ]
  },
  {
   "cell_type": "code",
   "execution_count": 2,
   "id": "3f8b1838-d8b8-49a1-a5c4-de2bc6c644be",
   "metadata": {},
   "outputs": [],
   "source": [
    "config = yaml.load(open(\"config.yml\", \"r\"), yaml.SafeLoader)"
   ]
  },
  {
   "cell_type": "code",
   "execution_count": 3,
   "id": "1c2c9f12-a794-49a9-88e3-8b3320c383a6",
   "metadata": {},
   "outputs": [],
   "source": [
    "reqd_cols = ['Vehicle Expiration Date','Violation Precinct','Issuer Precinct','Vehicle Year']"
   ]
  },
  {
   "cell_type": "code",
   "execution_count": 20,
   "id": "db597a3a-389b-42e8-8a5c-165fff4fdab3",
   "metadata": {},
   "outputs": [],
   "source": [
    "year = '2017'"
   ]
  },
  {
   "cell_type": "code",
   "execution_count": 21,
   "id": "2e54cbdd-d496-4367-ad20-d6d7d1e6238c",
   "metadata": {},
   "outputs": [],
   "source": [
    "clean_data = pd.read_csv(eval(config['Dataset'][year]),usecols=reqd_cols)"
   ]
  },
  {
   "cell_type": "code",
   "execution_count": 22,
   "id": "f6c34fc2-f7af-4824-9ce2-e7025440aca1",
   "metadata": {},
   "outputs": [
    {
     "data": {
      "text/html": [
       "<div>\n",
       "<style scoped>\n",
       "    .dataframe tbody tr th:only-of-type {\n",
       "        vertical-align: middle;\n",
       "    }\n",
       "\n",
       "    .dataframe tbody tr th {\n",
       "        vertical-align: top;\n",
       "    }\n",
       "\n",
       "    .dataframe thead th {\n",
       "        text-align: right;\n",
       "    }\n",
       "</style>\n",
       "<table border=\"1\" class=\"dataframe\">\n",
       "  <thead>\n",
       "    <tr style=\"text-align: right;\">\n",
       "      <th></th>\n",
       "      <th>Vehicle Expiration Date</th>\n",
       "      <th>Violation Precinct</th>\n",
       "      <th>Issuer Precinct</th>\n",
       "      <th>Vehicle Year</th>\n",
       "    </tr>\n",
       "  </thead>\n",
       "  <tbody>\n",
       "    <tr>\n",
       "      <th>0</th>\n",
       "      <td>0</td>\n",
       "      <td>0</td>\n",
       "      <td>0</td>\n",
       "      <td>2001</td>\n",
       "    </tr>\n",
       "    <tr>\n",
       "      <th>1</th>\n",
       "      <td>0</td>\n",
       "      <td>0</td>\n",
       "      <td>0</td>\n",
       "      <td>2001</td>\n",
       "    </tr>\n",
       "    <tr>\n",
       "      <th>2</th>\n",
       "      <td>0</td>\n",
       "      <td>0</td>\n",
       "      <td>0</td>\n",
       "      <td>2004</td>\n",
       "    </tr>\n",
       "    <tr>\n",
       "      <th>3</th>\n",
       "      <td>20180630</td>\n",
       "      <td>14</td>\n",
       "      <td>14</td>\n",
       "      <td>2007</td>\n",
       "    </tr>\n",
       "    <tr>\n",
       "      <th>4</th>\n",
       "      <td>20170228</td>\n",
       "      <td>13</td>\n",
       "      <td>13</td>\n",
       "      <td>2007</td>\n",
       "    </tr>\n",
       "  </tbody>\n",
       "</table>\n",
       "</div>"
      ],
      "text/plain": [
       "   Vehicle Expiration Date  Violation Precinct  Issuer Precinct  Vehicle Year\n",
       "0                        0                   0                0          2001\n",
       "1                        0                   0                0          2001\n",
       "2                        0                   0                0          2004\n",
       "3                 20180630                  14               14          2007\n",
       "4                 20170228                  13               13          2007"
      ]
     },
     "execution_count": 22,
     "metadata": {},
     "output_type": "execute_result"
    }
   ],
   "source": [
    "clean_data.head()"
   ]
  },
  {
   "cell_type": "markdown",
   "id": "fcde757f-0e67-4d42-a162-b5109162d40f",
   "metadata": {},
   "source": [
    "# 2013-14"
   ]
  },
  {
   "cell_type": "code",
   "execution_count": 15,
   "id": "d60fbae1-80d6-4f16-9543-e6d9c8043abb",
   "metadata": {},
   "outputs": [
    {
     "data": {
      "text/plain": [
       "Vehicle Expiration Date      int64\n",
       "Violation Precinct           int64\n",
       "Issuer Precinct              int64\n",
       "Vehicle Year               float64\n",
       "dtype: object"
      ]
     },
     "execution_count": 15,
     "metadata": {},
     "output_type": "execute_result"
    }
   ],
   "source": [
    "clean_data.dtypes"
   ]
  },
  {
   "cell_type": "markdown",
   "id": "896da583-40b9-4155-aa7d-84c5fcb1df56",
   "metadata": {},
   "source": [
    "# 2015"
   ]
  },
  {
   "cell_type": "code",
   "execution_count": 19,
   "id": "0b2a9213-2168-4171-845f-b96adb3669a6",
   "metadata": {},
   "outputs": [
    {
     "data": {
      "text/plain": [
       "Vehicle Expiration Date     object\n",
       "Violation Precinct           int64\n",
       "Issuer Precinct              int64\n",
       "Vehicle Year               float64\n",
       "dtype: object"
      ]
     },
     "execution_count": 19,
     "metadata": {},
     "output_type": "execute_result"
    }
   ],
   "source": [
    "clean_data.dtypes"
   ]
  },
  {
   "cell_type": "markdown",
   "id": "11dc105f-e239-4911-a8a0-f19d68c34d01",
   "metadata": {},
   "source": [
    "# 2016"
   ]
  },
  {
   "cell_type": "code",
   "execution_count": 9,
   "id": "32ef23a4-0d37-4351-a8f2-8cddc95e7373",
   "metadata": {},
   "outputs": [
    {
     "data": {
      "text/plain": [
       "Vehicle Expiration Date    float64\n",
       "Violation Precinct         float64\n",
       "Issuer Precinct            float64\n",
       "Vehicle Year               float64\n",
       "dtype: object"
      ]
     },
     "execution_count": 9,
     "metadata": {},
     "output_type": "execute_result"
    }
   ],
   "source": [
    "clean_data.dtypes"
   ]
  },
  {
   "cell_type": "markdown",
   "id": "d12607fd-f9bf-42ec-b958-0eec64878d01",
   "metadata": {},
   "source": [
    "# 2017"
   ]
  },
  {
   "cell_type": "code",
   "execution_count": 23,
   "id": "f24f0261-b122-4fca-a5d5-d51250294bd9",
   "metadata": {},
   "outputs": [
    {
     "data": {
      "text/plain": [
       "Vehicle Expiration Date    int64\n",
       "Violation Precinct         int64\n",
       "Issuer Precinct            int64\n",
       "Vehicle Year               int64\n",
       "dtype: object"
      ]
     },
     "execution_count": 23,
     "metadata": {},
     "output_type": "execute_result"
    }
   ],
   "source": [
    "clean_data.dtypes"
   ]
  },
  {
   "cell_type": "code",
   "execution_count": 24,
   "id": "5b5dd4b1-856c-40cd-977c-80939a204a25",
   "metadata": {},
   "outputs": [
    {
     "data": {
      "text/plain": [
       "['RUN_60FD0DB7D3E0AB65F699E7F2_PORT_9000_TCP_ADDR',\n",
       " 'DISTRIBUTED_COMPUTE_OPERATOR_WEBHOOK_SERVER_PORT_443_TCP_PORT',\n",
       " 'DOMINO_USER',\n",
       " 'LC_ALL',\n",
       " 'RUN_60FD0DB7D3E0AB65F699E7F2_PORT_80_TCP_PORT',\n",
       " 'MAX_RETRIES',\n",
       " 'RUN_60FD0DB7D3E0AB65F699E7F2_PORT_80_TCP_PROTO',\n",
       " 'DOMINO_GROUP_ID',\n",
       " 'LANG',\n",
       " 'DISTRIBUTED_COMPUTE_OPERATOR_WEBHOOK_SERVER_PORT_443_TCP',\n",
       " 'HOSTNAME',\n",
       " 'OLDPWD',\n",
       " 'DOMINO_RUN_NUMBER',\n",
       " 'RUN_60EC75A10780531F2B14511C_SERVICE_PORT_EXECUTOR',\n",
       " 'DASK_SCHEDULER_SERVICE_PORT',\n",
       " 'DOMINO_RUN_ID',\n",
       " 'DOMINO_PROJECT_OWNER',\n",
       " 'RUN_60EC75A10780531F2B14511C_SERVICE_HOST',\n",
       " 'CONDA_DIR',\n",
       " 'PYTHONIOENCODING',\n",
       " 'KUBERNETES_PORT_443_TCP_PROTO',\n",
       " 'KUBERNETES_PORT_443_TCP_ADDR',\n",
       " 'RUN_60EC75A10780531F2B14511C_PORT_80_TCP_PROTO',\n",
       " 'RUN_60FD0DB7D3E0AB65F699E7F2_PORT_80_TCP',\n",
       " 'DISTRIBUTED_COMPUTE_OPERATOR_WEBHOOK_SERVER_SERVICE_PORT',\n",
       " 'DOMINO_USER_ID',\n",
       " 'USER',\n",
       " 'DOMINO_NODE_IP',\n",
       " 'CLEANUP_COMMAND',\n",
       " 'RUN_60FD0DB7D3E0AB65F699E7F2_SERVICE_PORT_HTTP',\n",
       " 'JOBLIB_TEMP_FOLDER',\n",
       " 'KUBERNETES_PORT',\n",
       " 'DOMINO_STARTING_USERNAME',\n",
       " 'DOMINO_HARDWARE_TIER_ID',\n",
       " 'PWD',\n",
       " 'RUN_60FD0DB7D3E0AB65F699E7F2_PORT_80_TCP_ADDR',\n",
       " 'DOMINO_WORKING_DIR',\n",
       " 'RUN_60FD0DB7D3E0AB65F699E7F2_SERVICE_PORT_EXECUTOR',\n",
       " 'HOME',\n",
       " 'MINICONDA_MD5',\n",
       " 'DISTRIBUTED_COMPUTE_OPERATOR_WEBHOOK_SERVER_SERVICE_HOST',\n",
       " 'DOMINO_API_HOST',\n",
       " 'KUBERNETES_SERVICE_PORT_HTTPS',\n",
       " 'RUN_60EC75A10780531F2B14511C_PORT_9000_TCP_ADDR',\n",
       " 'RUN_60EC75A10780531F2B14511C_SERVICE_PORT_HTTP',\n",
       " 'KUBERNETES_PORT_443_TCP_PORT',\n",
       " 'RUN_60FD0DB7D3E0AB65F699E7F2_PORT_9000_TCP_PORT',\n",
       " 'RUN_60FD0DB7D3E0AB65F699E7F2_PORT_9000_TCP',\n",
       " 'R_VERSION',\n",
       " 'RUN_60FD0DB7D3E0AB65F699E7F2_SERVICE_PORT',\n",
       " 'DOMINO_USER_API_KEY',\n",
       " 'DOMINO_GROUP',\n",
       " 'RUN_60EC75A10780531F2B14511C_SERVICE_PORT',\n",
       " 'DOMINO_NODE_NAME',\n",
       " 'RUN_60EC75A10780531F2B14511C_PORT_9000_TCP_PORT',\n",
       " 'PIP',\n",
       " 'KUBERNETES_PORT_443_TCP',\n",
       " 'RUN_60EC75A10780531F2B14511C_PORT_9000_TCP',\n",
       " 'MAIL',\n",
       " 'DASK_SCHEDULER_SERVICE_HOST',\n",
       " 'SHELL',\n",
       " 'RUN_60FD0DB7D3E0AB65F699E7F2_PORT_9000_TCP_PROTO',\n",
       " 'DOMINO_TOKEN_FILE',\n",
       " 'RETRY_DELAY',\n",
       " 'RUN_60FD0DB7D3E0AB65F699E7F2_PORT',\n",
       " 'SHLVL',\n",
       " 'DISTRIBUTED_COMPUTE_OPERATOR_WEBHOOK_SERVER_PORT_443_TCP_PROTO',\n",
       " 'DISTRIBUTED_COMPUTE_OPERATOR_WEBHOOK_SERVER_PORT_443_TCP_ADDR',\n",
       " 'RUN_60EC75A10780531F2B14511C_PORT',\n",
       " 'KUBERNETES_SERVICE_PORT',\n",
       " 'LOGNAME',\n",
       " 'RUN_60EC75A10780531F2B14511C_PORT_80_TCP',\n",
       " 'DISTRIBUTED_COMPUTE_OPERATOR_WEBHOOK_SERVER_PORT',\n",
       " 'RUN_60EC75A10780531F2B14511C_PORT_80_TCP_ADDR',\n",
       " 'PATH',\n",
       " 'DOMINO_USER_HOST',\n",
       " 'KUBERNETES_SERVICE_HOST',\n",
       " 'RUN_60EC75A10780531F2B14511C_PORT_80_TCP_PORT',\n",
       " 'MINICONDA_VERSION',\n",
       " 'RUN_60EC75A10780531F2B14511C_PORT_9000_TCP_PROTO',\n",
       " 'DOMINO_USER_NAME',\n",
       " 'RUN_60FD0DB7D3E0AB65F699E7F2_SERVICE_HOST',\n",
       " 'DOMINO_PROJECT_NAME',\n",
       " '_',\n",
       " 'JPY_PARENT_PID',\n",
       " 'TERM',\n",
       " 'CLICOLOR',\n",
       " 'PAGER',\n",
       " 'GIT_PAGER',\n",
       " 'MPLBACKEND',\n",
       " 'KMP_DUPLICATE_LIB_OK',\n",
       " 'KMP_INIT_AT_FORK']"
      ]
     },
     "execution_count": 24,
     "metadata": {},
     "output_type": "execute_result"
    }
   ],
   "source": [
    "list(os.environ.keys())"
   ]
  },
  {
   "cell_type": "code",
   "execution_count": 9,
   "id": "e179ede4-e4a0-45d9-bbb5-26f6ded5bbf5",
   "metadata": {},
   "outputs": [],
   "source": [
    "def convDate(date): \n",
    "    date = str(date)\n",
    "    months_dict = {'01':31,\n",
    "                  '02':{'leap':29,'normal':28},\n",
    "                  '03':31,\n",
    "                  '04':30,\n",
    "                  '05':31,\n",
    "                  '06':30,\n",
    "                  '07':31,\n",
    "                  '08':31,\n",
    "                  '09':30,\n",
    "                  '10':31,\n",
    "                  '11':30,\n",
    "                  '12':31}\n",
    "    \n",
    "    if len(date) >= 8:\n",
    "        if len(date) > 8: # handling exceptions for  2015 data\n",
    "            date = date.split('.')[0]\n",
    "            date = date.split(' ')[0].split('/')[-1]\n",
    "\n",
    "        day_ext = int(date[-2:])\n",
    "        month_ext = date[-4:-2]\n",
    "        year = date[0:4]\n",
    "\n",
    "        day_of_year = 0            \n",
    "\n",
    "        for month in months_dict.keys():\n",
    "            if month == month_ext:\n",
    "                break\n",
    "\n",
    "            if month == '02':\n",
    "                if int(year)%4 == 0:\n",
    "                    day_of_year += months_dict['02']['leap']\n",
    "                else:\n",
    "                    day_of_year += months_dict['02']['normal']\n",
    "            else:\n",
    "                day_of_year += months_dict[month]\n",
    "\n",
    "        day_of_year += day_ext\n",
    "\n",
    "        return day_of_year\n",
    "    \n",
    "    else:\n",
    "        return date"
   ]
  },
  {
   "cell_type": "code",
   "execution_count": 10,
   "id": "bfadaac6-ba82-4fa4-a302-ab0f8b23e692",
   "metadata": {
    "tags": []
   },
   "outputs": [],
   "source": [
    "clean_data['Vehicle Expiration Date'] = clean_data['Vehicle Expiration Date'].apply(convDate)"
   ]
  },
  {
   "cell_type": "code",
   "execution_count": 11,
   "id": "8081d0c7-8257-410b-a2c1-7d633a76dddc",
   "metadata": {},
   "outputs": [],
   "source": [
    "if not(os.path.isdir(eval(config['clean_data']['dir']))):\n",
    "    os.makedirs(eval(config['clean_data']['dir']))"
   ]
  },
  {
   "cell_type": "code",
   "execution_count": 12,
   "id": "1e302546-a050-46cd-9fec-7287ad8ae62f",
   "metadata": {},
   "outputs": [],
   "source": [
    "clean_data.to_csv(eval(config['clean_data'][year]))"
   ]
  }
 ],
 "metadata": {
  "kernelspec": {
   "display_name": "Python 3 (ipykernel)",
   "language": "python",
   "name": "python3"
  },
  "language_info": {
   "codemirror_mode": {
    "name": "ipython",
    "version": 3
   },
   "file_extension": ".py",
   "mimetype": "text/x-python",
   "name": "python",
   "nbconvert_exporter": "python",
   "pygments_lexer": "ipython3",
   "version": "3.8.10"
  }
 },
 "nbformat": 4,
 "nbformat_minor": 5
}
