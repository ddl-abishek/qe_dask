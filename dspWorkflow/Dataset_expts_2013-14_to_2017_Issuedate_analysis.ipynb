{
 "cells": [
  {
   "cell_type": "code",
   "execution_count": 1,
   "metadata": {},
   "outputs": [],
   "source": [
    "import pandas as pd\n",
    "import numpy as np\n",
    "import dask.dataframe as dd\n",
    "from datetime import datetime\n",
    "from collections import defaultdict\n",
    "import seaborn as sns\n",
    "from matplotlib import pyplot as plt\n",
    "import math"
   ]
  },
  {
   "cell_type": "markdown",
   "metadata": {},
   "source": [
    "# Reading only Issue Date to see patterns in date"
   ]
  },
  {
   "cell_type": "code",
   "execution_count": 2,
   "metadata": {},
   "outputs": [],
   "source": [
    "date_parser = lambda x: datetime.strptime(x, \"%m/%d/%Y\")"
   ]
  },
  {
   "cell_type": "code",
   "execution_count": 3,
   "metadata": {},
   "outputs": [],
   "source": [
    "data_2013_14 = dd.read_csv('./Parking_Violations_Issued_-_Fiscal_Year_2014__August_2013___June_2014_.csv',\n",
    "                                 usecols=['Issue Date'],\n",
    "                                 dtype={'Issue Date':'str'},\n",
    "                                 parse_dates=['Issue Date'],\n",
    "                                 date_parser=date_parser)"
   ]
  },
  {
   "cell_type": "code",
   "execution_count": 63,
   "metadata": {},
   "outputs": [],
   "source": [
    "data_2015 = dd.read_csv('./Parking_Violations_Issued_-_Fiscal_Year_2015.csv',\n",
    "                       usecols=['Issue Date'],\n",
    "                       dtype={'Issue Date':'str'},\n",
    "                       parse_dates=['Issue Date'],\n",
    "                       date_parser=date_parser)"
   ]
  },
  {
   "cell_type": "code",
   "execution_count": 64,
   "metadata": {},
   "outputs": [],
   "source": [
    "data_2016 = dd.read_csv('./Parking_Violations_Issued_-_Fiscal_Year_2016.csv',\n",
    "                       usecols=['Issue Date'],\n",
    "                       dtype={'Issue Date':'str'},\n",
    "                       parse_dates=['Issue Date'],\n",
    "                       date_parser=date_parser)"
   ]
  },
  {
   "cell_type": "code",
   "execution_count": 65,
   "metadata": {},
   "outputs": [],
   "source": [
    "data_2017 = dd.read_csv('./Parking_Violations_Issued_-_Fiscal_Year_2017.csv',\n",
    "                       usecols=['Issue Date'],\n",
    "                       dtype={'Issue Date':'str'},\n",
    "                       parse_dates=['Issue Date'],\n",
    "                       date_parser=date_parser)"
   ]
  },
  {
   "cell_type": "code",
   "execution_count": 5,
   "metadata": {},
   "outputs": [
    {
     "data": {
      "text/html": [
       "<div>\n",
       "<style scoped>\n",
       "    .dataframe tbody tr th:only-of-type {\n",
       "        vertical-align: middle;\n",
       "    }\n",
       "\n",
       "    .dataframe tbody tr th {\n",
       "        vertical-align: top;\n",
       "    }\n",
       "\n",
       "    .dataframe thead th {\n",
       "        text-align: right;\n",
       "    }\n",
       "</style>\n",
       "<table border=\"1\" class=\"dataframe\">\n",
       "  <thead>\n",
       "    <tr style=\"text-align: right;\">\n",
       "      <th></th>\n",
       "      <th>Issue Date</th>\n",
       "    </tr>\n",
       "  </thead>\n",
       "  <tbody>\n",
       "    <tr>\n",
       "      <th>0</th>\n",
       "      <td>2013-08-04</td>\n",
       "    </tr>\n",
       "    <tr>\n",
       "      <th>1</th>\n",
       "      <td>2013-08-04</td>\n",
       "    </tr>\n",
       "    <tr>\n",
       "      <th>2</th>\n",
       "      <td>2013-08-05</td>\n",
       "    </tr>\n",
       "    <tr>\n",
       "      <th>3</th>\n",
       "      <td>2013-08-05</td>\n",
       "    </tr>\n",
       "    <tr>\n",
       "      <th>4</th>\n",
       "      <td>2013-08-08</td>\n",
       "    </tr>\n",
       "  </tbody>\n",
       "</table>\n",
       "</div>"
      ],
      "text/plain": [
       "  Issue Date\n",
       "0 2013-08-04\n",
       "1 2013-08-04\n",
       "2 2013-08-05\n",
       "3 2013-08-05\n",
       "4 2013-08-08"
      ]
     },
     "execution_count": 5,
     "metadata": {},
     "output_type": "execute_result"
    }
   ],
   "source": [
    "data_2013_14.head()"
   ]
  },
  {
   "cell_type": "code",
   "execution_count": 66,
   "metadata": {},
   "outputs": [],
   "source": [
    "year_count = defaultdict(int)\n",
    "month_count = defaultdict(int)\n",
    "\n",
    "data_13_17 = [data_2013_14,data_2015,data_2016,data_2017]\n",
    "\n",
    "for data in data_13_17:\n",
    "    for date in data['Issue Date']:\n",
    "        month_count[date.month_name()] += 1\n",
    "        year_count[str(date.year)] += 1    "
   ]
  },
  {
   "cell_type": "code",
   "execution_count": null,
   "metadata": {},
   "outputs": [],
   "source": []
  },
  {
   "cell_type": "code",
   "execution_count": 67,
   "metadata": {},
   "outputs": [
    {
     "data": {
      "text/plain": [
       "defaultdict(int,\n",
       "            {'August': 3455617,\n",
       "             'July': 2729530,\n",
       "             'March': 3852356,\n",
       "             'June': 3710541,\n",
       "             'May': 3840294,\n",
       "             'September': 3758123,\n",
       "             'April': 3602097,\n",
       "             'October': 3987212,\n",
       "             'January': 3809913,\n",
       "             'February': 3054514,\n",
       "             'December': 3055935,\n",
       "             'November': 3483306})"
      ]
     },
     "execution_count": 67,
     "metadata": {},
     "output_type": "execute_result"
    }
   ],
   "source": [
    "month_count"
   ]
  },
  {
   "cell_type": "code",
   "execution_count": 68,
   "metadata": {
    "scrolled": true
   },
   "outputs": [
    {
     "data": {
      "text/plain": [
       "defaultdict(int,\n",
       "            {'2013': 4379883,\n",
       "             '2015': 11739781,\n",
       "             '2031': 99,\n",
       "             '2014': 10538388,\n",
       "             '2000': 956,\n",
       "             '2010': 356,\n",
       "             '2009': 16,\n",
       "             '2011': 424,\n",
       "             '2012': 966,\n",
       "             '2017': 5433327,\n",
       "             '2019': 988,\n",
       "             '2018': 1774,\n",
       "             '2001': 118,\n",
       "             '2053': 2,\n",
       "             '2002': 13,\n",
       "             '2016': 10241308,\n",
       "             '2032': 3,\n",
       "             '2021': 70,\n",
       "             '2023': 41,\n",
       "             '2008': 22,\n",
       "             '2006': 39,\n",
       "             '2003': 46,\n",
       "             '2041': 42,\n",
       "             '2049': 3,\n",
       "             '2005': 36,\n",
       "             '1973': 16,\n",
       "             '2030': 69,\n",
       "             '2004': 104,\n",
       "             '2007': 35,\n",
       "             '2044': 9,\n",
       "             '2060': 7,\n",
       "             '2020': 72,\n",
       "             '2033': 11,\n",
       "             '2045': 3,\n",
       "             '1971': 7,\n",
       "             '2043': 11,\n",
       "             '2069': 8,\n",
       "             '2027': 56,\n",
       "             '2024': 33,\n",
       "             '2063': 11,\n",
       "             '2061': 13,\n",
       "             '2051': 16,\n",
       "             '2025': 52,\n",
       "             '2046': 8,\n",
       "             '2047': 11,\n",
       "             '2028': 20,\n",
       "             '2066': 3,\n",
       "             '2029': 9,\n",
       "             '1987': 4,\n",
       "             '1990': 5,\n",
       "             '1976': 3,\n",
       "             '1970': 3,\n",
       "             '2052': 2,\n",
       "             '1981': 4,\n",
       "             '2040': 1,\n",
       "             '1991': 5,\n",
       "             '1974': 2,\n",
       "             '2050': 6,\n",
       "             '2067': 4,\n",
       "             '1979': 4,\n",
       "             '2048': 1,\n",
       "             '2026': 60,\n",
       "             '1983': 1,\n",
       "             '1977': 2,\n",
       "             '1984': 4,\n",
       "             '1996': 2,\n",
       "             '2064': 5,\n",
       "             '2022': 6,\n",
       "             '1988': 3,\n",
       "             '1985': 4,\n",
       "             '1986': 2,\n",
       "             '2055': 3,\n",
       "             '1989': 1,\n",
       "             '2034': 1,\n",
       "             '2065': 3,\n",
       "             '1975': 1,\n",
       "             '1982': 1,\n",
       "             '1980': 1,\n",
       "             '2068': 2,\n",
       "             '1972': 2,\n",
       "             '1994': 1,\n",
       "             '1997': 1,\n",
       "             '2036': 1,\n",
       "             '2062': 2})"
      ]
     },
     "execution_count": 68,
     "metadata": {},
     "output_type": "execute_result"
    }
   ],
   "source": [
    "year_count"
   ]
  },
  {
   "cell_type": "code",
   "execution_count": 77,
   "metadata": {},
   "outputs": [],
   "source": [
    "month_count_ordered = {'January':0,\n",
    "                       'February':0,\n",
    "                       'March':0,\n",
    "                       'April':0,\n",
    "                       'May':0,\n",
    "                       'June':0,\n",
    "                       'July':0,\n",
    "                       'August':0,\n",
    "                       'September':0,\n",
    "                       'October':0,\n",
    "                       'November':0,\n",
    "                       'December':0}\n",
    "\n",
    "for key in month_count_ordered:\n",
    "    month_count_ordered[key] = month_count[key]"
   ]
  },
  {
   "cell_type": "code",
   "execution_count": 78,
   "metadata": {},
   "outputs": [
    {
     "data": {
      "text/plain": [
       "{'January': 3809913,\n",
       " 'February': 3054514,\n",
       " 'March': 3852356,\n",
       " 'April': 3602097,\n",
       " 'May': 3840294,\n",
       " 'June': 3710541,\n",
       " 'July': 2729530,\n",
       " 'August': 3455617,\n",
       " 'September': 3758123,\n",
       " 'October': 3987212,\n",
       " 'November': 3483306,\n",
       " 'December': 3055935}"
      ]
     },
     "execution_count": 78,
     "metadata": {},
     "output_type": "execute_result"
    }
   ],
   "source": [
    "month_count_ordered"
   ]
  },
  {
   "cell_type": "markdown",
   "metadata": {},
   "source": [
    "# Parking fine frequency by month in Issue Date "
   ]
  },
  {
   "cell_type": "code",
   "execution_count": 79,
   "metadata": {},
   "outputs": [
    {
     "data": {
      "text/plain": [
       "<matplotlib.axes._subplots.AxesSubplot at 0x7f729ce14bb0>"
      ]
     },
     "execution_count": 79,
     "metadata": {},
     "output_type": "execute_result"
    },
    {
     "data": {
      "image/png": "[encoded data removed]",
      "text/plain": [
       "<Figure size 1440x576 with 1 Axes>"
      ]
     },
     "metadata": {},
     "output_type": "display_data"
    }
   ],
   "source": [
    "fig_dims = (20, 8)\n",
    "fig, ax = plt.subplots(figsize=fig_dims)\n",
    "df_month_count = pd.DataFrame(month_count_ordered.items(),columns=['month','frequency'])\n",
    "sns.barplot(x = \"month\", y = \"frequency\", ax=ax, data=df_month_count)"
   ]
  },
  {
   "cell_type": "markdown",
   "metadata": {},
   "source": [
    "# Parking fine frequency by year in Issue Date "
   ]
  },
  {
   "cell_type": "code",
   "execution_count": 76,
   "metadata": {},
   "outputs": [
    {
     "data": {
      "text/plain": [
       "<matplotlib.axes._subplots.AxesSubplot at 0x7f729d3007c0>"
      ]
     },
     "execution_count": 76,
     "metadata": {},
     "output_type": "execute_result"
    },
    {
     "data": {
      "image/png": "[encoded data removed]",
      "text/plain": [
       "<Figure size 2880x1440 with 1 Axes>"
      ]
     },
     "metadata": {},
     "output_type": "display_data"
    }
   ],
   "source": [
    "fig_dims = (40, 20)\n",
    "fig, ax = plt.subplots(figsize=fig_dims)\n",
    "df_year_count = pd.DataFrame(year_count.items(),columns=['year','frequency'])\n",
    "sns.barplot(x = \"year\", y = \"frequency\", ax=ax, data=df_year_count)"
   ]
  },
  {
   "cell_type": "markdown",
   "metadata": {},
   "source": [
    "# Reading only Date like cols to see patterns in data"
   ]
  },
  {
   "cell_type": "code",
   "execution_count": 91,
   "metadata": {},
   "outputs": [],
   "source": [
    "def plotbyDate(col_name):\n",
    "    if not(col_name in ['Issue Date','Vehicle Expiration Date','Date First Observed']):\n",
    "        raise ValueError(\"col_name should be in ['Issue Date','Vehicle Expiration Date','Date First Observed']\")\n",
    "    else:\n",
    "\n",
    "        date_parser = lambda x: datetime.strptime(x, \"%m/%d/%Y\")\n",
    "\n",
    "        data_2013_14 = dd.read_csv('./Parking_Violations_Issued_-_Fiscal_Year_2014__August_2013___June_2014_.csv',\n",
    "                                     usecols=[col_name],\n",
    "                                     dtype={col_name:'str'},\n",
    "                                     parse_dates=[col_name],\n",
    "                                     date_parser=date_parser)\n",
    "\n",
    "        data_2015 = dd.read_csv('./Parking_Violations_Issued_-_Fiscal_Year_2015.csv',\n",
    "                           usecols=[col_name],\n",
    "                           dtype={col_name:'str'},\n",
    "                           parse_dates=[col_name],\n",
    "                           date_parser=date_parser)\n",
    "\n",
    "        data_2016 = dd.read_csv('./Parking_Violations_Issued_-_Fiscal_Year_2016.csv',\n",
    "                           usecols=[col_name],\n",
    "                           dtype={col_name:'str'},\n",
    "                           parse_dates=[col_name],\n",
    "                           date_parser=date_parser)\n",
    "\n",
    "        data_2017 = dd.read_csv('./Parking_Violations_Issued_-_Fiscal_Year_2017.csv',\n",
    "                           usecols=[col_name],\n",
    "                           dtype={col_name:'str'},\n",
    "                           parse_dates=[col_name],\n",
    "                           date_parser=date_parser)\n",
    "\n",
    "        year_count = defaultdict(int)\n",
    "        month_count = {'January':0,\n",
    "                       'February':0,\n",
    "                       'March':0,\n",
    "                       'April':0,\n",
    "                       'May':0,\n",
    "                       'June':0,\n",
    "                       'July':0,\n",
    "                       'August':0,\n",
    "                       'September':0,\n",
    "                       'October':0,\n",
    "                       'November':0,\n",
    "                       'December':0}\n",
    "\n",
    "\n",
    "        data_13_17 = [data_2013_14,data_2015,data_2016,data_2017]\n",
    "\n",
    "        for data in data_13_17:\n",
    "            for date in data[col_name]:\n",
    "                month_count[date.month_name()] += 1\n",
    "                year_count[str(date.year)] += 1\n",
    "\n",
    "        # month-wise plot\n",
    "        fig_dims = (20, 8)\n",
    "        fig, ax = plt.subplots(figsize=fig_dims)\n",
    "        df_month_count = pd.DataFrame(month_count.items(),columns=['month','frequency'])\n",
    "        sns.barplot(x = \"month\", y = \"frequency\", ax=ax, data=df_month_count)\n",
    "\n",
    "        # year-wise plot\n",
    "        fig_dims = (20, 8)\n",
    "        fig, ax = plt.subplots(figsize=fig_dims)\n",
    "        df_year_count = pd.DataFrame(year_count.items(),columns=['year','frequency'])\n",
    "        sns.barplot(x = \"year\", y = \"frequency\", ax=ax, data=df_year_count)"
   ]
  },
  {
   "cell_type": "code",
   "execution_count": 92,
   "metadata": {},
   "outputs": [
    {
     "data": {
      "image/png": "[encoded data removed]",
      "text/plain": [
       "<Figure size 1440x576 with 1 Axes>"
      ]
     },
     "metadata": {},
     "output_type": "display_data"
    },
    {
     "data": {
      "image/png": "[encoded data removed]",
      "text/plain": [
       "<Figure size 1440x576 with 1 Axes>"
      ]
     },
     "metadata": {},
     "output_type": "display_data"
    }
   ],
   "source": [
    "plotbyDate('Issue Date')"
   ]
  },
  {
   "cell_type": "code",
   "execution_count": 11,
   "metadata": {},
   "outputs": [],
   "source": [
    "def plotbyDate_v1(col_name):\n",
    "    if not(col_name in ['Issue Date','Vehicle Expiration Date','Date First Observed']):\n",
    "        \n",
    "        raise ValueError(\"col_name should be in ['Issue Date','Vehicle Expiration Date','Date First Observed']\")\n",
    "        \n",
    "    else:\n",
    "       \n",
    "        data_2013_14 = dd.read_csv('./Parking_Violations_Issued_-_Fiscal_Year_2014__August_2013___June_2014_.csv',\n",
    "                             usecols=[col_name],\n",
    "                             dtype={col_name:'str'})\n",
    "        \n",
    "        data_2015 = dd.read_csv('./Parking_Violations_Issued_-_Fiscal_Year_2015.csv',\n",
    "                             usecols=[col_name],\n",
    "                             dtype={col_name:'str'})        \n",
    "        \n",
    "        data_2016 = dd.read_csv('./Parking_Violations_Issued_-_Fiscal_Year_2016.csv',\n",
    "                             usecols=[col_name],\n",
    "                             dtype={col_name:'str'})        \n",
    "        \n",
    "        data_2017 = dd.read_csv('./Parking_Violations_Issued_-_Fiscal_Year_2017.csv',\n",
    "                             usecols=[col_name],\n",
    "                             dtype={col_name:'str'})        \n",
    "\n",
    "\n",
    "        year_count = {'13-14' : defaultdict(int),\n",
    "                      '15' : defaultdict(int),\n",
    "                      '16' : defaultdict(int),\n",
    "                      '17' : defaultdict(int)}\n",
    "        \n",
    "        month_count = {'13-14':{'01':0,'02':0,'03':0,'04':0,'05':0,'06':0,'07':0,'08':0,'09':0,'10':0,'11':0,'12':0},\n",
    "                      '15':{'01':0,'02':0,'03':0,'04':0,'05':0,'06':0,'07':0,'08':0,'09':0,'10':0,'11':0,'12':0},\n",
    "                      '16':{'01':0,'02':0,'03':0,'04':0,'05':0,'06':0,'07':0,'08':0,'09':0,'10':0,'11':0,'12':0},\n",
    "                      '17':{'01':0,'02':0,'03':0,'04':0,'05':0,'06':0,'07':0,'08':0,'09':0,'10':0,'11':0,'12':0}}\n",
    "\n",
    "\n",
    "        data_13_17 = {'13-14' : data_2013_14,\n",
    "                      '15' : data_2015,\n",
    "                      '16' : data_2016,\n",
    "                      '17' : data_2017}\n",
    "        \n",
    "        def countData(data,year):\n",
    "            for date in data[col_name]:\n",
    "                breakpoint()\n",
    "                if len(date) < 8 or not(isinstance(date,str)):\n",
    "                        continue\n",
    "                else:\n",
    "                    if date[0:2] == '20':# means date format is yyyymmdd\n",
    "                    try:\n",
    "                        month_count[year][date.split('/')[1]] += 1\n",
    "                        year_count[year][date.split('/')[0]] += 1\n",
    "\n",
    "                    except:\n",
    "                        month_count[year][str(date[4:6])] += 1\n",
    "                        year_count[year][str(date[0:4])] += 1\n",
    "            \n",
    "            \n",
    "                        \n",
    "        for year,data in data_13_17.items() :\n",
    "            countData(data,year)\n",
    "            breakpoint()\n",
    "        \n",
    "#         cum_month_count = {'01':0,'02':0,'03':0,'04':0,'05':0,'06':0,'07':0,'08':0,'09':0,'10':0,'11':0,'12':0}\n",
    "        \n",
    "#         for year in month_count:\n",
    "#             for month in month_count[year]:\n",
    "#                 cum_month_count[month] += month_count[year][month] \n",
    "                \n",
    "        \n",
    "#         #plotting graphs year-wise\n",
    "#         fig, ax = plt.subplots(figsize=(20,8))\n",
    "        \n",
    "#         for year,data in data_13_17.items():\n",
    "#             # month-wise plot\n",
    "#             df_month_count = pd.DataFrame(month_count[year].items(),columns=['month','frequency'])\n",
    "#             sns.barplot(x = \"month\", y = \"frequency\", ax=ax, data=df_month_count)\n",
    "\n",
    "#             # year-wise plot\n",
    "#             df_year_count = pd.DataFrame(year_count[year].items(),columns=['year','frequency'])\n",
    "#             sns.barplot(x = \"year\", y = \"frequency\", ax=ax, data=df_year_count)\n",
    "        \n",
    "#         df_cum_month_count = pd.DataFrame(cum_month_count.items(),columns=['month','frequency'])\n",
    "#         sns.barplot(x=\"month\",y=\"frequency\",ax=ax,data=df_cum_month_count)"
   ]
  },
  {
   "cell_type": "code",
   "execution_count": 12,
   "metadata": {
    "scrolled": true
   },
   "outputs": [
    {
     "name": "stdout",
     "output_type": "stream",
     "text": [
      "> <ipython-input-11-89d4ee45a939>(44)countData()\n",
      "-> if len(date) < 8 or not(isinstance(date,str)):\n",
      "(Pdb) date\n",
      "'08/04/2013'\n",
      "(Pdb) len(date) < 8 or not(isinstance(date,str))\n",
      "False\n",
      "--KeyboardInterrupt--\n",
      "--KeyboardInterrupt--\n",
      "--KeyboardInterrupt--\n",
      "(Pdb) exit()\n"
     ]
    },
    {
     "ename": "BdbQuit",
     "evalue": "",
     "output_type": "error",
     "traceback": [
      "\u001b[0;31m---------------------------------------------------------------------------\u001b[0m",
      "\u001b[0;31mBdbQuit\u001b[0m                                   Traceback (most recent call last)",
      "\u001b[0;32m<ipython-input-12-0336d769ebd9>\u001b[0m in \u001b[0;36m<module>\u001b[0;34m\u001b[0m\n\u001b[0;32m----> 1\u001b[0;31m \u001b[0mplotbyDate_v1\u001b[0m\u001b[0;34m(\u001b[0m\u001b[0;34m'Issue Date'\u001b[0m\u001b[0;34m)\u001b[0m\u001b[0;34m\u001b[0m\u001b[0;34m\u001b[0m\u001b[0m\n\u001b[0m",
      "\u001b[0;32m<ipython-input-11-89d4ee45a939>\u001b[0m in \u001b[0;36mplotbyDate_v1\u001b[0;34m(col_name)\u001b[0m\n\u001b[1;32m     56\u001b[0m \u001b[0;34m\u001b[0m\u001b[0m\n\u001b[1;32m     57\u001b[0m         \u001b[0;32mfor\u001b[0m \u001b[0myear\u001b[0m\u001b[0;34m,\u001b[0m\u001b[0mdata\u001b[0m \u001b[0;32min\u001b[0m \u001b[0mdata_13_17\u001b[0m\u001b[0;34m.\u001b[0m\u001b[0mitems\u001b[0m\u001b[0;34m(\u001b[0m\u001b[0;34m)\u001b[0m \u001b[0;34m:\u001b[0m\u001b[0;34m\u001b[0m\u001b[0;34m\u001b[0m\u001b[0m\n\u001b[0;32m---> 58\u001b[0;31m             \u001b[0mcountData\u001b[0m\u001b[0;34m(\u001b[0m\u001b[0mdata\u001b[0m\u001b[0;34m,\u001b[0m\u001b[0myear\u001b[0m\u001b[0;34m)\u001b[0m\u001b[0;34m\u001b[0m\u001b[0;34m\u001b[0m\u001b[0m\n\u001b[0m\u001b[1;32m     59\u001b[0m             \u001b[0mbreakpoint\u001b[0m\u001b[0;34m(\u001b[0m\u001b[0;34m)\u001b[0m\u001b[0;34m\u001b[0m\u001b[0;34m\u001b[0m\u001b[0m\n\u001b[1;32m     60\u001b[0m \u001b[0;34m\u001b[0m\u001b[0m\n",
      "\u001b[0;32m<ipython-input-11-89d4ee45a939>\u001b[0m in \u001b[0;36mcountData\u001b[0;34m(data, year)\u001b[0m\n\u001b[1;32m     42\u001b[0m             \u001b[0;32mfor\u001b[0m \u001b[0mdate\u001b[0m \u001b[0;32min\u001b[0m \u001b[0mdata\u001b[0m\u001b[0;34m[\u001b[0m\u001b[0mcol_name\u001b[0m\u001b[0;34m]\u001b[0m\u001b[0;34m:\u001b[0m\u001b[0;34m\u001b[0m\u001b[0;34m\u001b[0m\u001b[0m\n\u001b[1;32m     43\u001b[0m                 \u001b[0mbreakpoint\u001b[0m\u001b[0;34m(\u001b[0m\u001b[0;34m)\u001b[0m\u001b[0;34m\u001b[0m\u001b[0;34m\u001b[0m\u001b[0m\n\u001b[0;32m---> 44\u001b[0;31m                 \u001b[0;32mif\u001b[0m \u001b[0mlen\u001b[0m\u001b[0;34m(\u001b[0m\u001b[0mdate\u001b[0m\u001b[0;34m)\u001b[0m \u001b[0;34m<\u001b[0m \u001b[0;36m8\u001b[0m \u001b[0;32mor\u001b[0m \u001b[0;32mnot\u001b[0m\u001b[0;34m(\u001b[0m\u001b[0misinstance\u001b[0m\u001b[0;34m(\u001b[0m\u001b[0mdate\u001b[0m\u001b[0;34m,\u001b[0m\u001b[0mstr\u001b[0m\u001b[0;34m)\u001b[0m\u001b[0;34m)\u001b[0m\u001b[0;34m:\u001b[0m\u001b[0;34m\u001b[0m\u001b[0;34m\u001b[0m\u001b[0m\n\u001b[0m\u001b[1;32m     45\u001b[0m                         \u001b[0;32mcontinue\u001b[0m\u001b[0;34m\u001b[0m\u001b[0;34m\u001b[0m\u001b[0m\n\u001b[1;32m     46\u001b[0m                 \u001b[0;32melse\u001b[0m\u001b[0;34m:\u001b[0m\u001b[0;34m\u001b[0m\u001b[0;34m\u001b[0m\u001b[0m\n",
      "\u001b[0;32m<ipython-input-11-89d4ee45a939>\u001b[0m in \u001b[0;36mcountData\u001b[0;34m(data, year)\u001b[0m\n\u001b[1;32m     42\u001b[0m             \u001b[0;32mfor\u001b[0m \u001b[0mdate\u001b[0m \u001b[0;32min\u001b[0m \u001b[0mdata\u001b[0m\u001b[0;34m[\u001b[0m\u001b[0mcol_name\u001b[0m\u001b[0;34m]\u001b[0m\u001b[0;34m:\u001b[0m\u001b[0;34m\u001b[0m\u001b[0;34m\u001b[0m\u001b[0m\n\u001b[1;32m     43\u001b[0m                 \u001b[0mbreakpoint\u001b[0m\u001b[0;34m(\u001b[0m\u001b[0;34m)\u001b[0m\u001b[0;34m\u001b[0m\u001b[0;34m\u001b[0m\u001b[0m\n\u001b[0;32m---> 44\u001b[0;31m                 \u001b[0;32mif\u001b[0m \u001b[0mlen\u001b[0m\u001b[0;34m(\u001b[0m\u001b[0mdate\u001b[0m\u001b[0;34m)\u001b[0m \u001b[0;34m<\u001b[0m \u001b[0;36m8\u001b[0m \u001b[0;32mor\u001b[0m \u001b[0;32mnot\u001b[0m\u001b[0;34m(\u001b[0m\u001b[0misinstance\u001b[0m\u001b[0;34m(\u001b[0m\u001b[0mdate\u001b[0m\u001b[0;34m,\u001b[0m\u001b[0mstr\u001b[0m\u001b[0;34m)\u001b[0m\u001b[0;34m)\u001b[0m\u001b[0;34m:\u001b[0m\u001b[0;34m\u001b[0m\u001b[0;34m\u001b[0m\u001b[0m\n\u001b[0m\u001b[1;32m     45\u001b[0m                         \u001b[0;32mcontinue\u001b[0m\u001b[0;34m\u001b[0m\u001b[0;34m\u001b[0m\u001b[0m\n\u001b[1;32m     46\u001b[0m                 \u001b[0;32melse\u001b[0m\u001b[0;34m:\u001b[0m\u001b[0;34m\u001b[0m\u001b[0;34m\u001b[0m\u001b[0m\n",
      "\u001b[0;32m~/miniconda3/envs/anishka/lib/python3.8/bdb.py\u001b[0m in \u001b[0;36mtrace_dispatch\u001b[0;34m(self, frame, event, arg)\u001b[0m\n\u001b[1;32m     86\u001b[0m             \u001b[0;32mreturn\u001b[0m \u001b[0;31m# None\u001b[0m\u001b[0;34m\u001b[0m\u001b[0;34m\u001b[0m\u001b[0m\n\u001b[1;32m     87\u001b[0m         \u001b[0;32mif\u001b[0m \u001b[0mevent\u001b[0m \u001b[0;34m==\u001b[0m \u001b[0;34m'line'\u001b[0m\u001b[0;34m:\u001b[0m\u001b[0;34m\u001b[0m\u001b[0;34m\u001b[0m\u001b[0m\n\u001b[0;32m---> 88\u001b[0;31m             \u001b[0;32mreturn\u001b[0m \u001b[0mself\u001b[0m\u001b[0;34m.\u001b[0m\u001b[0mdispatch_line\u001b[0m\u001b[0;34m(\u001b[0m\u001b[0mframe\u001b[0m\u001b[0;34m)\u001b[0m\u001b[0;34m\u001b[0m\u001b[0;34m\u001b[0m\u001b[0m\n\u001b[0m\u001b[1;32m     89\u001b[0m         \u001b[0;32mif\u001b[0m \u001b[0mevent\u001b[0m \u001b[0;34m==\u001b[0m \u001b[0;34m'call'\u001b[0m\u001b[0;34m:\u001b[0m\u001b[0;34m\u001b[0m\u001b[0;34m\u001b[0m\u001b[0m\n\u001b[1;32m     90\u001b[0m             \u001b[0;32mreturn\u001b[0m \u001b[0mself\u001b[0m\u001b[0;34m.\u001b[0m\u001b[0mdispatch_call\u001b[0m\u001b[0;34m(\u001b[0m\u001b[0mframe\u001b[0m\u001b[0;34m,\u001b[0m \u001b[0marg\u001b[0m\u001b[0;34m)\u001b[0m\u001b[0;34m\u001b[0m\u001b[0;34m\u001b[0m\u001b[0m\n",
      "\u001b[0;32m~/miniconda3/envs/anishka/lib/python3.8/bdb.py\u001b[0m in \u001b[0;36mdispatch_line\u001b[0;34m(self, frame)\u001b[0m\n\u001b[1;32m    111\u001b[0m         \u001b[0;32mif\u001b[0m \u001b[0mself\u001b[0m\u001b[0;34m.\u001b[0m\u001b[0mstop_here\u001b[0m\u001b[0;34m(\u001b[0m\u001b[0mframe\u001b[0m\u001b[0;34m)\u001b[0m \u001b[0;32mor\u001b[0m \u001b[0mself\u001b[0m\u001b[0;34m.\u001b[0m\u001b[0mbreak_here\u001b[0m\u001b[0;34m(\u001b[0m\u001b[0mframe\u001b[0m\u001b[0;34m)\u001b[0m\u001b[0;34m:\u001b[0m\u001b[0;34m\u001b[0m\u001b[0;34m\u001b[0m\u001b[0m\n\u001b[1;32m    112\u001b[0m             \u001b[0mself\u001b[0m\u001b[0;34m.\u001b[0m\u001b[0muser_line\u001b[0m\u001b[0;34m(\u001b[0m\u001b[0mframe\u001b[0m\u001b[0;34m)\u001b[0m\u001b[0;34m\u001b[0m\u001b[0;34m\u001b[0m\u001b[0m\n\u001b[0;32m--> 113\u001b[0;31m             \u001b[0;32mif\u001b[0m \u001b[0mself\u001b[0m\u001b[0;34m.\u001b[0m\u001b[0mquitting\u001b[0m\u001b[0;34m:\u001b[0m \u001b[0;32mraise\u001b[0m \u001b[0mBdbQuit\u001b[0m\u001b[0;34m\u001b[0m\u001b[0;34m\u001b[0m\u001b[0m\n\u001b[0m\u001b[1;32m    114\u001b[0m         \u001b[0;32mreturn\u001b[0m \u001b[0mself\u001b[0m\u001b[0;34m.\u001b[0m\u001b[0mtrace_dispatch\u001b[0m\u001b[0;34m\u001b[0m\u001b[0;34m\u001b[0m\u001b[0m\n\u001b[1;32m    115\u001b[0m \u001b[0;34m\u001b[0m\u001b[0m\n",
      "\u001b[0;31mBdbQuit\u001b[0m: "
     ]
    }
   ],
   "source": [
    "plotbyDate_v1('Issue Date')"
   ]
  },
  {
   "cell_type": "code",
   "execution_count": 14,
   "metadata": {},
   "outputs": [
    {
     "data": {
      "text/plain": [
       "'as'"
      ]
     },
     "execution_count": 14,
     "metadata": {},
     "output_type": "execute_result"
    }
   ],
   "source": [
    "string = 'asc'\n",
    "string[0:2]"
   ]
  },
  {
   "cell_type": "code",
   "execution_count": 180,
   "metadata": {},
   "outputs": [
    {
     "name": "stdout",
     "output_type": "stream",
     "text": [
      "08042013\n",
      "08042013\n"
     ]
    }
   ],
   "source": [
    "mystr = '08042013'\n",
    "print(mystr.replace('/',''))\n",
    "print(mystr)"
   ]
  },
  {
   "cell_type": "code",
   "execution_count": 183,
   "metadata": {},
   "outputs": [
    {
     "ename": "TypeError",
     "evalue": "must be real number, not str",
     "output_type": "error",
     "traceback": [
      "\u001b[0;31m---------------------------------------------------------------------------\u001b[0m",
      "\u001b[0;31mTypeError\u001b[0m                                 Traceback (most recent call last)",
      "\u001b[0;32m<ipython-input-183-8bd0ad52fed6>\u001b[0m in \u001b[0;36m<module>\u001b[0;34m\u001b[0m\n\u001b[1;32m      1\u001b[0m \u001b[0mx\u001b[0m \u001b[0;34m=\u001b[0m \u001b[0mfloat\u001b[0m\u001b[0;34m(\u001b[0m\u001b[0;34m'nan'\u001b[0m\u001b[0;34m)\u001b[0m\u001b[0;34m\u001b[0m\u001b[0;34m\u001b[0m\u001b[0m\n\u001b[0;32m----> 2\u001b[0;31m \u001b[0mmath\u001b[0m\u001b[0;34m.\u001b[0m\u001b[0misnan\u001b[0m\u001b[0;34m(\u001b[0m\u001b[0;34m'08/04/2013'\u001b[0m\u001b[0;34m)\u001b[0m\u001b[0;34m\u001b[0m\u001b[0;34m\u001b[0m\u001b[0m\n\u001b[0m",
      "\u001b[0;31mTypeError\u001b[0m: must be real number, not str"
     ]
    }
   ],
   "source": [
    "x = float('nan')\n",
    "math.isnan('08/04/2013'.replace('/'))"
   ]
  },
  {
   "cell_type": "code",
   "execution_count": 119,
   "metadata": {},
   "outputs": [
    {
     "data": {
      "text/plain": [
       "<matplotlib.axes._subplots.AxesSubplot at 0x7f729c7ccbe0>"
      ]
     },
     "execution_count": 119,
     "metadata": {},
     "output_type": "execute_result"
    },
    {
     "data": {
      "image/png": "[encoded data removed]",
      "text/plain": [
       "<Figure size 1440x576 with 1 Axes>"
      ]
     },
     "metadata": {},
     "output_type": "display_data"
    },
    {
     "data": {
      "image/png": "[encoded data removed]",
      "text/plain": [
       "<Figure size 1440x576 with 1 Axes>"
      ]
     },
     "metadata": {},
     "output_type": "display_data"
    }
   ],
   "source": [
    "col_name = 'Date First Observed'\n",
    "data_2013_14 = dd.read_csv('./Parking_Violations_Issued_-_Fiscal_Year_2014__August_2013___June_2014_.csv',\n",
    "                             usecols=[col_name],\n",
    "                             dtype={col_name:'str'})\n",
    "\n",
    "\n",
    "year_count = defaultdict(int)\n",
    "\n",
    "month_count = {'01':0,\n",
    "               '02':0,\n",
    "               '03':0,\n",
    "               '04':0,\n",
    "               '05':0,\n",
    "               '06':0,\n",
    "               '07':0,\n",
    "               '08':0,\n",
    "               '09':0,\n",
    "               '10':0,\n",
    "               '11':0,\n",
    "               '12':0}\n",
    "\n",
    "\n",
    "\n",
    "\n",
    "for date in data_2013_14[col_name]:\n",
    "    if date == '0' or math.isnan(float(date)):\n",
    "        continue\n",
    "    else:\n",
    "        month_count[str(date[4:6])] += 1\n",
    "        year_count[str(date[0:4])] += 1\n",
    "\n",
    "# # month-wise plot\n",
    "fig_dims = (20, 8)\n",
    "fig, ax = plt.subplots(figsize=fig_dims)\n",
    "df_month_count = pd.DataFrame(month_count.items(),columns=['month','frequency'])\n",
    "sns.barplot(x = \"month\", y = \"frequency\", ax=ax, data=df_month_count)\n",
    "\n",
    "# # year-wise plot\n",
    "fig_dims = (20, 8)\n",
    "fig, ax = plt.subplots(figsize=fig_dims)\n",
    "df_year_count = pd.DataFrame(year_count.items(),columns=['year','frequency'])\n",
    "sns.barplot(x = \"year\", y = \"frequency\", ax=ax, data=df_year_count)"
   ]
  },
  {
   "cell_type": "code",
   "execution_count": 95,
   "metadata": {},
   "outputs": [
    {
     "data": {
      "text/html": [
       "<div>\n",
       "<style scoped>\n",
       "    .dataframe tbody tr th:only-of-type {\n",
       "        vertical-align: middle;\n",
       "    }\n",
       "\n",
       "    .dataframe tbody tr th {\n",
       "        vertical-align: top;\n",
       "    }\n",
       "\n",
       "    .dataframe thead th {\n",
       "        text-align: right;\n",
       "    }\n",
       "</style>\n",
       "<table border=\"1\" class=\"dataframe\">\n",
       "  <thead>\n",
       "    <tr style=\"text-align: right;\">\n",
       "      <th></th>\n",
       "      <th>Date First Observed</th>\n",
       "    </tr>\n",
       "  </thead>\n",
       "  <tbody>\n",
       "    <tr>\n",
       "      <th>0</th>\n",
       "      <td>0</td>\n",
       "    </tr>\n",
       "    <tr>\n",
       "      <th>1</th>\n",
       "      <td>0</td>\n",
       "    </tr>\n",
       "    <tr>\n",
       "      <th>2</th>\n",
       "      <td>0</td>\n",
       "    </tr>\n",
       "    <tr>\n",
       "      <th>3</th>\n",
       "      <td>0</td>\n",
       "    </tr>\n",
       "    <tr>\n",
       "      <th>4</th>\n",
       "      <td>0</td>\n",
       "    </tr>\n",
       "  </tbody>\n",
       "</table>\n",
       "</div>"
      ],
      "text/plain": [
       "  Date First Observed\n",
       "0                   0\n",
       "1                   0\n",
       "2                   0\n",
       "3                   0\n",
       "4                   0"
      ]
     },
     "execution_count": 95,
     "metadata": {},
     "output_type": "execute_result"
    }
   ],
   "source": [
    "data_2013_14.head()"
   ]
  },
  {
   "cell_type": "code",
   "execution_count": 101,
   "metadata": {},
   "outputs": [],
   "source": [
    "date_types = set()\n",
    "for date in data_2013_14['Date First Observed']:\n",
    "    date_types.add(date)\n",
    "    "
   ]
  },
  {
   "cell_type": "code",
   "execution_count": 103,
   "metadata": {
    "collapsed": true,
    "jupyter": {
     "outputs_hidden": true
    },
    "tags": []
   },
   "outputs": [
    {
     "data": {
      "text/plain": [
       "{'0',\n",
       " '20030101',\n",
       " '20030121',\n",
       " '20030305',\n",
       " '20031220',\n",
       " '20040203',\n",
       " '20060701',\n",
       " '20100505',\n",
       " '20100509',\n",
       " '20101201',\n",
       " '20110111',\n",
       " '20110227',\n",
       " '20110314',\n",
       " '20110321',\n",
       " '20110404',\n",
       " '20110425',\n",
       " '20110507',\n",
       " '20110512',\n",
       " '20120312',\n",
       " '20120609',\n",
       " '20120722',\n",
       " '20120804',\n",
       " '20120916',\n",
       " '20121006',\n",
       " '20121025',\n",
       " '20121102',\n",
       " '20121112',\n",
       " '20121131',\n",
       " '20121212',\n",
       " '20130103',\n",
       " '20130105',\n",
       " '20130106',\n",
       " '20130107',\n",
       " '20130108',\n",
       " '20130109',\n",
       " '20130110',\n",
       " '20130111',\n",
       " '20130114',\n",
       " '20130115',\n",
       " '20130116',\n",
       " '20130117',\n",
       " '20130119',\n",
       " '20130121',\n",
       " '20130122',\n",
       " '20130123',\n",
       " '20130125',\n",
       " '20130126',\n",
       " '20130130',\n",
       " '20130131',\n",
       " '20130202',\n",
       " '20130221',\n",
       " '20130222',\n",
       " '20130227',\n",
       " '20130313',\n",
       " '20130317',\n",
       " '20130324',\n",
       " '20130330',\n",
       " '20130403',\n",
       " '20130407',\n",
       " '20130412',\n",
       " '20130415',\n",
       " '20130416',\n",
       " '20130417',\n",
       " '20130423',\n",
       " '20130427',\n",
       " '20130428',\n",
       " '20130501',\n",
       " '20130503',\n",
       " '20130506',\n",
       " '20130508',\n",
       " '20130514',\n",
       " '20130518',\n",
       " '20130527',\n",
       " '20130529',\n",
       " '20130602',\n",
       " '20130604',\n",
       " '20130605',\n",
       " '20130606',\n",
       " '20130609',\n",
       " '20130610',\n",
       " '20130611',\n",
       " '20130613',\n",
       " '20130617',\n",
       " '20130619',\n",
       " '20130621',\n",
       " '20130622',\n",
       " '20130624',\n",
       " '20130625',\n",
       " '20130626',\n",
       " '20130627',\n",
       " '20130628',\n",
       " '20130629',\n",
       " '20130630',\n",
       " '20130701',\n",
       " '20130702',\n",
       " '20130703',\n",
       " '20130704',\n",
       " '20130705',\n",
       " '20130706',\n",
       " '20130707',\n",
       " '20130708',\n",
       " '20130709',\n",
       " '20130710',\n",
       " '20130711',\n",
       " '20130712',\n",
       " '20130713',\n",
       " '20130714',\n",
       " '20130715',\n",
       " '20130716',\n",
       " '20130717',\n",
       " '20130718',\n",
       " '20130719',\n",
       " '20130720',\n",
       " '20130721',\n",
       " '20130722',\n",
       " '20130723',\n",
       " '20130724',\n",
       " '20130725',\n",
       " '20130726',\n",
       " '20130727',\n",
       " '20130728',\n",
       " '20130729',\n",
       " '20130730',\n",
       " '20130731',\n",
       " '20130801',\n",
       " '20130802',\n",
       " '20130803',\n",
       " '20130804',\n",
       " '20130805',\n",
       " '20130806',\n",
       " '20130807',\n",
       " '20130808',\n",
       " '20130809',\n",
       " '20130810',\n",
       " '20130811',\n",
       " '20130812',\n",
       " '20130813',\n",
       " '20130814',\n",
       " '20130815',\n",
       " '20130816',\n",
       " '20130817',\n",
       " '20130818',\n",
       " '20130819',\n",
       " '20130820',\n",
       " '20130821',\n",
       " '20130822',\n",
       " '20130823',\n",
       " '20130824',\n",
       " '20130825',\n",
       " '20130826',\n",
       " '20130827',\n",
       " '20130828',\n",
       " '20130829',\n",
       " '20130830',\n",
       " '20130831',\n",
       " '20130901',\n",
       " '20130902',\n",
       " '20130903',\n",
       " '20130904',\n",
       " '20130905',\n",
       " '20130906',\n",
       " '20130907',\n",
       " '20130908',\n",
       " '20130909',\n",
       " '20130910',\n",
       " '20130911',\n",
       " '20130912',\n",
       " '20130913',\n",
       " '20130914',\n",
       " '20130915',\n",
       " '20130916',\n",
       " '20130917',\n",
       " '20130918',\n",
       " '20130919',\n",
       " '20130920',\n",
       " '20130921',\n",
       " '20130922',\n",
       " '20130923',\n",
       " '20130924',\n",
       " '20130925',\n",
       " '20130926',\n",
       " '20130927',\n",
       " '20130928',\n",
       " '20130929',\n",
       " '20130930',\n",
       " '20131001',\n",
       " '20131002',\n",
       " '20131003',\n",
       " '20131004',\n",
       " '20131005',\n",
       " '20131006',\n",
       " '20131007',\n",
       " '20131008',\n",
       " '20131009',\n",
       " '20131010',\n",
       " '20131011',\n",
       " '20131012',\n",
       " '20131013',\n",
       " '20131014',\n",
       " '20131015',\n",
       " '20131016',\n",
       " '20131017',\n",
       " '20131018',\n",
       " '20131019',\n",
       " '20131020',\n",
       " '20131021',\n",
       " '20131022',\n",
       " '20131023',\n",
       " '20131024',\n",
       " '20131025',\n",
       " '20131026',\n",
       " '20131027',\n",
       " '20131028',\n",
       " '20131029',\n",
       " '20131030',\n",
       " '20131031',\n",
       " '20131101',\n",
       " '20131102',\n",
       " '20131103',\n",
       " '20131104',\n",
       " '20131105',\n",
       " '20131106',\n",
       " '20131107',\n",
       " '20131108',\n",
       " '20131109',\n",
       " '20131110',\n",
       " '20131111',\n",
       " '20131112',\n",
       " '20131113',\n",
       " '20131114',\n",
       " '20131115',\n",
       " '20131116',\n",
       " '20131117',\n",
       " '20131118',\n",
       " '20131119',\n",
       " '20131120',\n",
       " '20131121',\n",
       " '20131122',\n",
       " '20131123',\n",
       " '20131124',\n",
       " '20131125',\n",
       " '20131126',\n",
       " '20131127',\n",
       " '20131128',\n",
       " '20131129',\n",
       " '20131130',\n",
       " '20131201',\n",
       " '20131202',\n",
       " '20131203',\n",
       " '20131204',\n",
       " '20131205',\n",
       " '20131206',\n",
       " '20131207',\n",
       " '20131208',\n",
       " '20131209',\n",
       " '20131210',\n",
       " '20131211',\n",
       " '20131212',\n",
       " '20131213',\n",
       " '20131214',\n",
       " '20131215',\n",
       " '20131216',\n",
       " '20131217',\n",
       " '20131218',\n",
       " '20131219',\n",
       " '20131220',\n",
       " '20131221',\n",
       " '20131222',\n",
       " '20131223',\n",
       " '20131224',\n",
       " '20131225',\n",
       " '20131226',\n",
       " '20131227',\n",
       " '20131228',\n",
       " '20131229',\n",
       " '20131230',\n",
       " '20131231',\n",
       " '20140101',\n",
       " '20140102',\n",
       " '20140103',\n",
       " '20140104',\n",
       " '20140105',\n",
       " '20140106',\n",
       " '20140107',\n",
       " '20140108',\n",
       " '20140109',\n",
       " '20140110',\n",
       " '20140111',\n",
       " '20140112',\n",
       " '20140113',\n",
       " '20140114',\n",
       " '20140115',\n",
       " '20140116',\n",
       " '20140117',\n",
       " '20140118',\n",
       " '20140119',\n",
       " '20140120',\n",
       " '20140121',\n",
       " '20140122',\n",
       " '20140123',\n",
       " '20140124',\n",
       " '20140125',\n",
       " '20140126',\n",
       " '20140127',\n",
       " '20140128',\n",
       " '20140129',\n",
       " '20140130',\n",
       " '20140131',\n",
       " '20140201',\n",
       " '20140202',\n",
       " '20140203',\n",
       " '20140204',\n",
       " '20140205',\n",
       " '20140206',\n",
       " '20140207',\n",
       " '20140208',\n",
       " '20140209',\n",
       " '20140210',\n",
       " '20140211',\n",
       " '20140212',\n",
       " '20140213',\n",
       " '20140214',\n",
       " '20140215',\n",
       " '20140216',\n",
       " '20140217',\n",
       " '20140218',\n",
       " '20140219',\n",
       " '20140220',\n",
       " '20140221',\n",
       " '20140222',\n",
       " '20140223',\n",
       " '20140224',\n",
       " '20140225',\n",
       " '20140226',\n",
       " '20140227',\n",
       " '20140228',\n",
       " '20140301',\n",
       " '20140302',\n",
       " '20140303',\n",
       " '20140304',\n",
       " '20140305',\n",
       " '20140306',\n",
       " '20140307',\n",
       " '20140308',\n",
       " '20140309',\n",
       " '20140310',\n",
       " '20140311',\n",
       " '20140312',\n",
       " '20140313',\n",
       " '20140314',\n",
       " '20140315',\n",
       " '20140316',\n",
       " '20140317',\n",
       " '20140318',\n",
       " '20140319',\n",
       " '20140320',\n",
       " '20140321',\n",
       " '20140322',\n",
       " '20140323',\n",
       " '20140324',\n",
       " '20140325',\n",
       " '20140326',\n",
       " '20140327',\n",
       " '20140328',\n",
       " '20140329',\n",
       " '20140330',\n",
       " '20140331',\n",
       " '20140401',\n",
       " '20140402',\n",
       " '20140403',\n",
       " '20140404',\n",
       " '20140405',\n",
       " '20140406',\n",
       " '20140407',\n",
       " '20140408',\n",
       " '20140409',\n",
       " '20140410',\n",
       " '20140411',\n",
       " '20140412',\n",
       " '20140413',\n",
       " '20140414',\n",
       " '20140415',\n",
       " '20140416',\n",
       " '20140417',\n",
       " '20140418',\n",
       " '20140419',\n",
       " '20140420',\n",
       " '20140421',\n",
       " '20140422',\n",
       " '20140423',\n",
       " '20140424',\n",
       " '20140425',\n",
       " '20140426',\n",
       " '20140427',\n",
       " '20140428',\n",
       " '20140429',\n",
       " '20140430',\n",
       " '20140431',\n",
       " '20140501',\n",
       " '20140502',\n",
       " '20140503',\n",
       " '20140504',\n",
       " '20140505',\n",
       " '20140506',\n",
       " '20140507',\n",
       " '20140508',\n",
       " '20140509',\n",
       " '20140510',\n",
       " '20140511',\n",
       " '20140512',\n",
       " '20140513',\n",
       " '20140514',\n",
       " '20140515',\n",
       " '20140516',\n",
       " '20140517',\n",
       " '20140518',\n",
       " '20140519',\n",
       " '20140520',\n",
       " '20140521',\n",
       " '20140522',\n",
       " '20140523',\n",
       " '20140524',\n",
       " '20140525',\n",
       " '20140526',\n",
       " '20140527',\n",
       " '20140528',\n",
       " '20140529',\n",
       " '20140530',\n",
       " '20140531',\n",
       " '20140601',\n",
       " '20140602',\n",
       " '20140603',\n",
       " '20140604',\n",
       " '20140605',\n",
       " '20140606',\n",
       " '20140607',\n",
       " '20140608',\n",
       " '20140609',\n",
       " '20140610',\n",
       " '20140611',\n",
       " '20140612',\n",
       " '20140613',\n",
       " '20140614',\n",
       " '20140615',\n",
       " '20140616',\n",
       " '20140617',\n",
       " '20140618',\n",
       " '20140619',\n",
       " '20140620',\n",
       " '20140621',\n",
       " '20140622',\n",
       " '20140623',\n",
       " '20140624',\n",
       " '20140625',\n",
       " '20140702',\n",
       " '20140704',\n",
       " '20140706',\n",
       " '20140707',\n",
       " '20140708',\n",
       " '20140710',\n",
       " '20140719',\n",
       " '20140725',\n",
       " '20140727',\n",
       " '20140728',\n",
       " '20140806',\n",
       " '20140807',\n",
       " '20140810',\n",
       " '20140812',\n",
       " '20140815',\n",
       " '20140822',\n",
       " '20140830',\n",
       " '20140903',\n",
       " '20140907',\n",
       " '20140914',\n",
       " '20140916',\n",
       " '20140918',\n",
       " '20140923',\n",
       " '20140928',\n",
       " '20140930',\n",
       " '20141007',\n",
       " '20141015',\n",
       " '20141016',\n",
       " '20141018',\n",
       " '20141023',\n",
       " '20141030',\n",
       " '20141102',\n",
       " '20141107',\n",
       " '20141108',\n",
       " '20141111',\n",
       " '20141112',\n",
       " '20141113',\n",
       " '20141115',\n",
       " '20141116',\n",
       " '20141130',\n",
       " '20141204',\n",
       " '20141208',\n",
       " '20141209',\n",
       " '20141217',\n",
       " '20141227',\n",
       " '20150105',\n",
       " '20150127',\n",
       " '20150204',\n",
       " '20150317',\n",
       " '20150325',\n",
       " '20150326',\n",
       " '20150409',\n",
       " '20150504',\n",
       " '20150507',\n",
       " '20150511',\n",
       " '20150514',\n",
       " '20150523',\n",
       " '20150525',\n",
       " '20150530',\n",
       " '20150606',\n",
       " '20150617',\n",
       " '20150620',\n",
       " '20150711',\n",
       " '20150813',\n",
       " '20150903',\n",
       " '20150908',\n",
       " '20150909',\n",
       " '20150923',\n",
       " '20150925',\n",
       " '20151010',\n",
       " '20151022',\n",
       " '20151025',\n",
       " '20151105',\n",
       " '20151114',\n",
       " '20151125',\n",
       " '20151208',\n",
       " '20160115',\n",
       " '20160216',\n",
       " '20160319',\n",
       " '20160718',\n",
       " '20161009',\n",
       " '20170312',\n",
       " '20170429',\n",
       " '20170926',\n",
       " '20171009',\n",
       " '20171011',\n",
       " '20171019',\n",
       " '20171119',\n",
       " '20171120',\n",
       " '20171125',\n",
       " '20180212',\n",
       " '20180403',\n",
       " '20190511',\n",
       " '20190620',\n",
       " '20190820',\n",
       " '20190823',\n",
       " '20200320',\n",
       " '20210902',\n",
       " '20230921',\n",
       " '20241125',\n",
       " '20270727',\n",
       " '20310801',\n",
       " '20310803',\n",
       " '20310906',\n",
       " '20311031',\n",
       " nan}"
      ]
     },
     "execution_count": 103,
     "metadata": {},
     "output_type": "execute_result"
    }
   ],
   "source": [
    "date_types"
   ]
  },
  {
   "cell_type": "code",
   "execution_count": 116,
   "metadata": {},
   "outputs": [
    {
     "data": {
      "text/plain": [
       "True"
      ]
     },
     "execution_count": 116,
     "metadata": {},
     "output_type": "execute_result"
    }
   ],
   "source": [
    "'0' in date_types"
   ]
  },
  {
   "cell_type": "code",
   "execution_count": 114,
   "metadata": {},
   "outputs": [
    {
     "data": {
      "text/plain": [
       "False"
      ]
     },
     "execution_count": 114,
     "metadata": {},
     "output_type": "execute_result"
    }
   ],
   "source": [
    "math.isnan(7)"
   ]
  },
  {
   "cell_type": "code",
   "execution_count": 93,
   "metadata": {
    "scrolled": true
   },
   "outputs": [
    {
     "ename": "ValueError",
     "evalue": "time data '0' does not match format '%m/%d/%Y'",
     "output_type": "error",
     "traceback": [
      "\u001b[0;31m---------------------------------------------------------------------------\u001b[0m",
      "\u001b[0;31mTypeError\u001b[0m                                 Traceback (most recent call last)",
      "\u001b[0;32m~/miniconda3/envs/anishka/lib/python3.8/site-packages/pandas/io/parsers.py\u001b[0m in \u001b[0;36mconverter\u001b[0;34m(*date_cols)\u001b[0m\n\u001b[1;32m   3236\u001b[0m                 result = tools.to_datetime(\n\u001b[0;32m-> 3237\u001b[0;31m                     \u001b[0mdate_parser\u001b[0m\u001b[0;34m(\u001b[0m\u001b[0;34m*\u001b[0m\u001b[0mdate_cols\u001b[0m\u001b[0;34m)\u001b[0m\u001b[0;34m,\u001b[0m \u001b[0merrors\u001b[0m\u001b[0;34m=\u001b[0m\u001b[0;34m\"ignore\"\u001b[0m\u001b[0;34m,\u001b[0m \u001b[0mcache\u001b[0m\u001b[0;34m=\u001b[0m\u001b[0mcache_dates\u001b[0m\u001b[0;34m\u001b[0m\u001b[0;34m\u001b[0m\u001b[0m\n\u001b[0m\u001b[1;32m   3238\u001b[0m                 )\n",
      "\u001b[0;32m<ipython-input-91-46f8b4e4369d>\u001b[0m in \u001b[0;36m<lambda>\u001b[0;34m(x)\u001b[0m\n\u001b[1;32m      5\u001b[0m \u001b[0;34m\u001b[0m\u001b[0m\n\u001b[0;32m----> 6\u001b[0;31m         \u001b[0mdate_parser\u001b[0m \u001b[0;34m=\u001b[0m \u001b[0;32mlambda\u001b[0m \u001b[0mx\u001b[0m\u001b[0;34m:\u001b[0m \u001b[0mdatetime\u001b[0m\u001b[0;34m.\u001b[0m\u001b[0mstrptime\u001b[0m\u001b[0;34m(\u001b[0m\u001b[0mx\u001b[0m\u001b[0;34m,\u001b[0m \u001b[0;34m\"%m/%d/%Y\"\u001b[0m\u001b[0;34m)\u001b[0m\u001b[0;34m\u001b[0m\u001b[0;34m\u001b[0m\u001b[0m\n\u001b[0m\u001b[1;32m      7\u001b[0m \u001b[0;34m\u001b[0m\u001b[0m\n",
      "\u001b[0;31mTypeError\u001b[0m: strptime() argument 1 must be str, not numpy.ndarray",
      "\nDuring handling of the above exception, another exception occurred:\n",
      "\u001b[0;31mValueError\u001b[0m                                Traceback (most recent call last)",
      "\u001b[0;32m~/miniconda3/envs/anishka/lib/python3.8/site-packages/pandas/io/parsers.py\u001b[0m in \u001b[0;36mconverter\u001b[0;34m(*date_cols)\u001b[0m\n\u001b[1;32m   3244\u001b[0m                     return tools.to_datetime(\n\u001b[0;32m-> 3245\u001b[0;31m                         parsing.try_parse_dates(\n\u001b[0m\u001b[1;32m   3246\u001b[0m                             \u001b[0mparsing\u001b[0m\u001b[0;34m.\u001b[0m\u001b[0m_concat_date_cols\u001b[0m\u001b[0;34m(\u001b[0m\u001b[0mdate_cols\u001b[0m\u001b[0;34m)\u001b[0m\u001b[0;34m,\u001b[0m\u001b[0;34m\u001b[0m\u001b[0;34m\u001b[0m\u001b[0m\n",
      "\u001b[0;32mpandas/_libs/tslibs/parsing.pyx\u001b[0m in \u001b[0;36mpandas._libs.tslibs.parsing.try_parse_dates\u001b[0;34m()\u001b[0m\n",
      "\u001b[0;32m<ipython-input-91-46f8b4e4369d>\u001b[0m in \u001b[0;36m<lambda>\u001b[0;34m(x)\u001b[0m\n\u001b[1;32m      5\u001b[0m \u001b[0;34m\u001b[0m\u001b[0m\n\u001b[0;32m----> 6\u001b[0;31m         \u001b[0mdate_parser\u001b[0m \u001b[0;34m=\u001b[0m \u001b[0;32mlambda\u001b[0m \u001b[0mx\u001b[0m\u001b[0;34m:\u001b[0m \u001b[0mdatetime\u001b[0m\u001b[0;34m.\u001b[0m\u001b[0mstrptime\u001b[0m\u001b[0;34m(\u001b[0m\u001b[0mx\u001b[0m\u001b[0;34m,\u001b[0m \u001b[0;34m\"%m/%d/%Y\"\u001b[0m\u001b[0;34m)\u001b[0m\u001b[0;34m\u001b[0m\u001b[0;34m\u001b[0m\u001b[0m\n\u001b[0m\u001b[1;32m      7\u001b[0m \u001b[0;34m\u001b[0m\u001b[0m\n",
      "\u001b[0;32m~/miniconda3/envs/anishka/lib/python3.8/_strptime.py\u001b[0m in \u001b[0;36m_strptime_datetime\u001b[0;34m(cls, data_string, format)\u001b[0m\n\u001b[1;32m    567\u001b[0m     format string.\"\"\"\n\u001b[0;32m--> 568\u001b[0;31m     \u001b[0mtt\u001b[0m\u001b[0;34m,\u001b[0m \u001b[0mfraction\u001b[0m\u001b[0;34m,\u001b[0m \u001b[0mgmtoff_fraction\u001b[0m \u001b[0;34m=\u001b[0m \u001b[0m_strptime\u001b[0m\u001b[0;34m(\u001b[0m\u001b[0mdata_string\u001b[0m\u001b[0;34m,\u001b[0m \u001b[0mformat\u001b[0m\u001b[0;34m)\u001b[0m\u001b[0;34m\u001b[0m\u001b[0;34m\u001b[0m\u001b[0m\n\u001b[0m\u001b[1;32m    569\u001b[0m     \u001b[0mtzname\u001b[0m\u001b[0;34m,\u001b[0m \u001b[0mgmtoff\u001b[0m \u001b[0;34m=\u001b[0m \u001b[0mtt\u001b[0m\u001b[0;34m[\u001b[0m\u001b[0;34m-\u001b[0m\u001b[0;36m2\u001b[0m\u001b[0;34m:\u001b[0m\u001b[0;34m]\u001b[0m\u001b[0;34m\u001b[0m\u001b[0;34m\u001b[0m\u001b[0m\n",
      "\u001b[0;32m~/miniconda3/envs/anishka/lib/python3.8/_strptime.py\u001b[0m in \u001b[0;36m_strptime\u001b[0;34m(data_string, format)\u001b[0m\n\u001b[1;32m    348\u001b[0m     \u001b[0;32mif\u001b[0m \u001b[0;32mnot\u001b[0m \u001b[0mfound\u001b[0m\u001b[0;34m:\u001b[0m\u001b[0;34m\u001b[0m\u001b[0;34m\u001b[0m\u001b[0m\n\u001b[0;32m--> 349\u001b[0;31m         raise ValueError(\"time data %r does not match format %r\" %\n\u001b[0m\u001b[1;32m    350\u001b[0m                          (data_string, format))\n",
      "\u001b[0;31mValueError\u001b[0m: time data '0' does not match format '%m/%d/%Y'",
      "\nDuring handling of the above exception, another exception occurred:\n",
      "\u001b[0;31mValueError\u001b[0m                                Traceback (most recent call last)",
      "\u001b[0;32m<ipython-input-93-5675b00e3478>\u001b[0m in \u001b[0;36m<module>\u001b[0;34m\u001b[0m\n\u001b[0;32m----> 1\u001b[0;31m \u001b[0mplotbyDate\u001b[0m\u001b[0;34m(\u001b[0m\u001b[0;34m'Date First Observed'\u001b[0m\u001b[0;34m)\u001b[0m\u001b[0;34m\u001b[0m\u001b[0;34m\u001b[0m\u001b[0m\n\u001b[0m",
      "\u001b[0;32m<ipython-input-91-46f8b4e4369d>\u001b[0m in \u001b[0;36mplotbyDate\u001b[0;34m(col_name)\u001b[0m\n\u001b[1;32m      6\u001b[0m         \u001b[0mdate_parser\u001b[0m \u001b[0;34m=\u001b[0m \u001b[0;32mlambda\u001b[0m \u001b[0mx\u001b[0m\u001b[0;34m:\u001b[0m \u001b[0mdatetime\u001b[0m\u001b[0;34m.\u001b[0m\u001b[0mstrptime\u001b[0m\u001b[0;34m(\u001b[0m\u001b[0mx\u001b[0m\u001b[0;34m,\u001b[0m \u001b[0;34m\"%m/%d/%Y\"\u001b[0m\u001b[0;34m)\u001b[0m\u001b[0;34m\u001b[0m\u001b[0;34m\u001b[0m\u001b[0m\n\u001b[1;32m      7\u001b[0m \u001b[0;34m\u001b[0m\u001b[0m\n\u001b[0;32m----> 8\u001b[0;31m         data_2013_14 = dd.read_csv('./Parking_Violations_Issued_-_Fiscal_Year_2014__August_2013___June_2014_.csv',\n\u001b[0m\u001b[1;32m      9\u001b[0m                                      \u001b[0musecols\u001b[0m\u001b[0;34m=\u001b[0m\u001b[0;34m[\u001b[0m\u001b[0mcol_name\u001b[0m\u001b[0;34m]\u001b[0m\u001b[0;34m,\u001b[0m\u001b[0;34m\u001b[0m\u001b[0;34m\u001b[0m\u001b[0m\n\u001b[1;32m     10\u001b[0m                                      \u001b[0mdtype\u001b[0m\u001b[0;34m=\u001b[0m\u001b[0;34m{\u001b[0m\u001b[0mcol_name\u001b[0m\u001b[0;34m:\u001b[0m\u001b[0;34m'str'\u001b[0m\u001b[0;34m}\u001b[0m\u001b[0;34m,\u001b[0m\u001b[0;34m\u001b[0m\u001b[0;34m\u001b[0m\u001b[0m\n",
      "\u001b[0;32m~/miniconda3/envs/anishka/lib/python3.8/site-packages/dask/dataframe/io/csv.py\u001b[0m in \u001b[0;36mread\u001b[0;34m(urlpath, blocksize, collection, lineterminator, compression, sample, enforce, assume_missing, storage_options, include_path_column, **kwargs)\u001b[0m\n\u001b[1;32m    564\u001b[0m         \u001b[0;34m**\u001b[0m\u001b[0mkwargs\u001b[0m\u001b[0;34m\u001b[0m\u001b[0;34m\u001b[0m\u001b[0m\n\u001b[1;32m    565\u001b[0m     ):\n\u001b[0;32m--> 566\u001b[0;31m         return read_pandas(\n\u001b[0m\u001b[1;32m    567\u001b[0m             \u001b[0mreader\u001b[0m\u001b[0;34m,\u001b[0m\u001b[0;34m\u001b[0m\u001b[0;34m\u001b[0m\u001b[0m\n\u001b[1;32m    568\u001b[0m             \u001b[0murlpath\u001b[0m\u001b[0;34m,\u001b[0m\u001b[0;34m\u001b[0m\u001b[0;34m\u001b[0m\u001b[0m\n",
      "\u001b[0;32m~/miniconda3/envs/anishka/lib/python3.8/site-packages/dask/dataframe/io/csv.py\u001b[0m in \u001b[0;36mread_pandas\u001b[0;34m(reader, urlpath, blocksize, collection, lineterminator, compression, sample, enforce, assume_missing, storage_options, include_path_column, **kwargs)\u001b[0m\n\u001b[1;32m    442\u001b[0m \u001b[0;34m\u001b[0m\u001b[0m\n\u001b[1;32m    443\u001b[0m     \u001b[0;31m# Use sample to infer dtypes and check for presence of include_path_column\u001b[0m\u001b[0;34m\u001b[0m\u001b[0;34m\u001b[0m\u001b[0;34m\u001b[0m\u001b[0m\n\u001b[0;32m--> 444\u001b[0;31m     \u001b[0mhead\u001b[0m \u001b[0;34m=\u001b[0m \u001b[0mreader\u001b[0m\u001b[0;34m(\u001b[0m\u001b[0mBytesIO\u001b[0m\u001b[0;34m(\u001b[0m\u001b[0mb_sample\u001b[0m\u001b[0;34m)\u001b[0m\u001b[0;34m,\u001b[0m \u001b[0;34m**\u001b[0m\u001b[0mkwargs\u001b[0m\u001b[0;34m)\u001b[0m\u001b[0;34m\u001b[0m\u001b[0;34m\u001b[0m\u001b[0m\n\u001b[0m\u001b[1;32m    445\u001b[0m     \u001b[0;32mif\u001b[0m \u001b[0minclude_path_column\u001b[0m \u001b[0;32mand\u001b[0m \u001b[0;34m(\u001b[0m\u001b[0minclude_path_column\u001b[0m \u001b[0;32min\u001b[0m \u001b[0mhead\u001b[0m\u001b[0;34m.\u001b[0m\u001b[0mcolumns\u001b[0m\u001b[0;34m)\u001b[0m\u001b[0;34m:\u001b[0m\u001b[0;34m\u001b[0m\u001b[0;34m\u001b[0m\u001b[0m\n\u001b[1;32m    446\u001b[0m         raise ValueError(\n",
      "\u001b[0;32m~/miniconda3/envs/anishka/lib/python3.8/site-packages/pandas/io/parsers.py\u001b[0m in \u001b[0;36mparser_f\u001b[0;34m(filepath_or_buffer, sep, delimiter, header, names, index_col, usecols, squeeze, prefix, mangle_dupe_cols, dtype, engine, converters, true_values, false_values, skipinitialspace, skiprows, skipfooter, nrows, na_values, keep_default_na, na_filter, verbose, skip_blank_lines, parse_dates, infer_datetime_format, keep_date_col, date_parser, dayfirst, cache_dates, iterator, chunksize, compression, thousands, decimal, lineterminator, quotechar, quoting, doublequote, escapechar, comment, encoding, dialect, error_bad_lines, warn_bad_lines, delim_whitespace, low_memory, memory_map, float_precision)\u001b[0m\n\u001b[1;32m    674\u001b[0m         )\n\u001b[1;32m    675\u001b[0m \u001b[0;34m\u001b[0m\u001b[0m\n\u001b[0;32m--> 676\u001b[0;31m         \u001b[0;32mreturn\u001b[0m \u001b[0m_read\u001b[0m\u001b[0;34m(\u001b[0m\u001b[0mfilepath_or_buffer\u001b[0m\u001b[0;34m,\u001b[0m \u001b[0mkwds\u001b[0m\u001b[0;34m)\u001b[0m\u001b[0;34m\u001b[0m\u001b[0;34m\u001b[0m\u001b[0m\n\u001b[0m\u001b[1;32m    677\u001b[0m \u001b[0;34m\u001b[0m\u001b[0m\n\u001b[1;32m    678\u001b[0m     \u001b[0mparser_f\u001b[0m\u001b[0;34m.\u001b[0m\u001b[0m__name__\u001b[0m \u001b[0;34m=\u001b[0m \u001b[0mname\u001b[0m\u001b[0;34m\u001b[0m\u001b[0;34m\u001b[0m\u001b[0m\n",
      "\u001b[0;32m~/miniconda3/envs/anishka/lib/python3.8/site-packages/pandas/io/parsers.py\u001b[0m in \u001b[0;36m_read\u001b[0;34m(filepath_or_buffer, kwds)\u001b[0m\n\u001b[1;32m    452\u001b[0m \u001b[0;34m\u001b[0m\u001b[0m\n\u001b[1;32m    453\u001b[0m     \u001b[0;32mtry\u001b[0m\u001b[0;34m:\u001b[0m\u001b[0;34m\u001b[0m\u001b[0;34m\u001b[0m\u001b[0m\n\u001b[0;32m--> 454\u001b[0;31m         \u001b[0mdata\u001b[0m \u001b[0;34m=\u001b[0m \u001b[0mparser\u001b[0m\u001b[0;34m.\u001b[0m\u001b[0mread\u001b[0m\u001b[0;34m(\u001b[0m\u001b[0mnrows\u001b[0m\u001b[0;34m)\u001b[0m\u001b[0;34m\u001b[0m\u001b[0;34m\u001b[0m\u001b[0m\n\u001b[0m\u001b[1;32m    455\u001b[0m     \u001b[0;32mfinally\u001b[0m\u001b[0;34m:\u001b[0m\u001b[0;34m\u001b[0m\u001b[0;34m\u001b[0m\u001b[0m\n\u001b[1;32m    456\u001b[0m         \u001b[0mparser\u001b[0m\u001b[0;34m.\u001b[0m\u001b[0mclose\u001b[0m\u001b[0;34m(\u001b[0m\u001b[0;34m)\u001b[0m\u001b[0;34m\u001b[0m\u001b[0;34m\u001b[0m\u001b[0m\n",
      "\u001b[0;32m~/miniconda3/envs/anishka/lib/python3.8/site-packages/pandas/io/parsers.py\u001b[0m in \u001b[0;36mread\u001b[0;34m(self, nrows)\u001b[0m\n\u001b[1;32m   1131\u001b[0m     \u001b[0;32mdef\u001b[0m \u001b[0mread\u001b[0m\u001b[0;34m(\u001b[0m\u001b[0mself\u001b[0m\u001b[0;34m,\u001b[0m \u001b[0mnrows\u001b[0m\u001b[0;34m=\u001b[0m\u001b[0;32mNone\u001b[0m\u001b[0;34m)\u001b[0m\u001b[0;34m:\u001b[0m\u001b[0;34m\u001b[0m\u001b[0;34m\u001b[0m\u001b[0m\n\u001b[1;32m   1132\u001b[0m         \u001b[0mnrows\u001b[0m \u001b[0;34m=\u001b[0m \u001b[0m_validate_integer\u001b[0m\u001b[0;34m(\u001b[0m\u001b[0;34m\"nrows\"\u001b[0m\u001b[0;34m,\u001b[0m \u001b[0mnrows\u001b[0m\u001b[0;34m)\u001b[0m\u001b[0;34m\u001b[0m\u001b[0;34m\u001b[0m\u001b[0m\n\u001b[0;32m-> 1133\u001b[0;31m         \u001b[0mret\u001b[0m \u001b[0;34m=\u001b[0m \u001b[0mself\u001b[0m\u001b[0;34m.\u001b[0m\u001b[0m_engine\u001b[0m\u001b[0;34m.\u001b[0m\u001b[0mread\u001b[0m\u001b[0;34m(\u001b[0m\u001b[0mnrows\u001b[0m\u001b[0;34m)\u001b[0m\u001b[0;34m\u001b[0m\u001b[0;34m\u001b[0m\u001b[0m\n\u001b[0m\u001b[1;32m   1134\u001b[0m \u001b[0;34m\u001b[0m\u001b[0m\n\u001b[1;32m   1135\u001b[0m         \u001b[0;31m# May alter columns / col_dict\u001b[0m\u001b[0;34m\u001b[0m\u001b[0;34m\u001b[0m\u001b[0;34m\u001b[0m\u001b[0m\n",
      "\u001b[0;32m~/miniconda3/envs/anishka/lib/python3.8/site-packages/pandas/io/parsers.py\u001b[0m in \u001b[0;36mread\u001b[0;34m(self, nrows)\u001b[0m\n\u001b[1;32m   2110\u001b[0m             \u001b[0mdata\u001b[0m \u001b[0;34m=\u001b[0m \u001b[0;34m{\u001b[0m\u001b[0mk\u001b[0m\u001b[0;34m:\u001b[0m \u001b[0mv\u001b[0m \u001b[0;32mfor\u001b[0m \u001b[0mk\u001b[0m\u001b[0;34m,\u001b[0m \u001b[0;34m(\u001b[0m\u001b[0mi\u001b[0m\u001b[0;34m,\u001b[0m \u001b[0mv\u001b[0m\u001b[0;34m)\u001b[0m \u001b[0;32min\u001b[0m \u001b[0mzip\u001b[0m\u001b[0;34m(\u001b[0m\u001b[0mnames\u001b[0m\u001b[0;34m,\u001b[0m \u001b[0mdata\u001b[0m\u001b[0;34m)\u001b[0m\u001b[0;34m}\u001b[0m\u001b[0;34m\u001b[0m\u001b[0;34m\u001b[0m\u001b[0m\n\u001b[1;32m   2111\u001b[0m \u001b[0;34m\u001b[0m\u001b[0m\n\u001b[0;32m-> 2112\u001b[0;31m             \u001b[0mnames\u001b[0m\u001b[0;34m,\u001b[0m \u001b[0mdata\u001b[0m \u001b[0;34m=\u001b[0m \u001b[0mself\u001b[0m\u001b[0;34m.\u001b[0m\u001b[0m_do_date_conversions\u001b[0m\u001b[0;34m(\u001b[0m\u001b[0mnames\u001b[0m\u001b[0;34m,\u001b[0m \u001b[0mdata\u001b[0m\u001b[0;34m)\u001b[0m\u001b[0;34m\u001b[0m\u001b[0;34m\u001b[0m\u001b[0m\n\u001b[0m\u001b[1;32m   2113\u001b[0m             \u001b[0mindex\u001b[0m\u001b[0;34m,\u001b[0m \u001b[0mnames\u001b[0m \u001b[0;34m=\u001b[0m \u001b[0mself\u001b[0m\u001b[0;34m.\u001b[0m\u001b[0m_make_index\u001b[0m\u001b[0;34m(\u001b[0m\u001b[0mdata\u001b[0m\u001b[0;34m,\u001b[0m \u001b[0malldata\u001b[0m\u001b[0;34m,\u001b[0m \u001b[0mnames\u001b[0m\u001b[0;34m)\u001b[0m\u001b[0;34m\u001b[0m\u001b[0;34m\u001b[0m\u001b[0m\n\u001b[1;32m   2114\u001b[0m \u001b[0;34m\u001b[0m\u001b[0m\n",
      "\u001b[0;32m~/miniconda3/envs/anishka/lib/python3.8/site-packages/pandas/io/parsers.py\u001b[0m in \u001b[0;36m_do_date_conversions\u001b[0;34m(self, names, data)\u001b[0m\n\u001b[1;32m   1844\u001b[0m \u001b[0;34m\u001b[0m\u001b[0m\n\u001b[1;32m   1845\u001b[0m         \u001b[0;32mif\u001b[0m \u001b[0mself\u001b[0m\u001b[0;34m.\u001b[0m\u001b[0mparse_dates\u001b[0m \u001b[0;32mis\u001b[0m \u001b[0;32mnot\u001b[0m \u001b[0;32mNone\u001b[0m\u001b[0;34m:\u001b[0m\u001b[0;34m\u001b[0m\u001b[0;34m\u001b[0m\u001b[0m\n\u001b[0;32m-> 1846\u001b[0;31m             data, names = _process_date_conversion(\n\u001b[0m\u001b[1;32m   1847\u001b[0m                 \u001b[0mdata\u001b[0m\u001b[0;34m,\u001b[0m\u001b[0;34m\u001b[0m\u001b[0;34m\u001b[0m\u001b[0m\n\u001b[1;32m   1848\u001b[0m                 \u001b[0mself\u001b[0m\u001b[0;34m.\u001b[0m\u001b[0m_date_conv\u001b[0m\u001b[0;34m,\u001b[0m\u001b[0;34m\u001b[0m\u001b[0;34m\u001b[0m\u001b[0m\n",
      "\u001b[0;32m~/miniconda3/envs/anishka/lib/python3.8/site-packages/pandas/io/parsers.py\u001b[0m in \u001b[0;36m_process_date_conversion\u001b[0;34m(data_dict, converter, parse_spec, index_col, index_names, columns, keep_date_col)\u001b[0m\n\u001b[1;32m   3289\u001b[0m                 \u001b[0;32mif\u001b[0m \u001b[0m_isindex\u001b[0m\u001b[0;34m(\u001b[0m\u001b[0mcolspec\u001b[0m\u001b[0;34m)\u001b[0m\u001b[0;34m:\u001b[0m\u001b[0;34m\u001b[0m\u001b[0;34m\u001b[0m\u001b[0m\n\u001b[1;32m   3290\u001b[0m                     \u001b[0;32mcontinue\u001b[0m\u001b[0;34m\u001b[0m\u001b[0;34m\u001b[0m\u001b[0m\n\u001b[0;32m-> 3291\u001b[0;31m                 \u001b[0mdata_dict\u001b[0m\u001b[0;34m[\u001b[0m\u001b[0mcolspec\u001b[0m\u001b[0;34m]\u001b[0m \u001b[0;34m=\u001b[0m \u001b[0mconverter\u001b[0m\u001b[0;34m(\u001b[0m\u001b[0mdata_dict\u001b[0m\u001b[0;34m[\u001b[0m\u001b[0mcolspec\u001b[0m\u001b[0;34m]\u001b[0m\u001b[0;34m)\u001b[0m\u001b[0;34m\u001b[0m\u001b[0;34m\u001b[0m\u001b[0m\n\u001b[0m\u001b[1;32m   3292\u001b[0m             \u001b[0;32melse\u001b[0m\u001b[0;34m:\u001b[0m\u001b[0;34m\u001b[0m\u001b[0;34m\u001b[0m\u001b[0m\n\u001b[1;32m   3293\u001b[0m                 new_name, col, old_names = _try_convert_dates(\n",
      "\u001b[0;32m~/miniconda3/envs/anishka/lib/python3.8/site-packages/pandas/io/parsers.py\u001b[0m in \u001b[0;36mconverter\u001b[0;34m(*date_cols)\u001b[0m\n\u001b[1;32m   3251\u001b[0m                     )\n\u001b[1;32m   3252\u001b[0m                 \u001b[0;32mexcept\u001b[0m \u001b[0mException\u001b[0m\u001b[0;34m:\u001b[0m\u001b[0;34m\u001b[0m\u001b[0;34m\u001b[0m\u001b[0m\n\u001b[0;32m-> 3253\u001b[0;31m                     \u001b[0;32mreturn\u001b[0m \u001b[0mgeneric_parser\u001b[0m\u001b[0;34m(\u001b[0m\u001b[0mdate_parser\u001b[0m\u001b[0;34m,\u001b[0m \u001b[0;34m*\u001b[0m\u001b[0mdate_cols\u001b[0m\u001b[0;34m)\u001b[0m\u001b[0;34m\u001b[0m\u001b[0;34m\u001b[0m\u001b[0m\n\u001b[0m\u001b[1;32m   3254\u001b[0m \u001b[0;34m\u001b[0m\u001b[0m\n\u001b[1;32m   3255\u001b[0m     \u001b[0;32mreturn\u001b[0m \u001b[0mconverter\u001b[0m\u001b[0;34m\u001b[0m\u001b[0;34m\u001b[0m\u001b[0m\n",
      "\u001b[0;32m~/miniconda3/envs/anishka/lib/python3.8/site-packages/pandas/io/date_converters.py\u001b[0m in \u001b[0;36mgeneric_parser\u001b[0;34m(parse_func, *cols)\u001b[0m\n\u001b[1;32m     36\u001b[0m     \u001b[0;32mfor\u001b[0m \u001b[0mi\u001b[0m \u001b[0;32min\u001b[0m \u001b[0mrange\u001b[0m\u001b[0;34m(\u001b[0m\u001b[0mN\u001b[0m\u001b[0;34m)\u001b[0m\u001b[0;34m:\u001b[0m\u001b[0;34m\u001b[0m\u001b[0;34m\u001b[0m\u001b[0m\n\u001b[1;32m     37\u001b[0m         \u001b[0margs\u001b[0m \u001b[0;34m=\u001b[0m \u001b[0;34m[\u001b[0m\u001b[0mc\u001b[0m\u001b[0;34m[\u001b[0m\u001b[0mi\u001b[0m\u001b[0;34m]\u001b[0m \u001b[0;32mfor\u001b[0m \u001b[0mc\u001b[0m \u001b[0;32min\u001b[0m \u001b[0mcols\u001b[0m\u001b[0;34m]\u001b[0m\u001b[0;34m\u001b[0m\u001b[0;34m\u001b[0m\u001b[0m\n\u001b[0;32m---> 38\u001b[0;31m         \u001b[0mresults\u001b[0m\u001b[0;34m[\u001b[0m\u001b[0mi\u001b[0m\u001b[0;34m]\u001b[0m \u001b[0;34m=\u001b[0m \u001b[0mparse_func\u001b[0m\u001b[0;34m(\u001b[0m\u001b[0;34m*\u001b[0m\u001b[0margs\u001b[0m\u001b[0;34m)\u001b[0m\u001b[0;34m\u001b[0m\u001b[0;34m\u001b[0m\u001b[0m\n\u001b[0m\u001b[1;32m     39\u001b[0m \u001b[0;34m\u001b[0m\u001b[0m\n\u001b[1;32m     40\u001b[0m     \u001b[0;32mreturn\u001b[0m \u001b[0mresults\u001b[0m\u001b[0;34m\u001b[0m\u001b[0;34m\u001b[0m\u001b[0m\n",
      "\u001b[0;32m<ipython-input-91-46f8b4e4369d>\u001b[0m in \u001b[0;36m<lambda>\u001b[0;34m(x)\u001b[0m\n\u001b[1;32m      4\u001b[0m     \u001b[0;32melse\u001b[0m\u001b[0;34m:\u001b[0m\u001b[0;34m\u001b[0m\u001b[0;34m\u001b[0m\u001b[0m\n\u001b[1;32m      5\u001b[0m \u001b[0;34m\u001b[0m\u001b[0m\n\u001b[0;32m----> 6\u001b[0;31m         \u001b[0mdate_parser\u001b[0m \u001b[0;34m=\u001b[0m \u001b[0;32mlambda\u001b[0m \u001b[0mx\u001b[0m\u001b[0;34m:\u001b[0m \u001b[0mdatetime\u001b[0m\u001b[0;34m.\u001b[0m\u001b[0mstrptime\u001b[0m\u001b[0;34m(\u001b[0m\u001b[0mx\u001b[0m\u001b[0;34m,\u001b[0m \u001b[0;34m\"%m/%d/%Y\"\u001b[0m\u001b[0;34m)\u001b[0m\u001b[0;34m\u001b[0m\u001b[0;34m\u001b[0m\u001b[0m\n\u001b[0m\u001b[1;32m      7\u001b[0m \u001b[0;34m\u001b[0m\u001b[0m\n\u001b[1;32m      8\u001b[0m         data_2013_14 = dd.read_csv('./Parking_Violations_Issued_-_Fiscal_Year_2014__August_2013___June_2014_.csv',\n",
      "\u001b[0;32m~/miniconda3/envs/anishka/lib/python3.8/_strptime.py\u001b[0m in \u001b[0;36m_strptime_datetime\u001b[0;34m(cls, data_string, format)\u001b[0m\n\u001b[1;32m    566\u001b[0m     \"\"\"Return a class cls instance based on the input string and the\n\u001b[1;32m    567\u001b[0m     format string.\"\"\"\n\u001b[0;32m--> 568\u001b[0;31m     \u001b[0mtt\u001b[0m\u001b[0;34m,\u001b[0m \u001b[0mfraction\u001b[0m\u001b[0;34m,\u001b[0m \u001b[0mgmtoff_fraction\u001b[0m \u001b[0;34m=\u001b[0m \u001b[0m_strptime\u001b[0m\u001b[0;34m(\u001b[0m\u001b[0mdata_string\u001b[0m\u001b[0;34m,\u001b[0m \u001b[0mformat\u001b[0m\u001b[0;34m)\u001b[0m\u001b[0;34m\u001b[0m\u001b[0;34m\u001b[0m\u001b[0m\n\u001b[0m\u001b[1;32m    569\u001b[0m     \u001b[0mtzname\u001b[0m\u001b[0;34m,\u001b[0m \u001b[0mgmtoff\u001b[0m \u001b[0;34m=\u001b[0m \u001b[0mtt\u001b[0m\u001b[0;34m[\u001b[0m\u001b[0;34m-\u001b[0m\u001b[0;36m2\u001b[0m\u001b[0;34m:\u001b[0m\u001b[0;34m]\u001b[0m\u001b[0;34m\u001b[0m\u001b[0;34m\u001b[0m\u001b[0m\n\u001b[1;32m    570\u001b[0m     \u001b[0margs\u001b[0m \u001b[0;34m=\u001b[0m \u001b[0mtt\u001b[0m\u001b[0;34m[\u001b[0m\u001b[0;34m:\u001b[0m\u001b[0;36m6\u001b[0m\u001b[0;34m]\u001b[0m \u001b[0;34m+\u001b[0m \u001b[0;34m(\u001b[0m\u001b[0mfraction\u001b[0m\u001b[0;34m,\u001b[0m\u001b[0;34m)\u001b[0m\u001b[0;34m\u001b[0m\u001b[0;34m\u001b[0m\u001b[0m\n",
      "\u001b[0;32m~/miniconda3/envs/anishka/lib/python3.8/_strptime.py\u001b[0m in \u001b[0;36m_strptime\u001b[0;34m(data_string, format)\u001b[0m\n\u001b[1;32m    347\u001b[0m     \u001b[0mfound\u001b[0m \u001b[0;34m=\u001b[0m \u001b[0mformat_regex\u001b[0m\u001b[0;34m.\u001b[0m\u001b[0mmatch\u001b[0m\u001b[0;34m(\u001b[0m\u001b[0mdata_string\u001b[0m\u001b[0;34m)\u001b[0m\u001b[0;34m\u001b[0m\u001b[0;34m\u001b[0m\u001b[0m\n\u001b[1;32m    348\u001b[0m     \u001b[0;32mif\u001b[0m \u001b[0;32mnot\u001b[0m \u001b[0mfound\u001b[0m\u001b[0;34m:\u001b[0m\u001b[0;34m\u001b[0m\u001b[0;34m\u001b[0m\u001b[0m\n\u001b[0;32m--> 349\u001b[0;31m         raise ValueError(\"time data %r does not match format %r\" %\n\u001b[0m\u001b[1;32m    350\u001b[0m                          (data_string, format))\n\u001b[1;32m    351\u001b[0m     \u001b[0;32mif\u001b[0m \u001b[0mlen\u001b[0m\u001b[0;34m(\u001b[0m\u001b[0mdata_string\u001b[0m\u001b[0;34m)\u001b[0m \u001b[0;34m!=\u001b[0m \u001b[0mfound\u001b[0m\u001b[0;34m.\u001b[0m\u001b[0mend\u001b[0m\u001b[0;34m(\u001b[0m\u001b[0;34m)\u001b[0m\u001b[0;34m:\u001b[0m\u001b[0;34m\u001b[0m\u001b[0;34m\u001b[0m\u001b[0m\n",
      "\u001b[0;31mValueError\u001b[0m: time data '0' does not match format '%m/%d/%Y'"
     ]
    }
   ],
   "source": [
    "plotbyDate('Date First Observed')"
   ]
  },
  {
   "cell_type": "code",
   "execution_count": null,
   "metadata": {},
   "outputs": [],
   "source": [
    "'20110321'"
   ]
  },
  {
   "cell_type": "code",
   "execution_count": 124,
   "metadata": {},
   "outputs": [
    {
     "data": {
      "text/plain": [
       "['2011', '03', '21']"
      ]
     },
     "execution_count": 124,
     "metadata": {},
     "output_type": "execute_result"
    }
   ],
   "source": [
    "'2011/03/21'.split('/')"
   ]
  },
  {
   "cell_type": "code",
   "execution_count": 128,
   "metadata": {},
   "outputs": [
    {
     "data": {
      "text/plain": [
       "'21'"
      ]
     },
     "execution_count": 128,
     "metadata": {},
     "output_type": "execute_result"
    }
   ],
   "source": [
    "'2011/03/21'.split('/')[2]"
   ]
  },
  {
   "cell_type": "code",
   "execution_count": 171,
   "metadata": {},
   "outputs": [
    {
     "ename": "TypeError",
     "evalue": "unsupported operand type(s) for +: 'dict' and 'dict'",
     "output_type": "error",
     "traceback": [
      "\u001b[0;31m---------------------------------------------------------------------------\u001b[0m",
      "\u001b[0;31mTypeError\u001b[0m                                 Traceback (most recent call last)",
      "\u001b[0;32m<ipython-input-171-cdc99bd8e617>\u001b[0m in \u001b[0;36m<module>\u001b[0;34m\u001b[0m\n\u001b[1;32m      3\u001b[0m \u001b[0mdict2\u001b[0m \u001b[0;34m=\u001b[0m \u001b[0;34m{\u001b[0m\u001b[0;34m'key'\u001b[0m\u001b[0;34m:\u001b[0m \u001b[0;36m2\u001b[0m\u001b[0;34m}\u001b[0m\u001b[0;34m\u001b[0m\u001b[0;34m\u001b[0m\u001b[0m\n\u001b[1;32m      4\u001b[0m \u001b[0;34m\u001b[0m\u001b[0m\n\u001b[0;32m----> 5\u001b[0;31m \u001b[0mdict3\u001b[0m \u001b[0;34m=\u001b[0m \u001b[0mdict1\u001b[0m \u001b[0;34m+\u001b[0m \u001b[0mdict2\u001b[0m\u001b[0;34m\u001b[0m\u001b[0;34m\u001b[0m\u001b[0m\n\u001b[0m\u001b[1;32m      6\u001b[0m \u001b[0mprint\u001b[0m\u001b[0;34m(\u001b[0m\u001b[0mdict3\u001b[0m\u001b[0;34m)\u001b[0m\u001b[0;34m\u001b[0m\u001b[0;34m\u001b[0m\u001b[0m\n",
      "\u001b[0;31mTypeError\u001b[0m: unsupported operand type(s) for +: 'dict' and 'dict'"
     ]
    }
   ],
   "source": []
  }
 ],
 "metadata": {
  "kernelspec": {
   "display_name": "Python 3",
   "language": "python",
   "name": "python3"
  },
  "language_info": {
   "codemirror_mode": {
    "name": "ipython",
    "version": 3
   },
   "file_extension": ".py",
   "mimetype": "text/x-python",
   "name": "python",
   "nbconvert_exporter": "python",
   "pygments_lexer": "ipython3",
   "version": "3.8.3"
  }
 },
 "nbformat": 4,
 "nbformat_minor": 4
}
