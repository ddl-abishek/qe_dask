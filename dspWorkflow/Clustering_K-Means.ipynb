{
 "cells": [
  {
   "cell_type": "code",
   "execution_count": 1,
   "metadata": {},
   "outputs": [],
   "source": [
    "import pandas as pd\n",
    "from sklearn.cluster import KMeans\n",
    "import numpy as np\n",
    "from collections import defaultdict\n",
    "from matplotlib import pyplot as plt\n",
    "import pickle\n",
    "import seaborn as sns\n",
    "sns.set()\n",
    "from sklearn.preprocessing import StandardScaler\n",
    "from sklearn.decomposition import PCA\n",
    "from itertools import combinations"
   ]
  },
  {
   "cell_type": "markdown",
   "metadata": {},
   "source": [
    "# Extracting chunks from csvs"
   ]
  },
  {
   "cell_type": "code",
   "execution_count": 2,
   "metadata": {},
   "outputs": [],
   "source": [
    "data_13_14 = pd.read_csv(\"./Parking_Violations_Issued_-_Fiscal_Year_2014__August_2013___June_2014_.csv\",\n",
    "                        chunksize=20)\n",
    "# data_15 = pd.read_csv(\"./Parking_Violations_Issued_-_Fiscal_Year_2015.csv\",\n",
    "#                       chunksize=20)\n",
    "# data_16 = pd.read_csv(\"./Parking_Violations_Issued_-_Fiscal_Year_2016.csv\",\n",
    "#                      chunksize=20)\n",
    "# data_17 = pd.read_csv(\"./Parking_Violations_Issued_-_Fiscal_Year_2017.csv\",\n",
    "#                     chunksize=20)"
   ]
  },
  {
   "cell_type": "code",
   "execution_count": 3,
   "metadata": {
    "collapsed": true,
    "jupyter": {
     "outputs_hidden": true
    },
    "tags": []
   },
   "outputs": [
    {
     "name": "stdout",
     "output_type": "stream",
     "text": [
      "{'13_14':     Summons Number Plate ID Registration State Plate Type  Issue Date  \\\n",
      "0       1283294138  GBB9093                 NY        PAS  08/04/2013   \n",
      "1       1283294151  62416MB                 NY        COM  08/04/2013   \n",
      "2       1283294163  78755JZ                 NY        COM  08/05/2013   \n",
      "3       1283294175  63009MA                 NY        COM  08/05/2013   \n",
      "4       1283294187  91648MC                 NY        COM  08/08/2013   \n",
      "5       1283294217   T60DAR                 NJ        PAS  08/11/2013   \n",
      "6       1283294229  GCR2838                 NY        PAS  08/11/2013   \n",
      "7       1283983620   XZ764G                 NJ        PAS  08/07/2013   \n",
      "8       1283983631  GBH9379                 NY        PAS  08/07/2013   \n",
      "9       1283983667   MCL78B                 NJ        PAS  07/18/2013   \n",
      "10      1283983679   M367CN                 NY        PAS  07/18/2013   \n",
      "11      1283983734  GAR6813                 NY        PAS  07/18/2013   \n",
      "12      1283983771  GEN8674                 NY        PAS  07/31/2013   \n",
      "13      1283983825  GAC2703                 NY        PAS  08/12/2013   \n",
      "14      1286036800  40793JY                 NY        COM  07/05/2013   \n",
      "15      1286123550  GAD1485                 NY        PAS  08/12/2013   \n",
      "16      1286246398  GFC5338                 NY        PAS  07/26/2013   \n",
      "17      1286246416  815M342                 MD        PAS  07/30/2013   \n",
      "18      1286248000  GJA3452                 NY        PAS  07/23/2013   \n",
      "19      1286282330  YZY6476                 NC        PAS  07/29/2013   \n",
      "\n",
      "    Violation Code Vehicle Body Type Vehicle Make Issuing Agency  \\\n",
      "0               46              SUBN         AUDI              P   \n",
      "1               46               VAN         FORD              P   \n",
      "2               46               P-U        CHEVR              P   \n",
      "3               46               VAN         FORD              P   \n",
      "4               41              TRLR          GMC              P   \n",
      "5               14               P-U        DODGE              P   \n",
      "6               14               VAN          NaN              P   \n",
      "7               24              DELV         FORD              X   \n",
      "8               24               SDN        TOYOT              X   \n",
      "9               24               SDN        SUBAR              H   \n",
      "10              24               SDN        HYUND              H   \n",
      "11              24               SDN        TOYOT              H   \n",
      "12              24               SDN         AUDI              X   \n",
      "13              24               SDN        NISSA              X   \n",
      "14              14               VAN        CHEVR              P   \n",
      "15              20               SDN        VOLKS              T   \n",
      "16              14               SDN        TOYOT              T   \n",
      "17              20              SUBN        SATUR              T   \n",
      "18              14               SDN          KIA              T   \n",
      "19              20               SDN        NISSA              T   \n",
      "\n",
      "    Street Code1  ...  Hydrant Violation  Double Parking Violation  Latitude  \\\n",
      "0          37250  ...                NaN                       NaN       NaN   \n",
      "1          37290  ...                NaN                       NaN       NaN   \n",
      "2          37030  ...                NaN                       NaN       NaN   \n",
      "3          37270  ...                NaN                       NaN       NaN   \n",
      "4          37240  ...                NaN                       NaN       NaN   \n",
      "5          37250  ...                NaN                       NaN       NaN   \n",
      "6          37250  ...                NaN                       NaN       NaN   \n",
      "7          63430  ...                NaN                       NaN       NaN   \n",
      "8          63430  ...                NaN                       NaN       NaN   \n",
      "9              0  ...                NaN                       NaN       NaN   \n",
      "10             0  ...                NaN                       NaN       NaN   \n",
      "11             0  ...                NaN                       NaN       NaN   \n",
      "12             0  ...                NaN                       NaN       NaN   \n",
      "13         23230  ...                NaN                       NaN       NaN   \n",
      "14         34190  ...                NaN                       NaN       NaN   \n",
      "15         28930  ...                NaN                       NaN       NaN   \n",
      "16             0  ...                NaN                       NaN       NaN   \n",
      "17             0  ...                NaN                       NaN       NaN   \n",
      "18         73690  ...                NaN                       NaN       NaN   \n",
      "19         32030  ...                NaN                       NaN       NaN   \n",
      "\n",
      "    Longitude  Community Board  Community Council   Census Tract BIN  BBL NTA  \n",
      "0         NaN              NaN                 NaN           NaN NaN  NaN NaN  \n",
      "1         NaN              NaN                 NaN           NaN NaN  NaN NaN  \n",
      "2         NaN              NaN                 NaN           NaN NaN  NaN NaN  \n",
      "3         NaN              NaN                 NaN           NaN NaN  NaN NaN  \n",
      "4         NaN              NaN                 NaN           NaN NaN  NaN NaN  \n",
      "5         NaN              NaN                 NaN           NaN NaN  NaN NaN  \n",
      "6         NaN              NaN                 NaN           NaN NaN  NaN NaN  \n",
      "7         NaN              NaN                 NaN           NaN NaN  NaN NaN  \n",
      "8         NaN              NaN                 NaN           NaN NaN  NaN NaN  \n",
      "9         NaN              NaN                 NaN           NaN NaN  NaN NaN  \n",
      "10        NaN              NaN                 NaN           NaN NaN  NaN NaN  \n",
      "11        NaN              NaN                 NaN           NaN NaN  NaN NaN  \n",
      "12        NaN              NaN                 NaN           NaN NaN  NaN NaN  \n",
      "13        NaN              NaN                 NaN           NaN NaN  NaN NaN  \n",
      "14        NaN              NaN                 NaN           NaN NaN  NaN NaN  \n",
      "15        NaN              NaN                 NaN           NaN NaN  NaN NaN  \n",
      "16        NaN              NaN                 NaN           NaN NaN  NaN NaN  \n",
      "17        NaN              NaN                 NaN           NaN NaN  NaN NaN  \n",
      "18        NaN              NaN                 NaN           NaN NaN  NaN NaN  \n",
      "19        NaN              NaN                 NaN           NaN NaN  NaN NaN  \n",
      "\n",
      "[20 rows x 51 columns], '15':     Summons Number  Plate ID Registration State Plate Type  Issue Date  \\\n",
      "0       8002531292   EPC5238                 NY        PAS  10/01/2014   \n",
      "1       8015318440    5298MD                 NY        COM  03/06/2015   \n",
      "2       7611181981   FYW2775                 NY        PAS  07/28/2014   \n",
      "3       7445908067   GWE1987                 NY        PAS  04/13/2015   \n",
      "4       7037692864  T671196C                 NY        PAS  05/19/2015   \n",
      "5       7704791394   JJF6834                 PA        PAS  11/20/2014   \n",
      "6       7541599104   FYP8263                 NY        PAS  08/01/2014   \n",
      "7       7443513951   FZL7450                 NY        PAS  07/19/2014   \n",
      "8       7426321423   86318MA                 NY        COM  09/23/2014   \n",
      "9       8017159560   GKX8095                 NY        PAS  01/20/2015   \n",
      "10      8017159560   GKX8095                 NY        PAS  01/20/2015   \n",
      "11      7002571382   CXT8949                 TX        PAS  02/17/2015   \n",
      "12      7939966900   GSR4914                 NY        PAS  05/05/2015   \n",
      "13      7704167637    XBVP75                 NJ        PAS  10/21/2014   \n",
      "14      7095480941    AP515N                 NJ        PAS  08/21/2014   \n",
      "15      7831181295   16238TC                 NY        TRC  08/07/2014   \n",
      "16      8007006229    122YEZ                 CT        PAS  08/26/2014   \n",
      "17      1369109532   65920JW                 NY        COM  06/23/2014   \n",
      "18      7580650400   GBU2135                 NY        PAS  09/24/2014   \n",
      "19      7420795630    6AJWV5                 CT        PAS  10/04/2014   \n",
      "\n",
      "    Violation Code Vehicle Body Type Vehicle Make Issuing Agency  \\\n",
      "0               21              SUBN        CHEVR              T   \n",
      "1               14               VAN        FRUEH              T   \n",
      "2               46              SUBN        SUBAR              T   \n",
      "3               19              4DSD        LEXUS              T   \n",
      "4               19              4DSD        CHRYS              T   \n",
      "5               21              4DSD        NISSA              T   \n",
      "6               21              SUBN        HONDA              T   \n",
      "7               71              4DSD        VOLVO              T   \n",
      "8               69               VAN        CHEVR              T   \n",
      "9               71              4DSD        LEXUS              T   \n",
      "10              71              4DSD        LEXUS              T   \n",
      "11              20              SUBN        MAZDA              T   \n",
      "12              20              SUBN        DODGE              T   \n",
      "13              16               VAN         FORD              T   \n",
      "14              85              DELV        FRUEH              T   \n",
      "15              14              TRAC        PETER              T   \n",
      "16              21              4DSD        NISSA              T   \n",
      "17              46               VAN        MERCU              P   \n",
      "18              71              SUBN        HONDA              T   \n",
      "19              37              SUBN         FORD              T   \n",
      "\n",
      "    Street Code1  ...  Hydrant Violation  Double Parking Violation Latitude  \\\n",
      "0          20390  ...                NaN                       NaN      NaN   \n",
      "1          27790  ...                NaN                       NaN      NaN   \n",
      "2           8130  ...                NaN                       NaN      NaN   \n",
      "3          59990  ...                NaN                       NaN      NaN   \n",
      "4          36090  ...                NaN                       NaN      NaN   \n",
      "5          74230  ...                NaN                       NaN      NaN   \n",
      "6          77530  ...                NaN                       NaN      NaN   \n",
      "7          49210  ...                NaN                       NaN      NaN   \n",
      "8          21690  ...                NaN                       NaN      NaN   \n",
      "9          35490  ...                NaN                       NaN      NaN   \n",
      "10         35490  ...                NaN                       NaN      NaN   \n",
      "11         51190  ...                NaN                       NaN      NaN   \n",
      "12         20090  ...                NaN                       NaN      NaN   \n",
      "13          5780  ...                NaN                       NaN      NaN   \n",
      "14         10790  ...                NaN                       NaN      NaN   \n",
      "15         13610  ...                NaN                       NaN      NaN   \n",
      "16          5580  ...                NaN                       NaN      NaN   \n",
      "17         18770  ...                NaN                       NaN      NaN   \n",
      "18         10110  ...                NaN                       NaN      NaN   \n",
      "19         40220  ...                NaN                       NaN      NaN   \n",
      "\n",
      "    Longitude  Community Board  Community Council   Census Tract BIN BBL NTA  \n",
      "0         NaN              NaN                 NaN           NaN NaN NaN NaN  \n",
      "1         NaN              NaN                 NaN           NaN NaN NaN NaN  \n",
      "2         NaN              NaN                 NaN           NaN NaN NaN NaN  \n",
      "3         NaN              NaN                 NaN           NaN NaN NaN NaN  \n",
      "4         NaN              NaN                 NaN           NaN NaN NaN NaN  \n",
      "5         NaN              NaN                 NaN           NaN NaN NaN NaN  \n",
      "6         NaN              NaN                 NaN           NaN NaN NaN NaN  \n",
      "7         NaN              NaN                 NaN           NaN NaN NaN NaN  \n",
      "8         NaN              NaN                 NaN           NaN NaN NaN NaN  \n",
      "9         NaN              NaN                 NaN           NaN NaN NaN NaN  \n",
      "10        NaN              NaN                 NaN           NaN NaN NaN NaN  \n",
      "11        NaN              NaN                 NaN           NaN NaN NaN NaN  \n",
      "12        NaN              NaN                 NaN           NaN NaN NaN NaN  \n",
      "13        NaN              NaN                 NaN           NaN NaN NaN NaN  \n",
      "14        NaN              NaN                 NaN           NaN NaN NaN NaN  \n",
      "15        NaN              NaN                 NaN           NaN NaN NaN NaN  \n",
      "16        NaN              NaN                 NaN           NaN NaN NaN NaN  \n",
      "17        NaN              NaN                 NaN           NaN NaN NaN NaN  \n",
      "18        NaN              NaN                 NaN           NaN NaN NaN NaN  \n",
      "19        NaN              NaN                 NaN           NaN NaN NaN NaN  \n",
      "\n",
      "[20 rows x 51 columns], '16':     Summons Number Plate ID Registration State Plate Type  Issue Date  \\\n",
      "0       1363745270  GGY6450                 99        PAS  07/09/2015   \n",
      "1       1363745293   KXD355                 SC        PAS  07/09/2015   \n",
      "2       1363745438  JCK7576                 PA        PAS  07/09/2015   \n",
      "3       1363745475  GYK7658                 NY        OMS  07/09/2015   \n",
      "4       1363745487  GMT8141                 NY        PAS  07/09/2015   \n",
      "5       1363745517  GYK3760                 NY        PAS  07/09/2015   \n",
      "6       1363745529  GYK3760                 NY        PAS  07/09/2015   \n",
      "7       1363745542  GWL9925                 NY        PAS  07/09/2015   \n",
      "8       1363745554  GPH9963                 PA        PAS  07/09/2015   \n",
      "9       1363745578  GWF8627                 NY        PAS  07/09/2015   \n",
      "10      1363745657   VJA95M                 NJ        PAS  07/09/2015   \n",
      "11      1363745670  GVA7104                 NY        PAS  07/09/2015   \n",
      "12      1363745712  GYA9126                 NY        PAS  07/09/2015   \n",
      "13      1363745724   WYW78A                 NJ        PAS  07/09/2015   \n",
      "14      1363745736  GXL3452                 NY        PAS  07/09/2015   \n",
      "15      1363745748   Z53ESE                 NJ        PAS  07/09/2015   \n",
      "16      1363745750  GMH6888                 NY        PAS  07/09/2015   \n",
      "17      1363745761  GRF4392                 NY        PAS  07/09/2015   \n",
      "18      1363745864  GYX2853                 NY        PAS  07/09/2015   \n",
      "19      1363745890  GRE9023                 NY        PAS  07/09/2015   \n",
      "\n",
      "    Violation Code Vehicle Body Type Vehicle Make Issuing Agency  \\\n",
      "0               46               SDN        HONDA              P   \n",
      "1               21              SUBN        CHEVR              P   \n",
      "2               21               SDN        ME/BE              P   \n",
      "3               21              SUBN        NISSA              P   \n",
      "4               21               P-U        LINCO              P   \n",
      "5               21              SUBN        HONDA              P   \n",
      "6               75              SUBN        HONDA              P   \n",
      "7               71               SDN        TOYOT              P   \n",
      "8               21               SDN        MITSU              P   \n",
      "9               21              SUBN        LINCO              P   \n",
      "10              21              SUBN          NaN              P   \n",
      "11              41               SDN        VOLKS              P   \n",
      "12              70              SUBN        TOYOT              P   \n",
      "13              21              SUBN        SUBAR              P   \n",
      "14              21               SDN        TOYOT              P   \n",
      "15              21              SUBN        LINCO              P   \n",
      "16              21              SUBN          BMW              P   \n",
      "17              21              SUBN         FORD              P   \n",
      "18              21              TWOD        HONDA              P   \n",
      "19              21               SDN        TOYOT              P   \n",
      "\n",
      "    Street Code1  ...  Hydrant Violation  Double Parking Violation  Latitude  \\\n",
      "0              0  ...                NaN                       NaN       NaN   \n",
      "1          55730  ...                NaN                       NaN       NaN   \n",
      "2          42730  ...                NaN                       NaN       NaN   \n",
      "3          58130  ...                NaN                       NaN       NaN   \n",
      "4          58130  ...                NaN                       NaN       NaN   \n",
      "5          46730  ...                NaN                       NaN       NaN   \n",
      "6          46730  ...                NaN                       NaN       NaN   \n",
      "7          85730  ...                NaN                       NaN       NaN   \n",
      "8          55730  ...                NaN                       NaN       NaN   \n",
      "9          31530  ...                NaN                       NaN       NaN   \n",
      "10         51930  ...                NaN                       NaN       NaN   \n",
      "11         45830  ...                NaN                       NaN       NaN   \n",
      "12         46330  ...                NaN                       NaN       NaN   \n",
      "13         55430  ...                NaN                       NaN       NaN   \n",
      "14         54010  ...                NaN                       NaN       NaN   \n",
      "15         54010  ...                NaN                       NaN       NaN   \n",
      "16         54010  ...                NaN                       NaN       NaN   \n",
      "17             0  ...                NaN                       NaN       NaN   \n",
      "18         81630  ...                NaN                       NaN       NaN   \n",
      "19         39330  ...                NaN                       NaN       NaN   \n",
      "\n",
      "    Longitude  Community Board  Community Council   Census Tract BIN  BBL NTA  \n",
      "0         NaN              NaN                 NaN           NaN NaN  NaN NaN  \n",
      "1         NaN              NaN                 NaN           NaN NaN  NaN NaN  \n",
      "2         NaN              NaN                 NaN           NaN NaN  NaN NaN  \n",
      "3         NaN              NaN                 NaN           NaN NaN  NaN NaN  \n",
      "4         NaN              NaN                 NaN           NaN NaN  NaN NaN  \n",
      "5         NaN              NaN                 NaN           NaN NaN  NaN NaN  \n",
      "6         NaN              NaN                 NaN           NaN NaN  NaN NaN  \n",
      "7         NaN              NaN                 NaN           NaN NaN  NaN NaN  \n",
      "8         NaN              NaN                 NaN           NaN NaN  NaN NaN  \n",
      "9         NaN              NaN                 NaN           NaN NaN  NaN NaN  \n",
      "10        NaN              NaN                 NaN           NaN NaN  NaN NaN  \n",
      "11        NaN              NaN                 NaN           NaN NaN  NaN NaN  \n",
      "12        NaN              NaN                 NaN           NaN NaN  NaN NaN  \n",
      "13        NaN              NaN                 NaN           NaN NaN  NaN NaN  \n",
      "14        NaN              NaN                 NaN           NaN NaN  NaN NaN  \n",
      "15        NaN              NaN                 NaN           NaN NaN  NaN NaN  \n",
      "16        NaN              NaN                 NaN           NaN NaN  NaN NaN  \n",
      "17        NaN              NaN                 NaN           NaN NaN  NaN NaN  \n",
      "18        NaN              NaN                 NaN           NaN NaN  NaN NaN  \n",
      "19        NaN              NaN                 NaN           NaN NaN  NaN NaN  \n",
      "\n",
      "[20 rows x 51 columns], '17':     Summons Number  Plate ID Registration State Plate Type  Issue Date  \\\n",
      "0       5092469481   GZH7067                 NY        PAS  07/10/2016   \n",
      "1       5092451658   GZH7067                 NY        PAS  07/08/2016   \n",
      "2       4006265037   FZX9232                 NY        PAS  08/23/2016   \n",
      "3       8478629828   66623ME                 NY        COM  06/14/2017   \n",
      "4       7868300310   37033JV                 NY        COM  11/21/2016   \n",
      "5       5096917368   FZD8593                 NY        PAS  06/13/2017   \n",
      "6       1413609545    X20DCM                 NJ        PAS  08/03/2016   \n",
      "7       4628525523    326SF9                 MA        PAS  12/21/2016   \n",
      "8       4627113330   HCA5464                 NY        OMS  11/21/2016   \n",
      "9       4006478550   VAD7274                 VA        PAS  10/05/2016   \n",
      "10      1407740258   2513JMG                 NY        COM  01/11/2017   \n",
      "11      8009901763   13657MD                 NY        COM  09/27/2016   \n",
      "12      4625926610  N102911C                 NY        OMT  10/27/2016   \n",
      "13      1416492320   FGR5997                 NY        PAS  09/30/2016   \n",
      "14      1413656420  T672371C                 NY        PAS  02/04/2017   \n",
      "15      7959486440   GYF2052                 NY        PAS  07/07/2016   \n",
      "16      5093620865   AD80228                 AZ        PAS  09/24/2016   \n",
      "17      8480309064   51771JW                 NY        COM  01/26/2017   \n",
      "18      1416638830    GLP367                 NY        PAS  04/30/2017   \n",
      "19      4630524241    HJBP29                 FL        PAS  02/03/2017   \n",
      "\n",
      "    Violation Code Vehicle Body Type Vehicle Make Issuing Agency  \\\n",
      "0                7              SUBN        TOYOT              V   \n",
      "1                7              SUBN        TOYOT              V   \n",
      "2                5              SUBN         FORD              V   \n",
      "3               47              REFG        MITSU              T   \n",
      "4               69              DELV        INTER              T   \n",
      "5                7              SUBN        ME/BE              V   \n",
      "6               40               SDN        TOYOT              P   \n",
      "7               36                UT          BMW              V   \n",
      "8               36              SUBN        DODGE              V   \n",
      "9                5                4D          BMW              V   \n",
      "10              78              DELV        FRUEH              P   \n",
      "11              19              DELV        KENWO              T   \n",
      "12              36               VAN         FORD              V   \n",
      "13              21               SDN        NISSA              P   \n",
      "14              40              TAXI        TOYOT              P   \n",
      "15              71              4DSD        VOLKS              T   \n",
      "16               7                TK         FORD              V   \n",
      "17              64               VAN        INTER              T   \n",
      "18              20              SUBN        DODGE              P   \n",
      "19              36                4D          BMW              V   \n",
      "\n",
      "    Street Code1  ...  Vehicle Color  Unregistered Vehicle?  Vehicle Year  \\\n",
      "0              0  ...             GY                    NaN          2001   \n",
      "1              0  ...             GY                    NaN          2001   \n",
      "2              0  ...             BK                    NaN          2004   \n",
      "3          10610  ...             WH                    NaN          2007   \n",
      "4          10510  ...          WHITE                    NaN          2007   \n",
      "5              0  ...             WH                    NaN          2012   \n",
      "6          54070  ...          WHITE                    0.0             0   \n",
      "7              0  ...            NaN                    NaN          2001   \n",
      "8              0  ...             BK                    NaN          2016   \n",
      "9              0  ...            BLK                    NaN          2008   \n",
      "10             0  ...          WHITE                    0.0          2015   \n",
      "11         10510  ...             RD                    NaN          2013   \n",
      "12             0  ...             WH                    NaN          2008   \n",
      "13         53620  ...            TAN                    0.0             0   \n",
      "14         59630  ...            BLK                    0.0          2015   \n",
      "15         70407  ...             GY                    NaN          2012   \n",
      "16             0  ...            NaN                    NaN          2009   \n",
      "17         17850  ...          BROWN                    NaN          2007   \n",
      "18         17650  ...            BLK                    0.0          2009   \n",
      "19             0  ...            SIL                    NaN          2009   \n",
      "\n",
      "    Meter Number  Feet From Curb  Violation Post Code  \\\n",
      "0            NaN               0                  NaN   \n",
      "1            NaN               0                  NaN   \n",
      "2            NaN               0                  NaN   \n",
      "3            NaN               0                   04   \n",
      "4            NaN               0                 31 6   \n",
      "5            NaN               0                  NaN   \n",
      "6              -               1                  NaN   \n",
      "7            NaN               0                  NaN   \n",
      "8            NaN               0                  NaN   \n",
      "9            NaN               0                  NaN   \n",
      "10             -               0                  NaN   \n",
      "11           NaN               0                 01 9   \n",
      "12           NaN               0                  NaN   \n",
      "13             -               0                  NaN   \n",
      "14             -               0                  NaN   \n",
      "15           NaN               0                 C-PM   \n",
      "16           NaN               0                  NaN   \n",
      "17           NaN               0                   06   \n",
      "18             -               0                  NaN   \n",
      "19           NaN               0                  NaN   \n",
      "\n",
      "             Violation Description No Standing or Stopping Violation  \\\n",
      "0     FAILURE TO STOP AT RED LIGHT                               NaN   \n",
      "1     FAILURE TO STOP AT RED LIGHT                               NaN   \n",
      "2               BUS LANE VIOLATION                               NaN   \n",
      "3            47-Double PKG-Midtown                               NaN   \n",
      "4    69-Failure to Disp Muni Recpt                               NaN   \n",
      "5     FAILURE TO STOP AT RED LIGHT                               NaN   \n",
      "6                              NaN                               NaN   \n",
      "7   PHTO SCHOOL ZN SPEED VIOLATION                               NaN   \n",
      "8   PHTO SCHOOL ZN SPEED VIOLATION                               NaN   \n",
      "9               BUS LANE VIOLATION                               NaN   \n",
      "10                             NaN                               NaN   \n",
      "11          19-No Stand (bus stop)                               NaN   \n",
      "12  PHTO SCHOOL ZN SPEED VIOLATION                               NaN   \n",
      "13                             NaN                               NaN   \n",
      "14                             NaN                               NaN   \n",
      "15   71-Insp. Sticker Missing (NYS                               NaN   \n",
      "16    FAILURE TO STOP AT RED LIGHT                               NaN   \n",
      "17   64-No STD Ex Con/DPL, D/S Dec                               NaN   \n",
      "18                             NaN                               NaN   \n",
      "19  PHTO SCHOOL ZN SPEED VIOLATION                               NaN   \n",
      "\n",
      "   Hydrant Violation Double Parking Violation  \n",
      "0                NaN                      NaN  \n",
      "1                NaN                      NaN  \n",
      "2                NaN                      NaN  \n",
      "3                NaN                      NaN  \n",
      "4                NaN                      NaN  \n",
      "5                NaN                      NaN  \n",
      "6                NaN                      NaN  \n",
      "7                NaN                      NaN  \n",
      "8                NaN                      NaN  \n",
      "9                NaN                      NaN  \n",
      "10               NaN                      NaN  \n",
      "11               NaN                      NaN  \n",
      "12               NaN                      NaN  \n",
      "13               NaN                      NaN  \n",
      "14               NaN                      NaN  \n",
      "15               NaN                      NaN  \n",
      "16               NaN                      NaN  \n",
      "17               NaN                      NaN  \n",
      "18               NaN                      NaN  \n",
      "19               NaN                      NaN  \n",
      "\n",
      "[20 rows x 43 columns]}\n"
     ]
    }
   ],
   "source": [
    "data = {'13_14':data_13_14,\n",
    "        '15':data_15,\n",
    "        '16':data_16,\n",
    "        '17':data_17}\n",
    "chunks = {}\n",
    "for year,csv in data.items():\n",
    "    for chunk in csv:\n",
    "        chunks[year] = chunk\n",
    "        break\n",
    "print(chunks)"
   ]
  },
  {
   "cell_type": "markdown",
   "metadata": {},
   "source": [
    "# Checking whether cols in all csvs are the same"
   ]
  },
  {
   "cell_type": "code",
   "execution_count": 10,
   "metadata": {},
   "outputs": [],
   "source": [
    "col_list = defaultdict(list)\n",
    "\n",
    "for year,chunk in chunks.items():\n",
    "    for col in chunk:\n",
    "        col_list[year].append(col)"
   ]
  },
  {
   "cell_type": "code",
   "execution_count": 13,
   "metadata": {},
   "outputs": [
    {
     "data": {
      "text/plain": [
       "False"
      ]
     },
     "execution_count": 13,
     "metadata": {},
     "output_type": "execute_result"
    }
   ],
   "source": [
    "all(set(col_list['13_14'])==set(year_list) for year,year_list in col_list.items() if year != '13_14')\n",
    "    "
   ]
  },
  {
   "cell_type": "markdown",
   "metadata": {},
   "source": [
    "### NOTE : all cols are the same except for year 2017"
   ]
  },
  {
   "cell_type": "code",
   "execution_count": 19,
   "metadata": {},
   "outputs": [
    {
     "data": {
      "text/plain": [
       "True"
      ]
     },
     "execution_count": 19,
     "metadata": {},
     "output_type": "execute_result"
    }
   ],
   "source": [
    "col_list['13_14'] == col_list['15'] == col_list['16'] "
   ]
  },
  {
   "cell_type": "code",
   "execution_count": 20,
   "metadata": {},
   "outputs": [
    {
     "data": {
      "text/plain": [
       "False"
      ]
     },
     "execution_count": 20,
     "metadata": {},
     "output_type": "execute_result"
    }
   ],
   "source": [
    "col_list['13_14'] == col_list['17']"
   ]
  },
  {
   "cell_type": "code",
   "execution_count": 23,
   "metadata": {},
   "outputs": [
    {
     "name": "stdout",
     "output_type": "stream",
     "text": [
      "Latitude\n",
      "Longitude\n",
      "Community Board\n",
      "Community Council \n",
      "Census Tract\n",
      "BIN\n",
      "BBL\n",
      "NTA\n"
     ]
    }
   ],
   "source": [
    "for col in col_list['13_14']:\n",
    "    if col not in col_list['17']:\n",
    "        print(col)"
   ]
  },
  {
   "cell_type": "markdown",
   "metadata": {},
   "source": [
    "## cols absent in 2017 .csv are not very important"
   ]
  },
  {
   "cell_type": "markdown",
   "metadata": {},
   "source": [
    "### cols considered for K-means clustering\n",
    " - Vehicle Expiration Date: Number\n",
    " - Violation Precinct: Number\n",
    " - Issuer Precinct: Number\n",
    " - Date First Observed: Number\n",
    " - Vehicle Year: Number"
   ]
  },
  {
   "cell_type": "markdown",
   "metadata": {},
   "source": [
    "These cols contain dates where the date will be converted to the day of the year which will vary from 1 to 365 (or 366 in case of leap year)"
   ]
  },
  {
   "cell_type": "markdown",
   "metadata": {},
   "source": [
    "# 2013-14 data"
   ]
  },
  {
   "cell_type": "markdown",
   "metadata": {},
   "source": [
    "### Checking Violation Precinct Data"
   ]
  },
  {
   "cell_type": "code",
   "execution_count": 10,
   "metadata": {},
   "outputs": [
    {
     "data": {
      "text/plain": [
       "{13, 33, 71, 76, 78, 79, 81, 88}"
      ]
     },
     "execution_count": 10,
     "metadata": {},
     "output_type": "execute_result"
    }
   ],
   "source": [
    "set(chunks['13_14']['Violation Precinct'])"
   ]
  },
  {
   "cell_type": "code",
   "execution_count": 11,
   "metadata": {},
   "outputs": [
    {
     "data": {
      "text/plain": [
       "{5, 7, 9, 14, 19, 25, 28, 48, 67, 72, 78, 79, 102, 103, 109, 110, 113}"
      ]
     },
     "execution_count": 11,
     "metadata": {},
     "output_type": "execute_result"
    }
   ],
   "source": [
    "set(chunks['15']['Violation Precinct'])"
   ]
  },
  {
   "cell_type": "code",
   "execution_count": 12,
   "metadata": {},
   "outputs": [
    {
     "data": {
      "text/plain": [
       "{0, 74, 79, 88, 94}"
      ]
     },
     "execution_count": 12,
     "metadata": {},
     "output_type": "execute_result"
    }
   ],
   "source": [
    "set(chunks['16']['Violation Precinct'])"
   ]
  },
  {
   "cell_type": "code",
   "execution_count": 12,
   "metadata": {},
   "outputs": [
    {
     "data": {
      "text/plain": [
       "{0, 13, 14, 17, 18, 44, 71, 73, 106, 120}"
      ]
     },
     "execution_count": 12,
     "metadata": {},
     "output_type": "execute_result"
    }
   ],
   "source": [
    "set(chunks['17']['Violation Precinct'])"
   ]
  },
  {
   "cell_type": "markdown",
   "metadata": {},
   "source": [
    "### Checking Issuer Precinct Data"
   ]
  },
  {
   "cell_type": "code",
   "execution_count": 11,
   "metadata": {},
   "outputs": [
    {
     "data": {
      "text/plain": [
       "{0, 13, 33, 730, 976}"
      ]
     },
     "execution_count": 11,
     "metadata": {},
     "output_type": "execute_result"
    }
   ],
   "source": [
    "set(chunks['13_14']['Issuer Precinct'])"
   ]
  },
  {
   "cell_type": "code",
   "execution_count": 14,
   "metadata": {},
   "outputs": [
    {
     "name": "stdout",
     "output_type": "stream",
     "text": [
      "set(chunks[13_14]['Issuer Precinct']) {0, 33, 13, 976, 730}\n",
      "set(chunks[15]['Issuer Precinct']) {67, 5, 102, 7, 72, 103, 9, 109, 78, 79, 110, 113, 14, 19, 48, 25, 28}\n",
      "set(chunks[16]['Issuer Precinct']) {0, 301}\n",
      "set(chunks[17]['Issuer Precinct']) {0, 71, 73, 106, 44, 13, 14, 17, 18, 120}\n"
     ]
    }
   ],
   "source": [
    "for year in chunks.keys():\n",
    "    print(\"set(chunks[%s]['Issuer Precinct'])\" % year,set(chunks[year]['Issuer Precinct']))"
   ]
  },
  {
   "cell_type": "code",
   "execution_count": 22,
   "metadata": {
    "scrolled": true
   },
   "outputs": [
    {
     "name": "stdout",
     "output_type": "stream",
     "text": [
      "set(chunks[13_14][Vehicle Expiration Date]) \n",
      " {0, 20140930, 20140228, 20141031, 20141223, 20140713, 20141288, 20140430, 20141008, 20150128, 20140722, 20131088, 20140729, 20150331, 20140510, 20140831} \n",
      "\n",
      "\n",
      "set(chunks[15][Vehicle Expiration Date]) \n",
      " {'01/01/20160605 12:00:00 PM', '01/01/20140927 12:00:00 PM', '01/01/20150720 12:00:00 PM', '01/01/20160816 12:00:00 PM', '01/01/20160911 12:00:00 PM', '01/01/20150688 12:00:00 PM', '01/01/88888888 12:00:00 PM', '01/01/20151207 12:00:00 PM', '01/01/20140088 12:00:00 PM', '01/01/88880088 12:00:00 PM', '01/01/20150430 12:00:00 PM', '01/01/20160524 12:00:00 PM', '01/01/20150111 12:00:00 PM', '01/01/20141031 12:00:00 PM', '01/01/20170111 12:00:00 PM'} \n",
      "\n",
      "\n",
      "set(chunks[16][Vehicle Expiration Date]) \n",
      " {20160288, 0, 20160930, 20160801, 20160709, 20160421, 20170407, 20170602, 20160206, 20150288, 20150930, 20170524, 20150526} \n",
      "\n",
      "\n",
      "set(chunks[17][Vehicle Expiration Date]) \n",
      " {0, 20170531, 20161130, 20180304, 20170228, 20170527, 20180630, 88888888, 20170331, 20170303} \n",
      "\n",
      "\n",
      "set(chunks[13_14][Violation Precinct]) \n",
      " {33, 71, 76, 13, 78, 79, 81, 88} \n",
      "\n",
      "\n",
      "set(chunks[15][Violation Precinct]) \n",
      " {67, 5, 102, 7, 72, 103, 9, 109, 78, 79, 110, 113, 14, 19, 48, 25, 28} \n",
      "\n",
      "\n",
      "set(chunks[16][Violation Precinct]) \n",
      " {0, 74, 79, 88, 94} \n",
      "\n",
      "\n",
      "set(chunks[17][Violation Precinct]) \n",
      " {0, 71, 73, 106, 44, 13, 14, 17, 18, 120} \n",
      "\n",
      "\n",
      "set(chunks[13_14][Issuer Precinct]) \n",
      " {0, 33, 13, 976, 730} \n",
      "\n",
      "\n",
      "set(chunks[15][Issuer Precinct]) \n",
      " {67, 5, 102, 7, 72, 103, 9, 109, 78, 79, 110, 113, 14, 19, 48, 25, 28} \n",
      "\n",
      "\n",
      "set(chunks[16][Issuer Precinct]) \n",
      " {0, 301} \n",
      "\n",
      "\n",
      "set(chunks[17][Issuer Precinct]) \n",
      " {0, 71, 73, 106, 44, 13, 14, 17, 18, 120} \n",
      "\n",
      "\n",
      "set(chunks[13_14][Date First Observed]) \n",
      " {0} \n",
      "\n",
      "\n",
      "set(chunks[15][Date First Observed]) \n",
      " {'01/01/20141004 12:00:00 PM', '01/05/0001 12:00:00 PM'} \n",
      "\n",
      "\n",
      "set(chunks[16][Date First Observed]) \n",
      " {0} \n",
      "\n",
      "\n",
      "set(chunks[17][Date First Observed]) \n",
      " {0} \n",
      "\n",
      "\n",
      "set(chunks[13_14][Vehicle Year]) \n",
      " {0, 1995, 1998, 2001, 2005, 2010, 2011, 2012, 2013} \n",
      "\n",
      "\n",
      "set(chunks[15][Vehicle Year]) \n",
      " {0, 1993, 2002, 2005, 2007, 2008, 2010, 2012, 2014, 2015} \n",
      "\n",
      "\n",
      "set(chunks[16][Vehicle Year]) \n",
      " {0, 2002, 2006, 2010, 2012, 2014, 2015} \n",
      "\n",
      "\n",
      "set(chunks[17][Vehicle Year]) \n",
      " {0, 2016, 2001, 2004, 2007, 2008, 2009, 2012, 2013, 2015} \n",
      "\n",
      "\n"
     ]
    }
   ],
   "source": [
    "reqd_cols = ['Vehicle Expiration Date',\n",
    "             'Violation Precinct',\n",
    "             'Issuer Precinct',\n",
    "             'Date First Observed',\n",
    "             'Vehicle Year']\n",
    "\n",
    "for col in reqd_cols:\n",
    "    for year in chunks:\n",
    "        print(\"set(chunks[%s][%s])\" %(year,col),\"\\n\",set(chunks[year][col]),\"\\n\\n\")"
   ]
  },
  {
   "cell_type": "markdown",
   "metadata": {},
   "source": [
    "## Turns out Data First Oberved not reqd"
   ]
  },
  {
   "cell_type": "markdown",
   "metadata": {},
   "source": [
    "### Hence"
   ]
  },
  {
   "cell_type": "code",
   "execution_count": 2,
   "metadata": {},
   "outputs": [],
   "source": [
    "reqd_cols = ['Vehicle Expiration Date',\n",
    "             'Violation Precinct',\n",
    "             'Issuer Precinct',\n",
    "             'Vehicle Year']"
   ]
  },
  {
   "cell_type": "markdown",
   "metadata": {},
   "source": [
    "### Creating function that reads data and converts to day of the year which will vary from 1 to 365 (or 366 in case of leap year)"
   ]
  },
  {
   "cell_type": "code",
   "execution_count": 3,
   "metadata": {},
   "outputs": [],
   "source": [
    "def convDate(date): \n",
    "    date = str(date)\n",
    "    months_dict = {'01':31,\n",
    "                  '02':{'leap':29,'normal':28},\n",
    "                  '03':31,\n",
    "                  '04':30,\n",
    "                  '05':31,\n",
    "                  '06':30,\n",
    "                  '07':31,\n",
    "                  '08':31,\n",
    "                  '09':30,\n",
    "                  '10':31,\n",
    "                  '11':30,\n",
    "                  '12':31}\n",
    "    \n",
    "    if len(date) >= 8:\n",
    "        if len(date) > 8: # handling exceptions for  2015 data\n",
    "            date = date.split('.')[0]\n",
    "#             date = date.split(' ')[0].split('/')[-1]\n",
    "\n",
    "            \n",
    "        day_ext = int(date[-2:])\n",
    "        month_ext = date[-4:-2]\n",
    "        year = date[0:4]\n",
    "\n",
    "        day_of_year = 0            \n",
    "\n",
    "        for month in months_dict.keys():\n",
    "            if month == month_ext:\n",
    "                break\n",
    "\n",
    "            if month == '02':\n",
    "                if int(year)%4 == 0:\n",
    "                    day_of_year += months_dict['02']['leap']\n",
    "                else:\n",
    "                    day_of_year += months_dict['02']['normal']\n",
    "            else:\n",
    "                day_of_year += months_dict[month]\n",
    "\n",
    "        day_of_year += day_ext\n",
    "\n",
    "        return day_of_year\n",
    "    \n",
    "    else:\n",
    "        return date"
   ]
  },
  {
   "cell_type": "code",
   "execution_count": 6,
   "metadata": {},
   "outputs": [],
   "source": [
    "clean_data_13_14 = pd.read_csv(\"./Parking_Violations_Issued_-_Fiscal_Year_2014__August_2013___June_2014_.csv\",\n",
    "                              usecols=reqd_cols)"
   ]
  },
  {
   "cell_type": "code",
   "execution_count": 7,
   "metadata": {},
   "outputs": [],
   "source": [
    "# clean_data_15 = pd.read_csv(\"./Parking_Violations_Issued_-_Fiscal_Year_2015.csv\",\n",
    "#                            usecols=reqd_cols)"
   ]
  },
  {
   "cell_type": "code",
   "execution_count": 4,
   "metadata": {},
   "outputs": [],
   "source": [
    "# clean_data_16 = pd.read_csv(\"./Parking_Violations_Issued_-_Fiscal_Year_2016.csv\",\n",
    "#                            usecols=reqd_cols)"
   ]
  },
  {
   "cell_type": "code",
   "execution_count": 9,
   "metadata": {},
   "outputs": [],
   "source": [
    "# clean_data_17 = pd.read_csv(\"./Parking_Violations_Issued_-_Fiscal_Year_2017.csv\",\n",
    "#                            usecols=reqd_cols)"
   ]
  },
  {
   "cell_type": "markdown",
   "metadata": {},
   "source": [
    "# Observing Data Frames"
   ]
  },
  {
   "cell_type": "code",
   "execution_count": 10,
   "metadata": {},
   "outputs": [
    {
     "data": {
      "text/html": [
       "<div>\n",
       "<style scoped>\n",
       "    .dataframe tbody tr th:only-of-type {\n",
       "        vertical-align: middle;\n",
       "    }\n",
       "\n",
       "    .dataframe tbody tr th {\n",
       "        vertical-align: top;\n",
       "    }\n",
       "\n",
       "    .dataframe thead th {\n",
       "        text-align: right;\n",
       "    }\n",
       "</style>\n",
       "<table border=\"1\" class=\"dataframe\">\n",
       "  <thead>\n",
       "    <tr style=\"text-align: right;\">\n",
       "      <th></th>\n",
       "      <th>Vehicle Expiration Date</th>\n",
       "      <th>Violation Precinct</th>\n",
       "      <th>Issuer Precinct</th>\n",
       "      <th>Vehicle Year</th>\n",
       "    </tr>\n",
       "  </thead>\n",
       "  <tbody>\n",
       "    <tr>\n",
       "      <th>0</th>\n",
       "      <td>20140831</td>\n",
       "      <td>33</td>\n",
       "      <td>33</td>\n",
       "      <td>2013.0</td>\n",
       "    </tr>\n",
       "    <tr>\n",
       "      <th>1</th>\n",
       "      <td>20140430</td>\n",
       "      <td>33</td>\n",
       "      <td>33</td>\n",
       "      <td>2012.0</td>\n",
       "    </tr>\n",
       "    <tr>\n",
       "      <th>2</th>\n",
       "      <td>20140228</td>\n",
       "      <td>33</td>\n",
       "      <td>33</td>\n",
       "      <td>0.0</td>\n",
       "    </tr>\n",
       "    <tr>\n",
       "      <th>3</th>\n",
       "      <td>20141031</td>\n",
       "      <td>33</td>\n",
       "      <td>33</td>\n",
       "      <td>2010.0</td>\n",
       "    </tr>\n",
       "    <tr>\n",
       "      <th>4</th>\n",
       "      <td>0</td>\n",
       "      <td>33</td>\n",
       "      <td>33</td>\n",
       "      <td>2012.0</td>\n",
       "    </tr>\n",
       "  </tbody>\n",
       "</table>\n",
       "</div>"
      ],
      "text/plain": [
       "   Vehicle Expiration Date  Violation Precinct  Issuer Precinct  Vehicle Year\n",
       "0                 20140831                  33               33        2013.0\n",
       "1                 20140430                  33               33        2012.0\n",
       "2                 20140228                  33               33           0.0\n",
       "3                 20141031                  33               33        2010.0\n",
       "4                        0                  33               33        2012.0"
      ]
     },
     "execution_count": 10,
     "metadata": {},
     "output_type": "execute_result"
    }
   ],
   "source": [
    "clean_data_13_14.head()"
   ]
  },
  {
   "cell_type": "code",
   "execution_count": 13,
   "metadata": {},
   "outputs": [
    {
     "data": {
      "text/plain": [
       "(9100278, 4)"
      ]
     },
     "execution_count": 13,
     "metadata": {},
     "output_type": "execute_result"
    }
   ],
   "source": [
    "clean_data_13_14.shape"
   ]
  },
  {
   "cell_type": "code",
   "execution_count": 14,
   "metadata": {},
   "outputs": [
    {
     "data": {
      "text/html": [
       "<div>\n",
       "<style scoped>\n",
       "    .dataframe tbody tr th:only-of-type {\n",
       "        vertical-align: middle;\n",
       "    }\n",
       "\n",
       "    .dataframe tbody tr th {\n",
       "        vertical-align: top;\n",
       "    }\n",
       "\n",
       "    .dataframe thead th {\n",
       "        text-align: right;\n",
       "    }\n",
       "</style>\n",
       "<table border=\"1\" class=\"dataframe\">\n",
       "  <thead>\n",
       "    <tr style=\"text-align: right;\">\n",
       "      <th></th>\n",
       "      <th>Vehicle Expiration Date</th>\n",
       "      <th>Violation Precinct</th>\n",
       "      <th>Issuer Precinct</th>\n",
       "      <th>Vehicle Year</th>\n",
       "    </tr>\n",
       "  </thead>\n",
       "  <tbody>\n",
       "    <tr>\n",
       "      <th>0</th>\n",
       "      <td>01/01/20150111 12:00:00 PM</td>\n",
       "      <td>7</td>\n",
       "      <td>7</td>\n",
       "      <td>2005.0</td>\n",
       "    </tr>\n",
       "    <tr>\n",
       "      <th>1</th>\n",
       "      <td>01/01/88888888 12:00:00 PM</td>\n",
       "      <td>25</td>\n",
       "      <td>25</td>\n",
       "      <td>0.0</td>\n",
       "    </tr>\n",
       "    <tr>\n",
       "      <th>2</th>\n",
       "      <td>01/01/20160524 12:00:00 PM</td>\n",
       "      <td>72</td>\n",
       "      <td>72</td>\n",
       "      <td>2010.0</td>\n",
       "    </tr>\n",
       "    <tr>\n",
       "      <th>3</th>\n",
       "      <td>01/01/20170111 12:00:00 PM</td>\n",
       "      <td>102</td>\n",
       "      <td>102</td>\n",
       "      <td>2015.0</td>\n",
       "    </tr>\n",
       "    <tr>\n",
       "      <th>4</th>\n",
       "      <td>01/01/88888888 12:00:00 PM</td>\n",
       "      <td>28</td>\n",
       "      <td>28</td>\n",
       "      <td>0.0</td>\n",
       "    </tr>\n",
       "  </tbody>\n",
       "</table>\n",
       "</div>"
      ],
      "text/plain": [
       "      Vehicle Expiration Date  Violation Precinct  Issuer Precinct  \\\n",
       "0  01/01/20150111 12:00:00 PM                   7                7   \n",
       "1  01/01/88888888 12:00:00 PM                  25               25   \n",
       "2  01/01/20160524 12:00:00 PM                  72               72   \n",
       "3  01/01/20170111 12:00:00 PM                 102              102   \n",
       "4  01/01/88888888 12:00:00 PM                  28               28   \n",
       "\n",
       "   Vehicle Year  \n",
       "0        2005.0  \n",
       "1           0.0  \n",
       "2        2010.0  \n",
       "3        2015.0  \n",
       "4           0.0  "
      ]
     },
     "execution_count": 14,
     "metadata": {},
     "output_type": "execute_result"
    }
   ],
   "source": [
    "clean_data_15.head()"
   ]
  },
  {
   "cell_type": "markdown",
   "metadata": {},
   "source": [
    "2015 data has different format - incorporated in function"
   ]
  },
  {
   "cell_type": "code",
   "execution_count": 15,
   "metadata": {},
   "outputs": [
    {
     "name": "stdout",
     "output_type": "stream",
     "text": [
      "01/01/20150111 12:00:00 PM\n"
     ]
    }
   ],
   "source": [
    "for date in clean_data_15['Vehicle Expiration Date']:\n",
    "    print(date)\n",
    "    break"
   ]
  },
  {
   "cell_type": "code",
   "execution_count": 16,
   "metadata": {},
   "outputs": [
    {
     "data": {
      "text/plain": [
       "'20150111'"
      ]
     },
     "execution_count": 16,
     "metadata": {},
     "output_type": "execute_result"
    }
   ],
   "source": [
    "date.split(' ')[0].split('/')[-1]"
   ]
  },
  {
   "cell_type": "code",
   "execution_count": 17,
   "metadata": {},
   "outputs": [
    {
     "data": {
      "text/html": [
       "<div>\n",
       "<style scoped>\n",
       "    .dataframe tbody tr th:only-of-type {\n",
       "        vertical-align: middle;\n",
       "    }\n",
       "\n",
       "    .dataframe tbody tr th {\n",
       "        vertical-align: top;\n",
       "    }\n",
       "\n",
       "    .dataframe thead th {\n",
       "        text-align: right;\n",
       "    }\n",
       "</style>\n",
       "<table border=\"1\" class=\"dataframe\">\n",
       "  <thead>\n",
       "    <tr style=\"text-align: right;\">\n",
       "      <th></th>\n",
       "      <th>Vehicle Expiration Date</th>\n",
       "      <th>Violation Precinct</th>\n",
       "      <th>Issuer Precinct</th>\n",
       "      <th>Vehicle Year</th>\n",
       "    </tr>\n",
       "  </thead>\n",
       "  <tbody>\n",
       "    <tr>\n",
       "      <th>0</th>\n",
       "      <td>20170602.0</td>\n",
       "      <td>74.0</td>\n",
       "      <td>301.0</td>\n",
       "      <td>2010.0</td>\n",
       "    </tr>\n",
       "    <tr>\n",
       "      <th>1</th>\n",
       "      <td>20160288.0</td>\n",
       "      <td>79.0</td>\n",
       "      <td>301.0</td>\n",
       "      <td>0.0</td>\n",
       "    </tr>\n",
       "    <tr>\n",
       "      <th>2</th>\n",
       "      <td>0.0</td>\n",
       "      <td>79.0</td>\n",
       "      <td>0.0</td>\n",
       "      <td>0.0</td>\n",
       "    </tr>\n",
       "    <tr>\n",
       "      <th>3</th>\n",
       "      <td>0.0</td>\n",
       "      <td>79.0</td>\n",
       "      <td>301.0</td>\n",
       "      <td>2015.0</td>\n",
       "    </tr>\n",
       "    <tr>\n",
       "      <th>4</th>\n",
       "      <td>20160206.0</td>\n",
       "      <td>79.0</td>\n",
       "      <td>301.0</td>\n",
       "      <td>2006.0</td>\n",
       "    </tr>\n",
       "  </tbody>\n",
       "</table>\n",
       "</div>"
      ],
      "text/plain": [
       "   Vehicle Expiration Date  Violation Precinct  Issuer Precinct  Vehicle Year\n",
       "0               20170602.0                74.0            301.0        2010.0\n",
       "1               20160288.0                79.0            301.0           0.0\n",
       "2                      0.0                79.0              0.0           0.0\n",
       "3                      0.0                79.0            301.0        2015.0\n",
       "4               20160206.0                79.0            301.0        2006.0"
      ]
     },
     "execution_count": 17,
     "metadata": {},
     "output_type": "execute_result"
    }
   ],
   "source": [
    "clean_data_16.head()"
   ]
  },
  {
   "cell_type": "code",
   "execution_count": 18,
   "metadata": {},
   "outputs": [
    {
     "data": {
      "text/html": [
       "<div>\n",
       "<style scoped>\n",
       "    .dataframe tbody tr th:only-of-type {\n",
       "        vertical-align: middle;\n",
       "    }\n",
       "\n",
       "    .dataframe tbody tr th {\n",
       "        vertical-align: top;\n",
       "    }\n",
       "\n",
       "    .dataframe thead th {\n",
       "        text-align: right;\n",
       "    }\n",
       "</style>\n",
       "<table border=\"1\" class=\"dataframe\">\n",
       "  <thead>\n",
       "    <tr style=\"text-align: right;\">\n",
       "      <th></th>\n",
       "      <th>Vehicle Expiration Date</th>\n",
       "      <th>Violation Precinct</th>\n",
       "      <th>Issuer Precinct</th>\n",
       "      <th>Vehicle Year</th>\n",
       "    </tr>\n",
       "  </thead>\n",
       "  <tbody>\n",
       "    <tr>\n",
       "      <th>0</th>\n",
       "      <td>0</td>\n",
       "      <td>0</td>\n",
       "      <td>0</td>\n",
       "      <td>2001</td>\n",
       "    </tr>\n",
       "    <tr>\n",
       "      <th>1</th>\n",
       "      <td>0</td>\n",
       "      <td>0</td>\n",
       "      <td>0</td>\n",
       "      <td>2001</td>\n",
       "    </tr>\n",
       "    <tr>\n",
       "      <th>2</th>\n",
       "      <td>0</td>\n",
       "      <td>0</td>\n",
       "      <td>0</td>\n",
       "      <td>2004</td>\n",
       "    </tr>\n",
       "    <tr>\n",
       "      <th>3</th>\n",
       "      <td>20180630</td>\n",
       "      <td>14</td>\n",
       "      <td>14</td>\n",
       "      <td>2007</td>\n",
       "    </tr>\n",
       "    <tr>\n",
       "      <th>4</th>\n",
       "      <td>20170228</td>\n",
       "      <td>13</td>\n",
       "      <td>13</td>\n",
       "      <td>2007</td>\n",
       "    </tr>\n",
       "  </tbody>\n",
       "</table>\n",
       "</div>"
      ],
      "text/plain": [
       "   Vehicle Expiration Date  Violation Precinct  Issuer Precinct  Vehicle Year\n",
       "0                        0                   0                0          2001\n",
       "1                        0                   0                0          2001\n",
       "2                        0                   0                0          2004\n",
       "3                 20180630                  14               14          2007\n",
       "4                 20170228                  13               13          2007"
      ]
     },
     "execution_count": 18,
     "metadata": {},
     "output_type": "execute_result"
    }
   ],
   "source": [
    "clean_data_17.head()"
   ]
  },
  {
   "cell_type": "markdown",
   "metadata": {},
   "source": [
    "# Updating date values to day of the year all dataframes"
   ]
  },
  {
   "cell_type": "code",
   "execution_count": 11,
   "metadata": {},
   "outputs": [],
   "source": [
    "clean_data_13_14['Vehicle Expiration Date'] = clean_data_13_14['Vehicle Expiration Date'].apply(convDate)"
   ]
  },
  {
   "cell_type": "code",
   "execution_count": 12,
   "metadata": {},
   "outputs": [
    {
     "data": {
      "text/html": [
       "<div>\n",
       "<style scoped>\n",
       "    .dataframe tbody tr th:only-of-type {\n",
       "        vertical-align: middle;\n",
       "    }\n",
       "\n",
       "    .dataframe tbody tr th {\n",
       "        vertical-align: top;\n",
       "    }\n",
       "\n",
       "    .dataframe thead th {\n",
       "        text-align: right;\n",
       "    }\n",
       "</style>\n",
       "<table border=\"1\" class=\"dataframe\">\n",
       "  <thead>\n",
       "    <tr style=\"text-align: right;\">\n",
       "      <th></th>\n",
       "      <th>Vehicle Expiration Date</th>\n",
       "      <th>Violation Precinct</th>\n",
       "      <th>Issuer Precinct</th>\n",
       "      <th>Vehicle Year</th>\n",
       "    </tr>\n",
       "  </thead>\n",
       "  <tbody>\n",
       "    <tr>\n",
       "      <th>0</th>\n",
       "      <td>243</td>\n",
       "      <td>33</td>\n",
       "      <td>33</td>\n",
       "      <td>2013.0</td>\n",
       "    </tr>\n",
       "    <tr>\n",
       "      <th>1</th>\n",
       "      <td>120</td>\n",
       "      <td>33</td>\n",
       "      <td>33</td>\n",
       "      <td>2012.0</td>\n",
       "    </tr>\n",
       "    <tr>\n",
       "      <th>2</th>\n",
       "      <td>59</td>\n",
       "      <td>33</td>\n",
       "      <td>33</td>\n",
       "      <td>0.0</td>\n",
       "    </tr>\n",
       "    <tr>\n",
       "      <th>3</th>\n",
       "      <td>304</td>\n",
       "      <td>33</td>\n",
       "      <td>33</td>\n",
       "      <td>2010.0</td>\n",
       "    </tr>\n",
       "    <tr>\n",
       "      <th>4</th>\n",
       "      <td>0</td>\n",
       "      <td>33</td>\n",
       "      <td>33</td>\n",
       "      <td>2012.0</td>\n",
       "    </tr>\n",
       "  </tbody>\n",
       "</table>\n",
       "</div>"
      ],
      "text/plain": [
       "  Vehicle Expiration Date  Violation Precinct  Issuer Precinct  Vehicle Year\n",
       "0                     243                  33               33        2013.0\n",
       "1                     120                  33               33        2012.0\n",
       "2                      59                  33               33           0.0\n",
       "3                     304                  33               33        2010.0\n",
       "4                       0                  33               33        2012.0"
      ]
     },
     "execution_count": 12,
     "metadata": {},
     "output_type": "execute_result"
    }
   ],
   "source": [
    "clean_data_13_14.head()"
   ]
  },
  {
   "cell_type": "markdown",
   "metadata": {},
   "source": [
    "# Writing dataframes of all years to HDF(Hierarchial Data Format)\n",
    " Appplying the convDate method to Vehicle Expiration Date column of all csvs"
   ]
  },
  {
   "cell_type": "code",
   "execution_count": 13,
   "metadata": {},
   "outputs": [
    {
     "name": "stderr",
     "output_type": "stream",
     "text": [
      "/home/abishek/miniconda3/envs/anishka/lib/python3.8/site-packages/pandas/core/generic.py:2490: PerformanceWarning: \n",
      "your performance may suffer as PyTables will pickle object types that it cannot\n",
      "map directly to c-types [inferred_type->mixed-integer,key->block2_values] [items->Index(['Vehicle Expiration Date'], dtype='object')]\n",
      "\n",
      "  pytables.to_hdf(\n"
     ]
    }
   ],
   "source": [
    "clean_data_13_14.to_hdf('clean_data_13_14.h5', key='df', mode='w')"
   ]
  },
  {
   "cell_type": "code",
   "execution_count": 14,
   "metadata": {},
   "outputs": [],
   "source": [
    "clean_data_15['Vehicle Expiration Date'] = clean_data_15['Vehicle Expiration Date'].apply(convDate)    \n",
    "\n",
    "clean_data_15.to_hdf('clean_data_15.h5', key='df', mode='w')"
   ]
  },
  {
   "cell_type": "code",
   "execution_count": 5,
   "metadata": {},
   "outputs": [
    {
     "name": "stderr",
     "output_type": "stream",
     "text": [
      "/home/abishek/miniconda3/envs/anishka/lib/python3.8/site-packages/pandas/core/generic.py:2490: PerformanceWarning: \n",
      "your performance may suffer as PyTables will pickle object types that it cannot\n",
      "map directly to c-types [inferred_type->mixed-integer,key->block1_values] [items->Index(['Vehicle Expiration Date'], dtype='object')]\n",
      "\n",
      "  pytables.to_hdf(\n"
     ]
    }
   ],
   "source": [
    "clean_data_16['Vehicle Expiration Date'] = clean_data_16['Vehicle Expiration Date'].apply(convDate)\n",
    "    \n",
    "clean_data_16.to_hdf('clean_data_16.h5', key='df', mode='w')"
   ]
  },
  {
   "cell_type": "code",
   "execution_count": 16,
   "metadata": {},
   "outputs": [
    {
     "name": "stderr",
     "output_type": "stream",
     "text": [
      "/home/abishek/miniconda3/envs/anishka/lib/python3.8/site-packages/pandas/core/generic.py:2490: PerformanceWarning: \n",
      "your performance may suffer as PyTables will pickle object types that it cannot\n",
      "map directly to c-types [inferred_type->mixed-integer,key->block1_values] [items->Index(['Vehicle Expiration Date'], dtype='object')]\n",
      "\n",
      "  pytables.to_hdf(\n"
     ]
    }
   ],
   "source": [
    "clean_data_17['Vehicle Expiration Date'] = clean_data_17['Vehicle Expiration Date'].apply(convDate)\n",
    "    \n",
    "clean_data_17.to_hdf('clean_data_17.h5', key='df', mode='w')"
   ]
  },
  {
   "cell_type": "code",
   "execution_count": 36,
   "metadata": {},
   "outputs": [
    {
     "data": {
      "text/html": [
       "<div>\n",
       "<style scoped>\n",
       "    .dataframe tbody tr th:only-of-type {\n",
       "        vertical-align: middle;\n",
       "    }\n",
       "\n",
       "    .dataframe tbody tr th {\n",
       "        vertical-align: top;\n",
       "    }\n",
       "\n",
       "    .dataframe thead th {\n",
       "        text-align: right;\n",
       "    }\n",
       "</style>\n",
       "<table border=\"1\" class=\"dataframe\">\n",
       "  <thead>\n",
       "    <tr style=\"text-align: right;\">\n",
       "      <th></th>\n",
       "      <th>Vehicle Expiration Date</th>\n",
       "      <th>Violation Precinct</th>\n",
       "      <th>Issuer Precinct</th>\n",
       "      <th>Vehicle Year</th>\n",
       "    </tr>\n",
       "  </thead>\n",
       "  <tbody>\n",
       "    <tr>\n",
       "      <th>0</th>\n",
       "      <td>20140831</td>\n",
       "      <td>33</td>\n",
       "      <td>33</td>\n",
       "      <td>2013.0</td>\n",
       "    </tr>\n",
       "    <tr>\n",
       "      <th>1</th>\n",
       "      <td>20140430</td>\n",
       "      <td>33</td>\n",
       "      <td>33</td>\n",
       "      <td>2012.0</td>\n",
       "    </tr>\n",
       "    <tr>\n",
       "      <th>2</th>\n",
       "      <td>20140228</td>\n",
       "      <td>33</td>\n",
       "      <td>33</td>\n",
       "      <td>0.0</td>\n",
       "    </tr>\n",
       "    <tr>\n",
       "      <th>3</th>\n",
       "      <td>20141031</td>\n",
       "      <td>33</td>\n",
       "      <td>33</td>\n",
       "      <td>2010.0</td>\n",
       "    </tr>\n",
       "    <tr>\n",
       "      <th>4</th>\n",
       "      <td>0</td>\n",
       "      <td>33</td>\n",
       "      <td>33</td>\n",
       "      <td>2012.0</td>\n",
       "    </tr>\n",
       "    <tr>\n",
       "      <th>...</th>\n",
       "      <td>...</td>\n",
       "      <td>...</td>\n",
       "      <td>...</td>\n",
       "      <td>...</td>\n",
       "    </tr>\n",
       "    <tr>\n",
       "      <th>9100273</th>\n",
       "      <td>88888888</td>\n",
       "      <td>70</td>\n",
       "      <td>70</td>\n",
       "      <td>2011.0</td>\n",
       "    </tr>\n",
       "    <tr>\n",
       "      <th>9100274</th>\n",
       "      <td>88888888</td>\n",
       "      <td>70</td>\n",
       "      <td>70</td>\n",
       "      <td>2007.0</td>\n",
       "    </tr>\n",
       "    <tr>\n",
       "      <th>9100275</th>\n",
       "      <td>20140531</td>\n",
       "      <td>70</td>\n",
       "      <td>70</td>\n",
       "      <td>1996.0</td>\n",
       "    </tr>\n",
       "    <tr>\n",
       "      <th>9100276</th>\n",
       "      <td>20140088</td>\n",
       "      <td>70</td>\n",
       "      <td>70</td>\n",
       "      <td>0.0</td>\n",
       "    </tr>\n",
       "    <tr>\n",
       "      <th>9100277</th>\n",
       "      <td>20150815</td>\n",
       "      <td>70</td>\n",
       "      <td>70</td>\n",
       "      <td>0.0</td>\n",
       "    </tr>\n",
       "  </tbody>\n",
       "</table>\n",
       "<p>9100278 rows × 4 columns</p>\n",
       "</div>"
      ],
      "text/plain": [
       "         Vehicle Expiration Date  Violation Precinct  Issuer Precinct  \\\n",
       "0                       20140831                  33               33   \n",
       "1                       20140430                  33               33   \n",
       "2                       20140228                  33               33   \n",
       "3                       20141031                  33               33   \n",
       "4                              0                  33               33   \n",
       "...                          ...                 ...              ...   \n",
       "9100273                 88888888                  70               70   \n",
       "9100274                 88888888                  70               70   \n",
       "9100275                 20140531                  70               70   \n",
       "9100276                 20140088                  70               70   \n",
       "9100277                 20150815                  70               70   \n",
       "\n",
       "         Vehicle Year  \n",
       "0              2013.0  \n",
       "1              2012.0  \n",
       "2                 0.0  \n",
       "3              2010.0  \n",
       "4              2012.0  \n",
       "...               ...  \n",
       "9100273        2011.0  \n",
       "9100274        2007.0  \n",
       "9100275        1996.0  \n",
       "9100276           0.0  \n",
       "9100277           0.0  \n",
       "\n",
       "[9100278 rows x 4 columns]"
      ]
     },
     "execution_count": 36,
     "metadata": {},
     "output_type": "execute_result"
    }
   ],
   "source": [
    "clean_data_13_14"
   ]
  },
  {
   "cell_type": "code",
   "execution_count": 17,
   "metadata": {},
   "outputs": [
    {
     "data": {
      "text/html": [
       "<div>\n",
       "<style scoped>\n",
       "    .dataframe tbody tr th:only-of-type {\n",
       "        vertical-align: middle;\n",
       "    }\n",
       "\n",
       "    .dataframe tbody tr th {\n",
       "        vertical-align: top;\n",
       "    }\n",
       "\n",
       "    .dataframe thead th {\n",
       "        text-align: right;\n",
       "    }\n",
       "</style>\n",
       "<table border=\"1\" class=\"dataframe\">\n",
       "  <thead>\n",
       "    <tr style=\"text-align: right;\">\n",
       "      <th></th>\n",
       "      <th>Vehicle Expiration Date</th>\n",
       "      <th>Violation Precinct</th>\n",
       "      <th>Issuer Precinct</th>\n",
       "      <th>Vehicle Year</th>\n",
       "    </tr>\n",
       "  </thead>\n",
       "  <tbody>\n",
       "    <tr>\n",
       "      <th>0</th>\n",
       "      <td>11</td>\n",
       "      <td>7</td>\n",
       "      <td>7</td>\n",
       "      <td>2005.0</td>\n",
       "    </tr>\n",
       "    <tr>\n",
       "      <th>1</th>\n",
       "      <td>454</td>\n",
       "      <td>25</td>\n",
       "      <td>25</td>\n",
       "      <td>0.0</td>\n",
       "    </tr>\n",
       "    <tr>\n",
       "      <th>2</th>\n",
       "      <td>145</td>\n",
       "      <td>72</td>\n",
       "      <td>72</td>\n",
       "      <td>2010.0</td>\n",
       "    </tr>\n",
       "    <tr>\n",
       "      <th>3</th>\n",
       "      <td>11</td>\n",
       "      <td>102</td>\n",
       "      <td>102</td>\n",
       "      <td>2015.0</td>\n",
       "    </tr>\n",
       "    <tr>\n",
       "      <th>4</th>\n",
       "      <td>454</td>\n",
       "      <td>28</td>\n",
       "      <td>28</td>\n",
       "      <td>0.0</td>\n",
       "    </tr>\n",
       "    <tr>\n",
       "      <th>...</th>\n",
       "      <td>...</td>\n",
       "      <td>...</td>\n",
       "      <td>...</td>\n",
       "      <td>...</td>\n",
       "    </tr>\n",
       "    <tr>\n",
       "      <th>11809228</th>\n",
       "      <td>331</td>\n",
       "      <td>81</td>\n",
       "      <td>81</td>\n",
       "      <td>0.0</td>\n",
       "    </tr>\n",
       "    <tr>\n",
       "      <th>11809229</th>\n",
       "      <td>191</td>\n",
       "      <td>14</td>\n",
       "      <td>14</td>\n",
       "      <td>2013.0</td>\n",
       "    </tr>\n",
       "    <tr>\n",
       "      <th>11809230</th>\n",
       "      <td>304</td>\n",
       "      <td>18</td>\n",
       "      <td>18</td>\n",
       "      <td>2007.0</td>\n",
       "    </tr>\n",
       "    <tr>\n",
       "      <th>11809231</th>\n",
       "      <td>304</td>\n",
       "      <td>104</td>\n",
       "      <td>104</td>\n",
       "      <td>1995.0</td>\n",
       "    </tr>\n",
       "    <tr>\n",
       "      <th>11809232</th>\n",
       "      <td>182</td>\n",
       "      <td>10</td>\n",
       "      <td>10</td>\n",
       "      <td>2006.0</td>\n",
       "    </tr>\n",
       "  </tbody>\n",
       "</table>\n",
       "<p>11809233 rows × 4 columns</p>\n",
       "</div>"
      ],
      "text/plain": [
       "          Vehicle Expiration Date  Violation Precinct  Issuer Precinct  \\\n",
       "0                              11                   7                7   \n",
       "1                             454                  25               25   \n",
       "2                             145                  72               72   \n",
       "3                              11                 102              102   \n",
       "4                             454                  28               28   \n",
       "...                           ...                 ...              ...   \n",
       "11809228                      331                  81               81   \n",
       "11809229                      191                  14               14   \n",
       "11809230                      304                  18               18   \n",
       "11809231                      304                 104              104   \n",
       "11809232                      182                  10               10   \n",
       "\n",
       "          Vehicle Year  \n",
       "0               2005.0  \n",
       "1                  0.0  \n",
       "2               2010.0  \n",
       "3               2015.0  \n",
       "4                  0.0  \n",
       "...                ...  \n",
       "11809228           0.0  \n",
       "11809229        2013.0  \n",
       "11809230        2007.0  \n",
       "11809231        1995.0  \n",
       "11809232        2006.0  \n",
       "\n",
       "[11809233 rows x 4 columns]"
      ]
     },
     "execution_count": 17,
     "metadata": {},
     "output_type": "execute_result"
    }
   ],
   "source": [
    "clean_data_15"
   ]
  },
  {
   "cell_type": "code",
   "execution_count": 6,
   "metadata": {},
   "outputs": [
    {
     "data": {
      "text/html": [
       "<div>\n",
       "<style scoped>\n",
       "    .dataframe tbody tr th:only-of-type {\n",
       "        vertical-align: middle;\n",
       "    }\n",
       "\n",
       "    .dataframe tbody tr th {\n",
       "        vertical-align: top;\n",
       "    }\n",
       "\n",
       "    .dataframe thead th {\n",
       "        text-align: right;\n",
       "    }\n",
       "</style>\n",
       "<table border=\"1\" class=\"dataframe\">\n",
       "  <thead>\n",
       "    <tr style=\"text-align: right;\">\n",
       "      <th></th>\n",
       "      <th>Vehicle Expiration Date</th>\n",
       "      <th>Violation Precinct</th>\n",
       "      <th>Issuer Precinct</th>\n",
       "      <th>Vehicle Year</th>\n",
       "    </tr>\n",
       "  </thead>\n",
       "  <tbody>\n",
       "    <tr>\n",
       "      <th>0</th>\n",
       "      <td>153</td>\n",
       "      <td>74.0</td>\n",
       "      <td>301.0</td>\n",
       "      <td>2010.0</td>\n",
       "    </tr>\n",
       "    <tr>\n",
       "      <th>1</th>\n",
       "      <td>119</td>\n",
       "      <td>79.0</td>\n",
       "      <td>301.0</td>\n",
       "      <td>0.0</td>\n",
       "    </tr>\n",
       "    <tr>\n",
       "      <th>2</th>\n",
       "      <td>0.0</td>\n",
       "      <td>79.0</td>\n",
       "      <td>0.0</td>\n",
       "      <td>0.0</td>\n",
       "    </tr>\n",
       "    <tr>\n",
       "      <th>3</th>\n",
       "      <td>0.0</td>\n",
       "      <td>79.0</td>\n",
       "      <td>301.0</td>\n",
       "      <td>2015.0</td>\n",
       "    </tr>\n",
       "    <tr>\n",
       "      <th>4</th>\n",
       "      <td>37</td>\n",
       "      <td>79.0</td>\n",
       "      <td>301.0</td>\n",
       "      <td>2006.0</td>\n",
       "    </tr>\n",
       "    <tr>\n",
       "      <th>...</th>\n",
       "      <td>...</td>\n",
       "      <td>...</td>\n",
       "      <td>...</td>\n",
       "      <td>...</td>\n",
       "    </tr>\n",
       "    <tr>\n",
       "      <th>10626894</th>\n",
       "      <td>333</td>\n",
       "      <td>43.0</td>\n",
       "      <td>43.0</td>\n",
       "      <td>2013.0</td>\n",
       "    </tr>\n",
       "    <tr>\n",
       "      <th>10626895</th>\n",
       "      <td>454</td>\n",
       "      <td>43.0</td>\n",
       "      <td>43.0</td>\n",
       "      <td>0.0</td>\n",
       "    </tr>\n",
       "    <tr>\n",
       "      <th>10626896</th>\n",
       "      <td>454</td>\n",
       "      <td>43.0</td>\n",
       "      <td>43.0</td>\n",
       "      <td>2007.0</td>\n",
       "    </tr>\n",
       "    <tr>\n",
       "      <th>10626897</th>\n",
       "      <td>151</td>\n",
       "      <td>43.0</td>\n",
       "      <td>43.0</td>\n",
       "      <td>2015.0</td>\n",
       "    </tr>\n",
       "    <tr>\n",
       "      <th>10626898</th>\n",
       "      <td>193</td>\n",
       "      <td>43.0</td>\n",
       "      <td>43.0</td>\n",
       "      <td>2013.0</td>\n",
       "    </tr>\n",
       "  </tbody>\n",
       "</table>\n",
       "<p>10626899 rows × 4 columns</p>\n",
       "</div>"
      ],
      "text/plain": [
       "         Vehicle Expiration Date  Violation Precinct  Issuer Precinct  \\\n",
       "0                            153                74.0            301.0   \n",
       "1                            119                79.0            301.0   \n",
       "2                            0.0                79.0              0.0   \n",
       "3                            0.0                79.0            301.0   \n",
       "4                             37                79.0            301.0   \n",
       "...                          ...                 ...              ...   \n",
       "10626894                     333                43.0             43.0   \n",
       "10626895                     454                43.0             43.0   \n",
       "10626896                     454                43.0             43.0   \n",
       "10626897                     151                43.0             43.0   \n",
       "10626898                     193                43.0             43.0   \n",
       "\n",
       "          Vehicle Year  \n",
       "0               2010.0  \n",
       "1                  0.0  \n",
       "2                  0.0  \n",
       "3               2015.0  \n",
       "4               2006.0  \n",
       "...                ...  \n",
       "10626894        2013.0  \n",
       "10626895           0.0  \n",
       "10626896        2007.0  \n",
       "10626897        2015.0  \n",
       "10626898        2013.0  \n",
       "\n",
       "[10626899 rows x 4 columns]"
      ]
     },
     "execution_count": 6,
     "metadata": {},
     "output_type": "execute_result"
    }
   ],
   "source": [
    "clean_data_16"
   ]
  },
  {
   "cell_type": "code",
   "execution_count": 19,
   "metadata": {},
   "outputs": [
    {
     "data": {
      "text/html": [
       "<div>\n",
       "<style scoped>\n",
       "    .dataframe tbody tr th:only-of-type {\n",
       "        vertical-align: middle;\n",
       "    }\n",
       "\n",
       "    .dataframe tbody tr th {\n",
       "        vertical-align: top;\n",
       "    }\n",
       "\n",
       "    .dataframe thead th {\n",
       "        text-align: right;\n",
       "    }\n",
       "</style>\n",
       "<table border=\"1\" class=\"dataframe\">\n",
       "  <thead>\n",
       "    <tr style=\"text-align: right;\">\n",
       "      <th></th>\n",
       "      <th>Vehicle Expiration Date</th>\n",
       "      <th>Violation Precinct</th>\n",
       "      <th>Issuer Precinct</th>\n",
       "      <th>Vehicle Year</th>\n",
       "    </tr>\n",
       "  </thead>\n",
       "  <tbody>\n",
       "    <tr>\n",
       "      <th>0</th>\n",
       "      <td>0</td>\n",
       "      <td>0</td>\n",
       "      <td>0</td>\n",
       "      <td>2001</td>\n",
       "    </tr>\n",
       "    <tr>\n",
       "      <th>1</th>\n",
       "      <td>0</td>\n",
       "      <td>0</td>\n",
       "      <td>0</td>\n",
       "      <td>2001</td>\n",
       "    </tr>\n",
       "    <tr>\n",
       "      <th>2</th>\n",
       "      <td>0</td>\n",
       "      <td>0</td>\n",
       "      <td>0</td>\n",
       "      <td>2004</td>\n",
       "    </tr>\n",
       "    <tr>\n",
       "      <th>3</th>\n",
       "      <td>181</td>\n",
       "      <td>14</td>\n",
       "      <td>14</td>\n",
       "      <td>2007</td>\n",
       "    </tr>\n",
       "    <tr>\n",
       "      <th>4</th>\n",
       "      <td>59</td>\n",
       "      <td>13</td>\n",
       "      <td>13</td>\n",
       "      <td>2007</td>\n",
       "    </tr>\n",
       "    <tr>\n",
       "      <th>...</th>\n",
       "      <td>...</td>\n",
       "      <td>...</td>\n",
       "      <td>...</td>\n",
       "      <td>...</td>\n",
       "    </tr>\n",
       "    <tr>\n",
       "      <th>10803023</th>\n",
       "      <td>0</td>\n",
       "      <td>68</td>\n",
       "      <td>0</td>\n",
       "      <td>0</td>\n",
       "    </tr>\n",
       "    <tr>\n",
       "      <th>10803024</th>\n",
       "      <td>275</td>\n",
       "      <td>71</td>\n",
       "      <td>976</td>\n",
       "      <td>2007</td>\n",
       "    </tr>\n",
       "    <tr>\n",
       "      <th>10803025</th>\n",
       "      <td>274</td>\n",
       "      <td>69</td>\n",
       "      <td>69</td>\n",
       "      <td>0</td>\n",
       "    </tr>\n",
       "    <tr>\n",
       "      <th>10803026</th>\n",
       "      <td>175</td>\n",
       "      <td>69</td>\n",
       "      <td>69</td>\n",
       "      <td>2011</td>\n",
       "    </tr>\n",
       "    <tr>\n",
       "      <th>10803027</th>\n",
       "      <td>156</td>\n",
       "      <td>69</td>\n",
       "      <td>0</td>\n",
       "      <td>2011</td>\n",
       "    </tr>\n",
       "  </tbody>\n",
       "</table>\n",
       "<p>10803028 rows × 4 columns</p>\n",
       "</div>"
      ],
      "text/plain": [
       "         Vehicle Expiration Date  Violation Precinct  Issuer Precinct  \\\n",
       "0                              0                   0                0   \n",
       "1                              0                   0                0   \n",
       "2                              0                   0                0   \n",
       "3                            181                  14               14   \n",
       "4                             59                  13               13   \n",
       "...                          ...                 ...              ...   \n",
       "10803023                       0                  68                0   \n",
       "10803024                     275                  71              976   \n",
       "10803025                     274                  69               69   \n",
       "10803026                     175                  69               69   \n",
       "10803027                     156                  69                0   \n",
       "\n",
       "          Vehicle Year  \n",
       "0                 2001  \n",
       "1                 2001  \n",
       "2                 2004  \n",
       "3                 2007  \n",
       "4                 2007  \n",
       "...                ...  \n",
       "10803023             0  \n",
       "10803024          2007  \n",
       "10803025             0  \n",
       "10803026          2011  \n",
       "10803027          2011  \n",
       "\n",
       "[10803028 rows x 4 columns]"
      ]
     },
     "execution_count": 19,
     "metadata": {},
     "output_type": "execute_result"
    }
   ],
   "source": [
    "clean_data_17"
   ]
  },
  {
   "cell_type": "markdown",
   "metadata": {},
   "source": [
    "### 2013-14 data"
   ]
  },
  {
   "cell_type": "code",
   "execution_count": 3,
   "metadata": {},
   "outputs": [],
   "source": [
    "clean_data_13_14 = pd.read_hdf(\"./clean_data_13_14.h5\")"
   ]
  },
  {
   "cell_type": "code",
   "execution_count": 4,
   "metadata": {},
   "outputs": [
    {
     "data": {
      "text/html": [
       "<div>\n",
       "<style scoped>\n",
       "    .dataframe tbody tr th:only-of-type {\n",
       "        vertical-align: middle;\n",
       "    }\n",
       "\n",
       "    .dataframe tbody tr th {\n",
       "        vertical-align: top;\n",
       "    }\n",
       "\n",
       "    .dataframe thead th {\n",
       "        text-align: right;\n",
       "    }\n",
       "</style>\n",
       "<table border=\"1\" class=\"dataframe\">\n",
       "  <thead>\n",
       "    <tr style=\"text-align: right;\">\n",
       "      <th></th>\n",
       "      <th>Vehicle Expiration Date</th>\n",
       "      <th>Violation Precinct</th>\n",
       "      <th>Issuer Precinct</th>\n",
       "      <th>Vehicle Year</th>\n",
       "    </tr>\n",
       "  </thead>\n",
       "  <tbody>\n",
       "    <tr>\n",
       "      <th>0</th>\n",
       "      <td>243</td>\n",
       "      <td>33</td>\n",
       "      <td>33</td>\n",
       "      <td>2013.0</td>\n",
       "    </tr>\n",
       "    <tr>\n",
       "      <th>1</th>\n",
       "      <td>120</td>\n",
       "      <td>33</td>\n",
       "      <td>33</td>\n",
       "      <td>2012.0</td>\n",
       "    </tr>\n",
       "    <tr>\n",
       "      <th>2</th>\n",
       "      <td>59</td>\n",
       "      <td>33</td>\n",
       "      <td>33</td>\n",
       "      <td>0.0</td>\n",
       "    </tr>\n",
       "    <tr>\n",
       "      <th>3</th>\n",
       "      <td>304</td>\n",
       "      <td>33</td>\n",
       "      <td>33</td>\n",
       "      <td>2010.0</td>\n",
       "    </tr>\n",
       "    <tr>\n",
       "      <th>4</th>\n",
       "      <td>0</td>\n",
       "      <td>33</td>\n",
       "      <td>33</td>\n",
       "      <td>2012.0</td>\n",
       "    </tr>\n",
       "    <tr>\n",
       "      <th>...</th>\n",
       "      <td>...</td>\n",
       "      <td>...</td>\n",
       "      <td>...</td>\n",
       "      <td>...</td>\n",
       "    </tr>\n",
       "    <tr>\n",
       "      <th>9100273</th>\n",
       "      <td>454</td>\n",
       "      <td>70</td>\n",
       "      <td>70</td>\n",
       "      <td>2011.0</td>\n",
       "    </tr>\n",
       "    <tr>\n",
       "      <th>9100274</th>\n",
       "      <td>454</td>\n",
       "      <td>70</td>\n",
       "      <td>70</td>\n",
       "      <td>2007.0</td>\n",
       "    </tr>\n",
       "    <tr>\n",
       "      <th>9100275</th>\n",
       "      <td>151</td>\n",
       "      <td>70</td>\n",
       "      <td>70</td>\n",
       "      <td>1996.0</td>\n",
       "    </tr>\n",
       "    <tr>\n",
       "      <th>9100276</th>\n",
       "      <td>453</td>\n",
       "      <td>70</td>\n",
       "      <td>70</td>\n",
       "      <td>0.0</td>\n",
       "    </tr>\n",
       "    <tr>\n",
       "      <th>9100277</th>\n",
       "      <td>227</td>\n",
       "      <td>70</td>\n",
       "      <td>70</td>\n",
       "      <td>0.0</td>\n",
       "    </tr>\n",
       "  </tbody>\n",
       "</table>\n",
       "<p>9100278 rows × 4 columns</p>\n",
       "</div>"
      ],
      "text/plain": [
       "        Vehicle Expiration Date  Violation Precinct  Issuer Precinct  \\\n",
       "0                           243                  33               33   \n",
       "1                           120                  33               33   \n",
       "2                            59                  33               33   \n",
       "3                           304                  33               33   \n",
       "4                             0                  33               33   \n",
       "...                         ...                 ...              ...   \n",
       "9100273                     454                  70               70   \n",
       "9100274                     454                  70               70   \n",
       "9100275                     151                  70               70   \n",
       "9100276                     453                  70               70   \n",
       "9100277                     227                  70               70   \n",
       "\n",
       "         Vehicle Year  \n",
       "0              2013.0  \n",
       "1              2012.0  \n",
       "2                 0.0  \n",
       "3              2010.0  \n",
       "4              2012.0  \n",
       "...               ...  \n",
       "9100273        2011.0  \n",
       "9100274        2007.0  \n",
       "9100275        1996.0  \n",
       "9100276           0.0  \n",
       "9100277           0.0  \n",
       "\n",
       "[9100278 rows x 4 columns]"
      ]
     },
     "execution_count": 4,
     "metadata": {},
     "output_type": "execute_result"
    }
   ],
   "source": [
    "clean_data_13_14"
   ]
  },
  {
   "cell_type": "code",
   "execution_count": 4,
   "metadata": {
    "scrolled": true
   },
   "outputs": [
    {
     "name": "stdout",
     "output_type": "stream",
     "text": [
      "clean_data_13_14[Vehicle Expiration Date].isnull().values.any() False\n",
      "clean_data_13_14[Violation Precinct].isnull().values.any() False\n",
      "clean_data_13_14[Issuer Precinct].isnull().values.any() False\n",
      "clean_data_13_14[Vehicle Year].isnull().values.any() True\n"
     ]
    }
   ],
   "source": [
    "for col in clean_data_13_14:\n",
    "    print(\"clean_data_13_14[%s].isnull().values.any()\"%col,clean_data_13_14[col].isnull().values.any())"
   ]
  },
  {
   "cell_type": "code",
   "execution_count": 5,
   "metadata": {
    "scrolled": true
   },
   "outputs": [
    {
     "data": {
      "text/plain": [
       "{0.0,\n",
       " 1970.0,\n",
       " 1971.0,\n",
       " 1972.0,\n",
       " 1973.0,\n",
       " 1974.0,\n",
       " 1975.0,\n",
       " 1976.0,\n",
       " 1977.0,\n",
       " 1978.0,\n",
       " 1979.0,\n",
       " 1980.0,\n",
       " 1981.0,\n",
       " 1982.0,\n",
       " 1983.0,\n",
       " 1984.0,\n",
       " 1985.0,\n",
       " 1986.0,\n",
       " 1987.0,\n",
       " 1988.0,\n",
       " 1989.0,\n",
       " 1990.0,\n",
       " 1991.0,\n",
       " 1992.0,\n",
       " 1993.0,\n",
       " 1994.0,\n",
       " 1995.0,\n",
       " 1996.0,\n",
       " 1997.0,\n",
       " 1998.0,\n",
       " 1999.0,\n",
       " 2001.0,\n",
       " 2002.0,\n",
       " 2003.0,\n",
       " 2004.0,\n",
       " 2005.0,\n",
       " 2006.0,\n",
       " 2007.0,\n",
       " 2008.0,\n",
       " 2009.0,\n",
       " 2010.0,\n",
       " 2011.0,\n",
       " 2012.0,\n",
       " 2013.0,\n",
       " 2014.0,\n",
       " 2015.0,\n",
       " 2016.0,\n",
       " 2017.0,\n",
       " 2018.0,\n",
       " 2019.0,\n",
       " 2020.0,\n",
       " 2021.0,\n",
       " 2022.0,\n",
       " 2023.0,\n",
       " 2024.0,\n",
       " 2025.0,\n",
       " 2026.0,\n",
       " 2027.0,\n",
       " 2028.0,\n",
       " 2029.0,\n",
       " 2030.0,\n",
       " 2031.0,\n",
       " 2032.0,\n",
       " 2033.0,\n",
       " 2034.0,\n",
       " 2035.0,\n",
       " 2036.0,\n",
       " 2037.0,\n",
       " 2038.0,\n",
       " 2039.0,\n",
       " 2040.0,\n",
       " 2041.0,\n",
       " 2042.0,\n",
       " 2043.0,\n",
       " 2044.0,\n",
       " 2045.0,\n",
       " 2046.0,\n",
       " 2047.0,\n",
       " 2048.0,\n",
       " 2050.0,\n",
       " 2051.0,\n",
       " 2052.0,\n",
       " 2053.0,\n",
       " 2054.0,\n",
       " 2055.0,\n",
       " 2056.0,\n",
       " 2057.0,\n",
       " 2058.0,\n",
       " 2059.0,\n",
       " 2060.0,\n",
       " 2061.0,\n",
       " 2062.0,\n",
       " 2063.0,\n",
       " 2064.0,\n",
       " 2065.0,\n",
       " 2066.0,\n",
       " 2067.0,\n",
       " 2068.0,\n",
       " 2069.0,\n",
       " nan,\n",
       " 2049.0}"
      ]
     },
     "execution_count": 5,
     "metadata": {},
     "output_type": "execute_result"
    }
   ],
   "source": [
    "set(clean_data_13_14['Vehicle Year'])"
   ]
  },
  {
   "cell_type": "markdown",
   "metadata": {},
   "source": [
    "### Finding number of null values in each column"
   ]
  },
  {
   "cell_type": "code",
   "execution_count": 5,
   "metadata": {},
   "outputs": [
    {
     "data": {
      "text/plain": [
       "Vehicle Expiration Date    0\n",
       "Violation Precinct         0\n",
       "Issuer Precinct            0\n",
       "Vehicle Year               1\n",
       "dtype: int64"
      ]
     },
     "execution_count": 5,
     "metadata": {},
     "output_type": "execute_result"
    }
   ],
   "source": [
    "clean_data_13_14.isnull().sum()"
   ]
  },
  {
   "cell_type": "markdown",
   "metadata": {},
   "source": [
    "### Removing null values"
   ]
  },
  {
   "cell_type": "code",
   "execution_count": 4,
   "metadata": {},
   "outputs": [],
   "source": [
    "clean_data_13_14 = clean_data_13_14.dropna()"
   ]
  },
  {
   "cell_type": "code",
   "execution_count": 5,
   "metadata": {},
   "outputs": [
    {
     "data": {
      "text/plain": [
       "Vehicle Expiration Date    0\n",
       "Violation Precinct         0\n",
       "Issuer Precinct            0\n",
       "Vehicle Year               0\n",
       "dtype: int64"
      ]
     },
     "execution_count": 5,
     "metadata": {},
     "output_type": "execute_result"
    }
   ],
   "source": [
    "clean_data_13_14.isnull().sum()"
   ]
  },
  {
   "cell_type": "markdown",
   "metadata": {},
   "source": [
    "### K-Means clustering"
   ]
  },
  {
   "cell_type": "code",
   "execution_count": 8,
   "metadata": {},
   "outputs": [],
   "source": [
    "# kmeans = KMeans(n_clusters=2, random_state=0).fit(clean_data_13_14)"
   ]
  },
  {
   "cell_type": "code",
   "execution_count": 9,
   "metadata": {},
   "outputs": [
    {
     "data": {
      "text/plain": [
       "array([0, 0, 1, ..., 0, 1, 1], dtype=int32)"
      ]
     },
     "execution_count": 9,
     "metadata": {},
     "output_type": "execute_result"
    }
   ],
   "source": [
    "#  kmeans.labels_"
   ]
  },
  {
   "cell_type": "code",
   "execution_count": 10,
   "metadata": {},
   "outputs": [
    {
     "data": {
      "text/plain": [
       "array([[ 1.83752388e+02,  5.18203682e+01,  5.74472576e+01,\n",
       "         2.00665496e+03],\n",
       "       [ 3.05828682e+02,  4.71223945e+01,  5.42146256e+01,\n",
       "        -3.42006388e-08]])"
      ]
     },
     "execution_count": 10,
     "metadata": {},
     "output_type": "execute_result"
    }
   ],
   "source": [
    "# kmeans.cluster_centers_"
   ]
  },
  {
   "cell_type": "markdown",
   "metadata": {},
   "source": [
    "### Saving k-means model to pickle file"
   ]
  },
  {
   "cell_type": "code",
   "execution_count": 24,
   "metadata": {},
   "outputs": [],
   "source": [
    "# pickle.dump(kmeans,open(\"kmeans.pkl\",'wb'))"
   ]
  },
  {
   "cell_type": "markdown",
   "metadata": {},
   "source": [
    "# Visualizing raw data"
   ]
  },
  {
   "cell_type": "code",
   "execution_count": 7,
   "metadata": {},
   "outputs": [
    {
     "data": {
      "text/plain": [
       "['Vehicle Expiration Date',\n",
       " 'Violation Precinct',\n",
       " 'Issuer Precinct',\n",
       " 'Vehicle Year']"
      ]
     },
     "execution_count": 7,
     "metadata": {},
     "output_type": "execute_result"
    }
   ],
   "source": [
    "reqd_cols"
   ]
  },
  {
   "cell_type": "code",
   "execution_count": 31,
   "metadata": {},
   "outputs": [
    {
     "name": "stdout",
     "output_type": "stream",
     "text": [
      "Vehicle Expiration Date Violation Precinct\n",
      "Vehicle Expiration Date Issuer Precinct\n",
      "Vehicle Expiration Date Vehicle Year\n",
      "Violation Precinct Issuer Precinct\n",
      "Violation Precinct Vehicle Year\n",
      "Issuer Precinct Vehicle Year\n"
     ]
    }
   ],
   "source": [
    "combs = list(combinations([1,2,3,4],2))\n",
    "for comb in combs:\n",
    "    print(reqd_cols[comb[0]-1],reqd_cols[comb[1]-1])"
   ]
  },
  {
   "cell_type": "code",
   "execution_count": 10,
   "metadata": {},
   "outputs": [],
   "source": [
    "def visualize_cols(df):\n",
    "    # combination of numbers i.e. 4C2 to see how each column varies w.r.t to the other\n",
    "    comb_list = list(combinations([0,1,2,3],2))\n",
    "    \n",
    "    for comb in comb_list:\n",
    "        print(reqd_cols[comb[0]])\n",
    "        print(reqd_cols[comb[1]])\n",
    "        \n",
    "        plt.figure(figsize=(12,9))\n",
    "\n",
    "        plt.scatter(clean_data_13_14.iloc[:,comb[0]],clean_data_13_14.iloc[:,comb[1]])\n",
    "        plt.xlabel(reqd_cols[comb[0]])\n",
    "        plt.ylabel(reqd_cols[comb[1]])"
   ]
  },
  {
   "cell_type": "code",
   "execution_count": null,
   "metadata": {},
   "outputs": [],
   "source": []
  },
  {
   "cell_type": "code",
   "execution_count": 47,
   "metadata": {},
   "outputs": [
    {
     "name": "stdout",
     "output_type": "stream",
     "text": [
      "Vehicle Expiration Date Violation Precinct\n",
      "Vehicle Expiration Date Issuer Precinct\n",
      "Vehicle Expiration Date Vehicle Year\n",
      "Violation Precinct Issuer Precinct\n",
      "Violation Precinct Vehicle Year\n",
      "Issuer Precinct Vehicle Year\n"
     ]
    }
   ],
   "source": [
    "comb_list = list(combinations([0,1,2,3],2))\n",
    "for comb in comb_list:\n",
    "    print(reqd_cols[comb[0]],reqd_cols[comb[1]])"
   ]
  },
  {
   "cell_type": "code",
   "execution_count": 11,
   "metadata": {
    "scrolled": true
   },
   "outputs": [
    {
     "name": "stdout",
     "output_type": "stream",
     "text": [
      "Vehicle Expiration Date\n",
      "Violation Precinct\n",
      "Vehicle Expiration Date\n",
      "Issuer Precinct\n",
      "Vehicle Expiration Date\n",
      "Vehicle Year\n",
      "Violation Precinct\n",
      "Issuer Precinct\n",
      "Violation Precinct\n",
      "Vehicle Year\n",
      "Issuer Precinct\n",
      "Vehicle Year\n"
     ]
    },
    {
     "data": {
      "image/png": "[encoded data removed]",
      "text/plain": [
       "<Figure size 864x648 with 1 Axes>"
      ]
     },
     "metadata": {},
     "output_type": "display_data"
    },
    {
     "data": {
      "image/png": "[encoded data removed]",
      "text/plain": [
       "<Figure size 864x648 with 1 Axes>"
      ]
     },
     "metadata": {},
     "output_type": "display_data"
    },
    {
     "data": {
      "image/png": "[encoded data removed]",
      "text/plain": [
       "<Figure size 864x648 with 1 Axes>"
      ]
     },
     "metadata": {},
     "output_type": "display_data"
    },
    {
     "data": {
      "image/png": "[encoded data removed]",
      "text/plain": [
       "<Figure size 864x648 with 1 Axes>"
      ]
     },
     "metadata": {},
     "output_type": "display_data"
    },
    {
     "data": {
      "image/png": "[encoded data removed]",
      "text/plain": [
       "<Figure size 864x648 with 1 Axes>"
      ]
     },
     "metadata": {},
     "output_type": "display_data"
    },
    {
     "data": {
      "image/png": "[encoded data removed]",
      "text/plain": [
       "<Figure size 864x648 with 1 Axes>"
      ]
     },
     "metadata": {},
     "output_type": "display_data"
    }
   ],
   "source": [
    "visualize_cols(clean_data_13_14)"
   ]
  },
  {
   "cell_type": "markdown",
   "metadata": {},
   "source": [
    "# Standardization"
   ]
  },
  {
   "cell_type": "code",
   "execution_count": 6,
   "metadata": {},
   "outputs": [],
   "source": [
    "scaler = StandardScaler()\n",
    "clean_data_13_14_std = scaler.fit_transform(clean_data_13_14)"
   ]
  },
  {
   "cell_type": "code",
   "execution_count": 9,
   "metadata": {},
   "outputs": [],
   "source": [
    "def calc_std(arr):\n",
    "    stdev = 0\n",
    "    mean = sum(arr)/(len(arr))\n",
    "    \n",
    "    for obs in arr:\n",
    "        stdev += (obs-mean)**2\n",
    "        \n",
    "    \n",
    "    return math.sqrt(stdev/(len(arr)))"
   ]
  },
  {
   "cell_type": "code",
   "execution_count": 10,
   "metadata": {},
   "outputs": [],
   "source": [
    "def calc_avg(arr):\n",
    "    return sum(arr)/len(arr)"
   ]
  },
  {
   "cell_type": "code",
   "execution_count": 11,
   "metadata": {},
   "outputs": [
    {
     "data": {
      "text/plain": [
       "(9100277, 4)"
      ]
     },
     "execution_count": 11,
     "metadata": {},
     "output_type": "execute_result"
    }
   ],
   "source": [
    "clean_data_13_14_std.shape"
   ]
  },
  {
   "cell_type": "code",
   "execution_count": 47,
   "metadata": {
    "scrolled": true
   },
   "outputs": [
    {
     "name": "stdout",
     "output_type": "stream",
     "text": [
      "0.9999999999978986\n",
      "-2.6465196196642606e-13\n",
      "\n",
      "\n",
      "\n",
      "0.999999999997922\n",
      "5.9861551317548214e-15\n",
      "\n",
      "\n",
      "\n",
      "1.0000000000065135\n",
      "2.4999778876432283e-13\n",
      "\n",
      "\n",
      "\n",
      "1.000000000013147\n",
      "6.167684496253403e-13\n",
      "\n",
      "\n",
      "\n"
     ]
    }
   ],
   "source": [
    "for col in range(clean_data_13_14_std.shape[1]):\n",
    "    print(calc_std(clean_data_13_14_std[:,col]))\n",
    "    print(calc_avg(clean_data_13_14_std[:,col]))\n",
    "    print(\"\\n\\n\")"
   ]
  },
  {
   "cell_type": "markdown",
   "metadata": {},
   "source": [
    "### PCA"
   ]
  },
  {
   "cell_type": "code",
   "execution_count": 12,
   "metadata": {},
   "outputs": [
    {
     "data": {
      "text/plain": [
       "PCA(copy=True, iterated_power='auto', n_components=None, random_state=None,\n",
       "    svd_solver='auto', tol=0.0, whiten=False)"
      ]
     },
     "execution_count": 12,
     "metadata": {},
     "output_type": "execute_result"
    }
   ],
   "source": [
    "pca = PCA()\n",
    "pca.fit(clean_data_13_14_std)"
   ]
  },
  {
   "cell_type": "markdown",
   "metadata": {},
   "source": [
    "##### This is the percentage of the variance accounted for by each indivaidual principal component\n",
    "##### sum of all these values is equal to one i.e. 100%"
   ]
  },
  {
   "cell_type": "code",
   "execution_count": 13,
   "metadata": {},
   "outputs": [
    {
     "data": {
      "text/plain": [
       "array([0.39006665, 0.33620364, 0.16518535, 0.10854436])"
      ]
     },
     "execution_count": 13,
     "metadata": {},
     "output_type": "execute_result"
    }
   ],
   "source": [
    "pca.explained_variance_ratio_"
   ]
  },
  {
   "cell_type": "code",
   "execution_count": 51,
   "metadata": {},
   "outputs": [
    {
     "data": {
      "text/plain": [
       "array([1.56026678, 1.34481469, 0.66074149, 0.43417748])"
      ]
     },
     "execution_count": 51,
     "metadata": {},
     "output_type": "execute_result"
    }
   ],
   "source": [
    "pca.explained_variance_"
   ]
  },
  {
   "cell_type": "code",
   "execution_count": 56,
   "metadata": {},
   "outputs": [
    {
     "data": {
      "text/plain": [
       "Text(0, 0.5, 'Cumulative Explained Variance')"
      ]
     },
     "execution_count": 56,
     "metadata": {},
     "output_type": "execute_result"
    },
    {
     "data": {
      "image/png": "[encoded data removed]",
      "text/plain": [
       "<Figure size 720x576 with 1 Axes>"
      ]
     },
     "metadata": {},
     "output_type": "display_data"
    }
   ],
   "source": [
    "plt.figure(figsize=(10,8))\n",
    "plt.plot(range(1,5),pca.explained_variance_ratio_.cumsum(),marker='o',linestyle='--')\n",
    "plt.title('Explained Variance by Components')\n",
    "plt.xlabel('Number of Components')\n",
    "plt.ylabel('Cumulative Explained Variance')"
   ]
  },
  {
   "cell_type": "markdown",
   "metadata": {},
   "source": [
    " - rule of thumb is to preserve around 80 % of the variance. \n",
    " - No option but to keep 3 components"
   ]
  },
  {
   "cell_type": "markdown",
   "metadata": {},
   "source": [
    "perform PCA with the chosen number of components"
   ]
  },
  {
   "cell_type": "code",
   "execution_count": 7,
   "metadata": {},
   "outputs": [
    {
     "data": {
      "text/plain": [
       "PCA(copy=True, iterated_power='auto', n_components=3, random_state=None,\n",
       "    svd_solver='auto', tol=0.0, whiten=False)"
      ]
     },
     "execution_count": 7,
     "metadata": {},
     "output_type": "execute_result"
    }
   ],
   "source": [
    "pca = PCA(n_components = 3)\n",
    "\n",
    "# Fit the model to data with the selected number of components = 3\n",
    "pca.fit(clean_data_13_14_std)"
   ]
  },
  {
   "cell_type": "code",
   "execution_count": 8,
   "metadata": {},
   "outputs": [
    {
     "data": {
      "text/plain": [
       "array([[-0.48119558, -0.38908717, -0.54979775],\n",
       "       [-0.41376822, -0.95092214, -0.00614268],\n",
       "       [-0.70651515,  0.3368095 ,  1.83746967],\n",
       "       ...,\n",
       "       [ 0.60015104, -0.62144809, -0.14749629],\n",
       "       [ 0.11052716,  2.31422076,  0.08146   ],\n",
       "       [ 0.23471604,  1.2804753 ,  1.07893317]])"
      ]
     },
     "execution_count": 8,
     "metadata": {},
     "output_type": "execute_result"
    }
   ],
   "source": [
    "# calculating the resulting components scores for the elements in our data set\n",
    "scores_pca = pca.transform(clean_data_13_14_std)\n",
    "scores_pca"
   ]
  },
  {
   "cell_type": "code",
   "execution_count": 11,
   "metadata": {},
   "outputs": [
    {
     "data": {
      "text/plain": [
       "(2000, 3)"
      ]
     },
     "execution_count": 11,
     "metadata": {},
     "output_type": "execute_result"
    }
   ],
   "source": [
    "scores_pca[0:2000].shape"
   ]
  },
  {
   "cell_type": "code",
   "execution_count": 12,
   "metadata": {},
   "outputs": [],
   "source": [
    "# incorporating the newly obtained PCA scores in the K-means algorithm\n",
    "# determining the Within Cluster Sum of Squares(WCSS) for each solution by Elbow Method\n",
    "\n",
    "# K means clustering with PCA\n",
    "# Fitting K Means using transformed data from the PCA\n",
    "wcss = []\n",
    "for i in range(1,21):\n",
    "    kmeans_pca = KMeans(n_clusters = i, init = 'k-means++',random_state = 42)\n",
    "    kmeans_pca.fit(scores_pca[0:2000])\n",
    "    wcss.append(kmeans_pca.inertia_)"
   ]
  },
  {
   "cell_type": "markdown",
   "metadata": {},
   "source": [
    "determining the number of clusters \n",
    "kink or elbow in the WCSS graph is at the 3 clusters mark"
   ]
  },
  {
   "cell_type": "code",
   "execution_count": 14,
   "metadata": {},
   "outputs": [
    {
     "data": {
      "image/png": "[encoded data removed]",
      "text/plain": [
       "<Figure size 720x576 with 1 Axes>"
      ]
     },
     "metadata": {},
     "output_type": "display_data"
    }
   ],
   "source": [
    "# plotting the WCSS against the number of components on a graph\n",
    "plt.figure(figsize=(10,8))\n",
    "plt.plot(range(1,21), wcss, marker='o', linestyle='--')\n",
    "plt.xlabel('No. of Clusters')\n",
    "plt.ylabel('WCSS')\n",
    "plt.title('K-Means with PCA Clustering')\n",
    "plt.show()"
   ]
  },
  {
   "cell_type": "markdown",
   "metadata": {},
   "source": [
    "## Implementing KMeans after PCA and determining the no. of reqd clusters"
   ]
  },
  {
   "cell_type": "code",
   "execution_count": 17,
   "metadata": {},
   "outputs": [
    {
     "data": {
      "text/plain": [
       "KMeans(algorithm='auto', copy_x=True, init='k-means++', max_iter=300,\n",
       "       n_clusters=3, n_init=10, n_jobs=None, precompute_distances='auto',\n",
       "       random_state=42, tol=0.0001, verbose=0)"
      ]
     },
     "execution_count": 17,
     "metadata": {},
     "output_type": "execute_result"
    }
   ],
   "source": [
    "kmeans_pca = KMeans(n_clusters=3,init='k-means++',random_state=42)\n",
    "kmeans_pca.fit(scores_pca)"
   ]
  },
  {
   "cell_type": "code",
   "execution_count": 1,
   "metadata": {},
   "outputs": [
    {
     "name": "stderr",
     "output_type": "stream",
     "text": [
      "UsageError: Line magic function `%memit` not found.\n"
     ]
    }
   ],
   "source": [
    "%memit"
   ]
  },
  {
   "cell_type": "code",
   "execution_count": null,
   "metadata": {},
   "outputs": [],
   "source": [
    "clean_data_13_14_std"
   ]
  },
  {
   "cell_type": "code",
   "execution_count": 39,
   "metadata": {},
   "outputs": [],
   "source": [
    "# Creating New Data Frame\n",
    "kmeans_pca_13_14 = pd.concat([clean_data_13_14.reset_index(drop=True),pd.DataFrame(scores_pca)],axis=1)"
   ]
  },
  {
   "cell_type": "code",
   "execution_count": 40,
   "metadata": {},
   "outputs": [
    {
     "data": {
      "text/html": [
       "<div>\n",
       "<style scoped>\n",
       "    .dataframe tbody tr th:only-of-type {\n",
       "        vertical-align: middle;\n",
       "    }\n",
       "\n",
       "    .dataframe tbody tr th {\n",
       "        vertical-align: top;\n",
       "    }\n",
       "\n",
       "    .dataframe thead th {\n",
       "        text-align: right;\n",
       "    }\n",
       "</style>\n",
       "<table border=\"1\" class=\"dataframe\">\n",
       "  <thead>\n",
       "    <tr style=\"text-align: right;\">\n",
       "      <th></th>\n",
       "      <th>Vehicle Expiration Date</th>\n",
       "      <th>Violation Precinct</th>\n",
       "      <th>Issuer Precinct</th>\n",
       "      <th>Vehicle Year</th>\n",
       "      <th>0</th>\n",
       "      <th>1</th>\n",
       "      <th>2</th>\n",
       "    </tr>\n",
       "  </thead>\n",
       "  <tbody>\n",
       "    <tr>\n",
       "      <th>0</th>\n",
       "      <td>243</td>\n",
       "      <td>33</td>\n",
       "      <td>33</td>\n",
       "      <td>2013.0</td>\n",
       "      <td>-0.481196</td>\n",
       "      <td>-0.389087</td>\n",
       "      <td>-0.549798</td>\n",
       "    </tr>\n",
       "    <tr>\n",
       "      <th>1</th>\n",
       "      <td>120</td>\n",
       "      <td>33</td>\n",
       "      <td>33</td>\n",
       "      <td>2012.0</td>\n",
       "      <td>-0.413768</td>\n",
       "      <td>-0.950922</td>\n",
       "      <td>-0.006143</td>\n",
       "    </tr>\n",
       "    <tr>\n",
       "      <th>2</th>\n",
       "      <td>59</td>\n",
       "      <td>33</td>\n",
       "      <td>33</td>\n",
       "      <td>0.0</td>\n",
       "      <td>-0.706515</td>\n",
       "      <td>0.336809</td>\n",
       "      <td>1.837470</td>\n",
       "    </tr>\n",
       "    <tr>\n",
       "      <th>3</th>\n",
       "      <td>304</td>\n",
       "      <td>33</td>\n",
       "      <td>33</td>\n",
       "      <td>2010.0</td>\n",
       "      <td>-0.515202</td>\n",
       "      <td>-0.107731</td>\n",
       "      <td>-0.816680</td>\n",
       "    </tr>\n",
       "    <tr>\n",
       "      <th>4</th>\n",
       "      <td>0</td>\n",
       "      <td>33</td>\n",
       "      <td>33</td>\n",
       "      <td>2012.0</td>\n",
       "      <td>-0.347827</td>\n",
       "      <td>-1.499814</td>\n",
       "      <td>0.523489</td>\n",
       "    </tr>\n",
       "    <tr>\n",
       "      <th>...</th>\n",
       "      <td>...</td>\n",
       "      <td>...</td>\n",
       "      <td>...</td>\n",
       "      <td>...</td>\n",
       "      <td>...</td>\n",
       "      <td>...</td>\n",
       "      <td>...</td>\n",
       "    </tr>\n",
       "    <tr>\n",
       "      <th>9100272</th>\n",
       "      <td>454</td>\n",
       "      <td>70</td>\n",
       "      <td>70</td>\n",
       "      <td>2011.0</td>\n",
       "      <td>0.436082</td>\n",
       "      <td>0.752822</td>\n",
       "      <td>-1.496554</td>\n",
       "    </tr>\n",
       "    <tr>\n",
       "      <th>9100273</th>\n",
       "      <td>454</td>\n",
       "      <td>70</td>\n",
       "      <td>70</td>\n",
       "      <td>2007.0</td>\n",
       "      <td>0.435434</td>\n",
       "      <td>0.755937</td>\n",
       "      <td>-1.493424</td>\n",
       "    </tr>\n",
       "    <tr>\n",
       "      <th>9100274</th>\n",
       "      <td>151</td>\n",
       "      <td>70</td>\n",
       "      <td>70</td>\n",
       "      <td>1996.0</td>\n",
       "      <td>0.600151</td>\n",
       "      <td>-0.621448</td>\n",
       "      <td>-0.147496</td>\n",
       "    </tr>\n",
       "    <tr>\n",
       "      <th>9100275</th>\n",
       "      <td>453</td>\n",
       "      <td>70</td>\n",
       "      <td>70</td>\n",
       "      <td>0.0</td>\n",
       "      <td>0.110527</td>\n",
       "      <td>2.314221</td>\n",
       "      <td>0.081460</td>\n",
       "    </tr>\n",
       "    <tr>\n",
       "      <th>9100276</th>\n",
       "      <td>227</td>\n",
       "      <td>70</td>\n",
       "      <td>70</td>\n",
       "      <td>0.0</td>\n",
       "      <td>0.234716</td>\n",
       "      <td>1.280475</td>\n",
       "      <td>1.078933</td>\n",
       "    </tr>\n",
       "  </tbody>\n",
       "</table>\n",
       "<p>9100277 rows × 7 columns</p>\n",
       "</div>"
      ],
      "text/plain": [
       "        Vehicle Expiration Date  Violation Precinct  Issuer Precinct  \\\n",
       "0                           243                  33               33   \n",
       "1                           120                  33               33   \n",
       "2                            59                  33               33   \n",
       "3                           304                  33               33   \n",
       "4                             0                  33               33   \n",
       "...                         ...                 ...              ...   \n",
       "9100272                     454                  70               70   \n",
       "9100273                     454                  70               70   \n",
       "9100274                     151                  70               70   \n",
       "9100275                     453                  70               70   \n",
       "9100276                     227                  70               70   \n",
       "\n",
       "         Vehicle Year         0         1         2  \n",
       "0              2013.0 -0.481196 -0.389087 -0.549798  \n",
       "1              2012.0 -0.413768 -0.950922 -0.006143  \n",
       "2                 0.0 -0.706515  0.336809  1.837470  \n",
       "3              2010.0 -0.515202 -0.107731 -0.816680  \n",
       "4              2012.0 -0.347827 -1.499814  0.523489  \n",
       "...               ...       ...       ...       ...  \n",
       "9100272        2011.0  0.436082  0.752822 -1.496554  \n",
       "9100273        2007.0  0.435434  0.755937 -1.493424  \n",
       "9100274        1996.0  0.600151 -0.621448 -0.147496  \n",
       "9100275           0.0  0.110527  2.314221  0.081460  \n",
       "9100276           0.0  0.234716  1.280475  1.078933  \n",
       "\n",
       "[9100277 rows x 7 columns]"
      ]
     },
     "execution_count": 40,
     "metadata": {},
     "output_type": "execute_result"
    }
   ],
   "source": [
    "kmeans_pca_13_14"
   ]
  },
  {
   "cell_type": "code",
   "execution_count": null,
   "metadata": {},
   "outputs": [],
   "source": [
    "['Vehicle Expiration Date','Violation Precinct','Issuer Precinct','Vehicle Year','Component 1','Component 2','Component 3']"
   ]
  },
  {
   "cell_type": "code",
   "execution_count": 41,
   "metadata": {},
   "outputs": [],
   "source": [
    "kmeans_pca_13_14.columns.values[-3:] = ['Component 1','Component 2','Component 3']"
   ]
  },
  {
   "cell_type": "code",
   "execution_count": 42,
   "metadata": {},
   "outputs": [],
   "source": [
    "# the last column we add contains the pca k-means clutering labels\n",
    "kmeans_pca_13_14['Segment K-means PCA'] = kmeans_pca.labels_"
   ]
  },
  {
   "cell_type": "code",
   "execution_count": 43,
   "metadata": {},
   "outputs": [
    {
     "data": {
      "text/html": [
       "<div>\n",
       "<style scoped>\n",
       "    .dataframe tbody tr th:only-of-type {\n",
       "        vertical-align: middle;\n",
       "    }\n",
       "\n",
       "    .dataframe tbody tr th {\n",
       "        vertical-align: top;\n",
       "    }\n",
       "\n",
       "    .dataframe thead th {\n",
       "        text-align: right;\n",
       "    }\n",
       "</style>\n",
       "<table border=\"1\" class=\"dataframe\">\n",
       "  <thead>\n",
       "    <tr style=\"text-align: right;\">\n",
       "      <th></th>\n",
       "      <th>Vehicle Expiration Date</th>\n",
       "      <th>Violation Precinct</th>\n",
       "      <th>Issuer Precinct</th>\n",
       "      <th>Vehicle Year</th>\n",
       "      <th>Component 1</th>\n",
       "      <th>Component 2</th>\n",
       "      <th>Component 3</th>\n",
       "      <th>Segment K-means PCA</th>\n",
       "    </tr>\n",
       "  </thead>\n",
       "  <tbody>\n",
       "    <tr>\n",
       "      <th>0</th>\n",
       "      <td>243</td>\n",
       "      <td>33</td>\n",
       "      <td>33</td>\n",
       "      <td>2013.0</td>\n",
       "      <td>-0.481196</td>\n",
       "      <td>-0.389087</td>\n",
       "      <td>-0.549798</td>\n",
       "      <td>0</td>\n",
       "    </tr>\n",
       "    <tr>\n",
       "      <th>1</th>\n",
       "      <td>120</td>\n",
       "      <td>33</td>\n",
       "      <td>33</td>\n",
       "      <td>2012.0</td>\n",
       "      <td>-0.413768</td>\n",
       "      <td>-0.950922</td>\n",
       "      <td>-0.006143</td>\n",
       "      <td>0</td>\n",
       "    </tr>\n",
       "    <tr>\n",
       "      <th>2</th>\n",
       "      <td>59</td>\n",
       "      <td>33</td>\n",
       "      <td>33</td>\n",
       "      <td>0.0</td>\n",
       "      <td>-0.706515</td>\n",
       "      <td>0.336809</td>\n",
       "      <td>1.837470</td>\n",
       "      <td>1</td>\n",
       "    </tr>\n",
       "    <tr>\n",
       "      <th>3</th>\n",
       "      <td>304</td>\n",
       "      <td>33</td>\n",
       "      <td>33</td>\n",
       "      <td>2010.0</td>\n",
       "      <td>-0.515202</td>\n",
       "      <td>-0.107731</td>\n",
       "      <td>-0.816680</td>\n",
       "      <td>0</td>\n",
       "    </tr>\n",
       "    <tr>\n",
       "      <th>4</th>\n",
       "      <td>0</td>\n",
       "      <td>33</td>\n",
       "      <td>33</td>\n",
       "      <td>2012.0</td>\n",
       "      <td>-0.347827</td>\n",
       "      <td>-1.499814</td>\n",
       "      <td>0.523489</td>\n",
       "      <td>0</td>\n",
       "    </tr>\n",
       "  </tbody>\n",
       "</table>\n",
       "</div>"
      ],
      "text/plain": [
       "  Vehicle Expiration Date  Violation Precinct  Issuer Precinct  Vehicle Year  \\\n",
       "0                     243                  33               33        2013.0   \n",
       "1                     120                  33               33        2012.0   \n",
       "2                      59                  33               33           0.0   \n",
       "3                     304                  33               33        2010.0   \n",
       "4                       0                  33               33        2012.0   \n",
       "\n",
       "   Component 1  Component 2  Component 3  Segment K-means PCA  \n",
       "0    -0.481196    -0.389087    -0.549798                    0  \n",
       "1    -0.413768    -0.950922    -0.006143                    0  \n",
       "2    -0.706515     0.336809     1.837470                    1  \n",
       "3    -0.515202    -0.107731    -0.816680                    0  \n",
       "4    -0.347827    -1.499814     0.523489                    0  "
      ]
     },
     "execution_count": 43,
     "metadata": {},
     "output_type": "execute_result"
    }
   ],
   "source": [
    "kmeans_pca_13_14.head()"
   ]
  },
  {
   "cell_type": "code",
   "execution_count": 46,
   "metadata": {},
   "outputs": [],
   "source": [
    "kmeans_pca_13_14['Segment'] = kmeans_pca_13_14['Segment K-means PCA'].map({0:'first',\n",
    "\t\t\t\t\t\t\t\t\t\t\t\t\t\t\t\t\t\t   1:'second',\n",
    "\t\t\t\t\t\t\t\t\t\t\t\t\t\t\t\t\t\t   2:'third'})"
   ]
  },
  {
   "cell_type": "code",
   "execution_count": 47,
   "metadata": {},
   "outputs": [
    {
     "data": {
      "text/html": [
       "<div>\n",
       "<style scoped>\n",
       "    .dataframe tbody tr th:only-of-type {\n",
       "        vertical-align: middle;\n",
       "    }\n",
       "\n",
       "    .dataframe tbody tr th {\n",
       "        vertical-align: top;\n",
       "    }\n",
       "\n",
       "    .dataframe thead th {\n",
       "        text-align: right;\n",
       "    }\n",
       "</style>\n",
       "<table border=\"1\" class=\"dataframe\">\n",
       "  <thead>\n",
       "    <tr style=\"text-align: right;\">\n",
       "      <th></th>\n",
       "      <th>Vehicle Expiration Date</th>\n",
       "      <th>Violation Precinct</th>\n",
       "      <th>Issuer Precinct</th>\n",
       "      <th>Vehicle Year</th>\n",
       "      <th>Component 1</th>\n",
       "      <th>Component 2</th>\n",
       "      <th>Component 3</th>\n",
       "      <th>Segment K-means PCA</th>\n",
       "      <th>Segment</th>\n",
       "    </tr>\n",
       "  </thead>\n",
       "  <tbody>\n",
       "    <tr>\n",
       "      <th>0</th>\n",
       "      <td>243</td>\n",
       "      <td>33</td>\n",
       "      <td>33</td>\n",
       "      <td>2013.0</td>\n",
       "      <td>-0.481196</td>\n",
       "      <td>-0.389087</td>\n",
       "      <td>-0.549798</td>\n",
       "      <td>0</td>\n",
       "      <td>first</td>\n",
       "    </tr>\n",
       "    <tr>\n",
       "      <th>1</th>\n",
       "      <td>120</td>\n",
       "      <td>33</td>\n",
       "      <td>33</td>\n",
       "      <td>2012.0</td>\n",
       "      <td>-0.413768</td>\n",
       "      <td>-0.950922</td>\n",
       "      <td>-0.006143</td>\n",
       "      <td>0</td>\n",
       "      <td>first</td>\n",
       "    </tr>\n",
       "    <tr>\n",
       "      <th>2</th>\n",
       "      <td>59</td>\n",
       "      <td>33</td>\n",
       "      <td>33</td>\n",
       "      <td>0.0</td>\n",
       "      <td>-0.706515</td>\n",
       "      <td>0.336809</td>\n",
       "      <td>1.837470</td>\n",
       "      <td>1</td>\n",
       "      <td>second</td>\n",
       "    </tr>\n",
       "    <tr>\n",
       "      <th>3</th>\n",
       "      <td>304</td>\n",
       "      <td>33</td>\n",
       "      <td>33</td>\n",
       "      <td>2010.0</td>\n",
       "      <td>-0.515202</td>\n",
       "      <td>-0.107731</td>\n",
       "      <td>-0.816680</td>\n",
       "      <td>0</td>\n",
       "      <td>first</td>\n",
       "    </tr>\n",
       "    <tr>\n",
       "      <th>4</th>\n",
       "      <td>0</td>\n",
       "      <td>33</td>\n",
       "      <td>33</td>\n",
       "      <td>2012.0</td>\n",
       "      <td>-0.347827</td>\n",
       "      <td>-1.499814</td>\n",
       "      <td>0.523489</td>\n",
       "      <td>0</td>\n",
       "      <td>first</td>\n",
       "    </tr>\n",
       "    <tr>\n",
       "      <th>...</th>\n",
       "      <td>...</td>\n",
       "      <td>...</td>\n",
       "      <td>...</td>\n",
       "      <td>...</td>\n",
       "      <td>...</td>\n",
       "      <td>...</td>\n",
       "      <td>...</td>\n",
       "      <td>...</td>\n",
       "      <td>...</td>\n",
       "    </tr>\n",
       "    <tr>\n",
       "      <th>9100272</th>\n",
       "      <td>454</td>\n",
       "      <td>70</td>\n",
       "      <td>70</td>\n",
       "      <td>2011.0</td>\n",
       "      <td>0.436082</td>\n",
       "      <td>0.752822</td>\n",
       "      <td>-1.496554</td>\n",
       "      <td>2</td>\n",
       "      <td>third</td>\n",
       "    </tr>\n",
       "    <tr>\n",
       "      <th>9100273</th>\n",
       "      <td>454</td>\n",
       "      <td>70</td>\n",
       "      <td>70</td>\n",
       "      <td>2007.0</td>\n",
       "      <td>0.435434</td>\n",
       "      <td>0.755937</td>\n",
       "      <td>-1.493424</td>\n",
       "      <td>2</td>\n",
       "      <td>third</td>\n",
       "    </tr>\n",
       "    <tr>\n",
       "      <th>9100274</th>\n",
       "      <td>151</td>\n",
       "      <td>70</td>\n",
       "      <td>70</td>\n",
       "      <td>1996.0</td>\n",
       "      <td>0.600151</td>\n",
       "      <td>-0.621448</td>\n",
       "      <td>-0.147496</td>\n",
       "      <td>2</td>\n",
       "      <td>third</td>\n",
       "    </tr>\n",
       "    <tr>\n",
       "      <th>9100275</th>\n",
       "      <td>453</td>\n",
       "      <td>70</td>\n",
       "      <td>70</td>\n",
       "      <td>0.0</td>\n",
       "      <td>0.110527</td>\n",
       "      <td>2.314221</td>\n",
       "      <td>0.081460</td>\n",
       "      <td>1</td>\n",
       "      <td>second</td>\n",
       "    </tr>\n",
       "    <tr>\n",
       "      <th>9100276</th>\n",
       "      <td>227</td>\n",
       "      <td>70</td>\n",
       "      <td>70</td>\n",
       "      <td>0.0</td>\n",
       "      <td>0.234716</td>\n",
       "      <td>1.280475</td>\n",
       "      <td>1.078933</td>\n",
       "      <td>1</td>\n",
       "      <td>second</td>\n",
       "    </tr>\n",
       "  </tbody>\n",
       "</table>\n",
       "<p>9100277 rows × 9 columns</p>\n",
       "</div>"
      ],
      "text/plain": [
       "        Vehicle Expiration Date  Violation Precinct  Issuer Precinct  \\\n",
       "0                           243                  33               33   \n",
       "1                           120                  33               33   \n",
       "2                            59                  33               33   \n",
       "3                           304                  33               33   \n",
       "4                             0                  33               33   \n",
       "...                         ...                 ...              ...   \n",
       "9100272                     454                  70               70   \n",
       "9100273                     454                  70               70   \n",
       "9100274                     151                  70               70   \n",
       "9100275                     453                  70               70   \n",
       "9100276                     227                  70               70   \n",
       "\n",
       "         Vehicle Year  Component 1  Component 2  Component 3  \\\n",
       "0              2013.0    -0.481196    -0.389087    -0.549798   \n",
       "1              2012.0    -0.413768    -0.950922    -0.006143   \n",
       "2                 0.0    -0.706515     0.336809     1.837470   \n",
       "3              2010.0    -0.515202    -0.107731    -0.816680   \n",
       "4              2012.0    -0.347827    -1.499814     0.523489   \n",
       "...               ...          ...          ...          ...   \n",
       "9100272        2011.0     0.436082     0.752822    -1.496554   \n",
       "9100273        2007.0     0.435434     0.755937    -1.493424   \n",
       "9100274        1996.0     0.600151    -0.621448    -0.147496   \n",
       "9100275           0.0     0.110527     2.314221     0.081460   \n",
       "9100276           0.0     0.234716     1.280475     1.078933   \n",
       "\n",
       "         Segment K-means PCA Segment  \n",
       "0                          0   first  \n",
       "1                          0   first  \n",
       "2                          1  second  \n",
       "3                          0   first  \n",
       "4                          0   first  \n",
       "...                      ...     ...  \n",
       "9100272                    2   third  \n",
       "9100273                    2   third  \n",
       "9100274                    2   third  \n",
       "9100275                    1  second  \n",
       "9100276                    1  second  \n",
       "\n",
       "[9100277 rows x 9 columns]"
      ]
     },
     "execution_count": 47,
     "metadata": {},
     "output_type": "execute_result"
    }
   ],
   "source": [
    "kmeans_pca_13_14"
   ]
  },
  {
   "cell_type": "code",
   "execution_count": 48,
   "metadata": {},
   "outputs": [
    {
     "data": {
      "image/png": "[encoded data removed]",
      "text/plain": [
       "<Figure size 864x648 with 1 Axes>"
      ]
     },
     "metadata": {},
     "output_type": "display_data"
    }
   ],
   "source": [
    "# Visualization\n",
    "x_axis = kmeans_pca_13_14['Component 2']\n",
    "y_axis = kmeans_pca_13_14['Component 1']\n",
    "plt.figure(figsize=(12,9))\n",
    "sns.scatterplot(x_axis,y_axis,hue=kmeans_pca_13_14['Segment'],palette=['r','g','b'])\n",
    "plt.title('Clusters by PCA Components')\n",
    "plt.show()"
   ]
  },
  {
   "cell_type": "code",
   "execution_count": 49,
   "metadata": {},
   "outputs": [
    {
     "name": "stderr",
     "output_type": "stream",
     "text": [
      "/home/abishek/miniconda3/envs/anishka/lib/python3.8/site-packages/pandas/core/generic.py:2490: PerformanceWarning: \n",
      "your performance may suffer as PyTables will pickle object types that it cannot\n",
      "map directly to c-types [inferred_type->mixed-integer,key->block3_values] [items->Index(['Vehicle Expiration Date', 'Segment'], dtype='object')]\n",
      "\n",
      "  pytables.to_hdf(\n"
     ]
    }
   ],
   "source": [
    "kmeans_pca_13_14.to_hdf('kmeans_pca_13_14.h5', key='df', mode='w')"
   ]
  },
  {
   "cell_type": "code",
   "execution_count": 1,
   "metadata": {},
   "outputs": [],
   "source": [
    "import pandas as pd"
   ]
  },
  {
   "cell_type": "code",
   "execution_count": 2,
   "metadata": {},
   "outputs": [],
   "source": [
    "df = pd.read_csv('/mnt/data/qe_dask_GBP/clean_data/clean_data_15.csv')"
   ]
  },
  {
   "cell_type": "code",
   "execution_count": 4,
   "metadata": {},
   "outputs": [
    {
     "data": {
      "text/plain": [
       "Index(['Unnamed: 0', 'Vehicle Expiration Date', 'Violation Precinct',\n",
       "       'Issuer Precinct', 'Vehicle Year'],\n",
       "      dtype='object')"
      ]
     },
     "execution_count": 4,
     "metadata": {},
     "output_type": "execute_result"
    }
   ],
   "source": [
    "df.columns"
   ]
  }
 ],
 "metadata": {
  "kernelspec": {
   "display_name": "Python 3 (ipykernel)",
   "language": "python",
   "name": "python3"
  },
  "language_info": {
   "codemirror_mode": {
    "name": "ipython",
    "version": 3
   },
   "file_extension": ".py",
   "mimetype": "text/x-python",
   "name": "python",
   "nbconvert_exporter": "python",
   "pygments_lexer": "ipython3",
   "version": "3.8.10"
  },
  "varInspector": {
   "cols": {
    "lenName": 16,
    "lenType": 16,
    "lenVar": 40
   },
   "kernels_config": {
    "python": {
     "delete_cmd_postfix": "",
     "delete_cmd_prefix": "del ",
     "library": "var_list.py",
     "varRefreshCmd": "print(var_dic_list())"
    },
    "r": {
     "delete_cmd_postfix": ") ",
     "delete_cmd_prefix": "rm(",
     "library": "var_list.r",
     "varRefreshCmd": "cat(var_dic_list()) "
    }
   },
   "types_to_exclude": [
    "module",
    "function",
    "builtin_function_or_method",
    "instance",
    "_Feature"
   ],
   "window_display": true
  }
 },
 "nbformat": 4,
 "nbformat_minor": 4
}
