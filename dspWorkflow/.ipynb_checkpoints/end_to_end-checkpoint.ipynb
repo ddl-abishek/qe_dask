{
 "cells": [
  {
   "cell_type": "code",
   "execution_count": 2,
   "id": "a5527da6-e09d-4b6a-8b03-9410ea57b21b",
   "metadata": {},
   "outputs": [],
   "source": [
    "import pandas as pd\n",
    "from sklearn.cluster import KMeans\n",
    "import numpy as np\n",
    "from collections import defaultdict\n",
    "from matplotlib import pyplot as plt\n",
    "import pickle\n",
    "import seaborn as sns\n",
    "sns.set()\n",
    "from sklearn.preprocessing import StandardScaler\n",
    "from sklearn.decomposition import PCA\n",
    "from itertools import combinations\n",
    "import yaml\n",
    "import os"
   ]
  },
  {
   "cell_type": "code",
   "execution_count": 5,
   "id": "3f8b1838-d8b8-49a1-a5c4-de2bc6c644be",
   "metadata": {},
   "outputs": [],
   "source": [
    "config = yaml.load(open(\"config.yml\", \"r\"), yaml.SafeLoader)"
   ]
  },
  {
   "cell_type": "code",
   "execution_count": 7,
   "id": "1c2c9f12-a794-49a9-88e3-8b3320c383a6",
   "metadata": {},
   "outputs": [],
   "source": [
    "reqd_cols = ['Vehicle Expiration Date','Violation Precinct','Issuer Precinct','Vehicle Year']"
   ]
  },
  {
   "cell_type": "code",
   "execution_count": 17,
   "id": "2e54cbdd-d496-4367-ad20-d6d7d1e6238c",
   "metadata": {},
   "outputs": [],
   "source": [
    "clean_data = pd.read_csv(eval(config['Dataset']['2015']),usecols=reqd_cols)"
   ]
  },
  {
   "cell_type": "code",
   "execution_count": 18,
   "id": "f6c34fc2-f7af-4824-9ce2-e7025440aca1",
   "metadata": {},
   "outputs": [
    {
     "data": {
      "text/html": [
       "<div>\n",
       "<style scoped>\n",
       "    .dataframe tbody tr th:only-of-type {\n",
       "        vertical-align: middle;\n",
       "    }\n",
       "\n",
       "    .dataframe tbody tr th {\n",
       "        vertical-align: top;\n",
       "    }\n",
       "\n",
       "    .dataframe thead th {\n",
       "        text-align: right;\n",
       "    }\n",
       "</style>\n",
       "<table border=\"1\" class=\"dataframe\">\n",
       "  <thead>\n",
       "    <tr style=\"text-align: right;\">\n",
       "      <th></th>\n",
       "      <th>Vehicle Expiration Date</th>\n",
       "      <th>Violation Precinct</th>\n",
       "      <th>Issuer Precinct</th>\n",
       "      <th>Vehicle Year</th>\n",
       "    </tr>\n",
       "  </thead>\n",
       "  <tbody>\n",
       "    <tr>\n",
       "      <th>0</th>\n",
       "      <td>01/01/20150111 12:00:00 PM</td>\n",
       "      <td>7</td>\n",
       "      <td>7</td>\n",
       "      <td>2005.0</td>\n",
       "    </tr>\n",
       "    <tr>\n",
       "      <th>1</th>\n",
       "      <td>01/01/88888888 12:00:00 PM</td>\n",
       "      <td>25</td>\n",
       "      <td>25</td>\n",
       "      <td>0.0</td>\n",
       "    </tr>\n",
       "    <tr>\n",
       "      <th>2</th>\n",
       "      <td>01/01/20160524 12:00:00 PM</td>\n",
       "      <td>72</td>\n",
       "      <td>72</td>\n",
       "      <td>2010.0</td>\n",
       "    </tr>\n",
       "    <tr>\n",
       "      <th>3</th>\n",
       "      <td>01/01/20170111 12:00:00 PM</td>\n",
       "      <td>102</td>\n",
       "      <td>102</td>\n",
       "      <td>2015.0</td>\n",
       "    </tr>\n",
       "    <tr>\n",
       "      <th>4</th>\n",
       "      <td>01/01/88888888 12:00:00 PM</td>\n",
       "      <td>28</td>\n",
       "      <td>28</td>\n",
       "      <td>0.0</td>\n",
       "    </tr>\n",
       "  </tbody>\n",
       "</table>\n",
       "</div>"
      ],
      "text/plain": [
       "      Vehicle Expiration Date  Violation Precinct  Issuer Precinct  \\\n",
       "0  01/01/20150111 12:00:00 PM                   7                7   \n",
       "1  01/01/88888888 12:00:00 PM                  25               25   \n",
       "2  01/01/20160524 12:00:00 PM                  72               72   \n",
       "3  01/01/20170111 12:00:00 PM                 102              102   \n",
       "4  01/01/88888888 12:00:00 PM                  28               28   \n",
       "\n",
       "   Vehicle Year  \n",
       "0        2005.0  \n",
       "1           0.0  \n",
       "2        2010.0  \n",
       "3        2015.0  \n",
       "4           0.0  "
      ]
     },
     "execution_count": 18,
     "metadata": {},
     "output_type": "execute_result"
    }
   ],
   "source": [
    "clean_data.head()"
   ]
  },
  {
   "cell_type": "code",
   "execution_count": 21,
   "id": "e179ede4-e4a0-45d9-bbb5-26f6ded5bbf5",
   "metadata": {},
   "outputs": [],
   "source": [
    "def convDate(date): \n",
    "    date = str(date)\n",
    "    months_dict = {'01':31,\n",
    "                  '02':{'leap':29,'normal':28},\n",
    "                  '03':31,\n",
    "                  '04':30,\n",
    "                  '05':31,\n",
    "                  '06':30,\n",
    "                  '07':31,\n",
    "                  '08':31,\n",
    "                  '09':30,\n",
    "                  '10':31,\n",
    "                  '11':30,\n",
    "                  '12':31}\n",
    "    \n",
    "    if len(date) >= 8:\n",
    "        if len(date) > 8: # handling exceptions for  2015 data\n",
    "            date = date.split('.')[0]\n",
    "#             date = date.split(' ')[0].split('/')[-1]\n",
    "\n",
    "            \n",
    "        day_ext = int(date[-2:])\n",
    "        month_ext = date[-4:-2]\n",
    "        year = date[0:4]\n",
    "\n",
    "        day_of_year = 0            \n",
    "\n",
    "        for month in months_dict.keys():\n",
    "            if month == month_ext:\n",
    "                break\n",
    "\n",
    "            if month == '02':\n",
    "                if int(year)%4 == 0:\n",
    "                    day_of_year += months_dict['02']['leap']\n",
    "                else:\n",
    "                    day_of_year += months_dict['02']['normal']\n",
    "            else:\n",
    "                day_of_year += months_dict[month]\n",
    "\n",
    "        day_of_year += day_ext\n",
    "\n",
    "        return day_of_year\n",
    "    \n",
    "    else:\n",
    "        return date"
   ]
  },
  {
   "cell_type": "code",
   "execution_count": 22,
   "id": "bfadaac6-ba82-4fa4-a302-ab0f8b23e692",
   "metadata": {},
   "outputs": [],
   "source": [
    "clean_data['Vehicle Expiration Date'] = clean_data['Vehicle Expiration Date'].apply(convDate)"
   ]
  },
  {
   "cell_type": "code",
   "execution_count": 25,
   "id": "8081d0c7-8257-410b-a2c1-7d633a76dddc",
   "metadata": {},
   "outputs": [],
   "source": [
    "if not(os.path.isdir(eval(config['clean_data']['dir']))):\n",
    "    os.makedirs(eval(config['clean_data']['dir']))"
   ]
  },
  {
   "cell_type": "code",
   "execution_count": 28,
   "id": "1e302546-a050-46cd-9fec-7287ad8ae62f",
   "metadata": {},
   "outputs": [],
   "source": [
    "clean_data.to_csv(eval(config['clean_data']['2015']))"
   ]
  }
 ],
 "metadata": {
  "kernelspec": {
   "display_name": "Python 3 (ipykernel)",
   "language": "python",
   "name": "python3"
  },
  "language_info": {
   "codemirror_mode": {
    "name": "ipython",
    "version": 3
   },
   "file_extension": ".py",
   "mimetype": "text/x-python",
   "name": "python",
   "nbconvert_exporter": "python",
   "pygments_lexer": "ipython3",
   "version": "3.8.10"
  }
 },
 "nbformat": 4,
 "nbformat_minor": 5
}
