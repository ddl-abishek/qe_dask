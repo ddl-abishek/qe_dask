{
 "cells": [
  {
   "cell_type": "markdown",
   "metadata": {},
   "source": [
    "# Inspiration\n",
    "###  - When are tickets most likely to be issued? Any seasonality?\n",
    "###  - Where are tickets most commonly issued?\n",
    "###  - What are the most common years and types of cars to be ticketed?"
   ]
  },
  {
   "cell_type": "code",
   "execution_count": 8,
   "metadata": {},
   "outputs": [],
   "source": [
    "import pandas as pd\n",
    "import math\n",
    "import numpy as np"
   ]
  },
  {
   "cell_type": "markdown",
   "metadata": {},
   "source": [
    "## Reading metadata file and forming dict with key:value -> col_name:data_type"
   ]
  },
  {
   "cell_type": "code",
   "execution_count": 9,
   "metadata": {
    "scrolled": true
   },
   "outputs": [],
   "source": [
    "cols_dict = {}\n",
    "with open(\"./metadata_2013_2014.txt\",'r') as col_read:\n",
    "    col_read_lines = col_read.readlines()\n",
    "    for col_name in col_read_lines:\n",
    "        col_name = col_name.split(':')\n",
    "        \n",
    "        if 'Nu' in col_name[1] or 'Number' in col_name[1]:\n",
    "            cols_dict[col_name[0]] = 'int16'\n",
    "            \n",
    "        elif 'Plain Text' in col_name[1] or 'Date & Time' in col_name[1]:\n",
    "            cols_dict[col_name[0]] = 'str'\n",
    "            \n",
    "        else:\n",
    "            print(col_name[1])\n",
    "            print(\"found different data type\")\n",
    "            break"
   ]
  },
  {
   "cell_type": "code",
   "execution_count": 10,
   "metadata": {},
   "outputs": [
    {
     "data": {
      "text/plain": [
       "{'Summons Number': 'int16',\n",
       " 'Plate ID': 'str',\n",
       " 'Registration State': 'str',\n",
       " 'Plate Type': 'str',\n",
       " 'Issue Date': 'str',\n",
       " 'Violation Code': 'int16',\n",
       " 'Vehicle Body Type': 'str',\n",
       " 'Vehicle Make': 'str',\n",
       " 'Issuing Agency': 'str',\n",
       " 'Street Code1': 'int16',\n",
       " 'Street Code2': 'int16',\n",
       " 'Street Code3': 'int16',\n",
       " 'Vehicle Expiration Date': 'int16',\n",
       " 'Violation Location': 'str',\n",
       " 'Violation Precinct': 'int16',\n",
       " 'Issuer Precinct': 'int16',\n",
       " 'Issuer Code': 'int16',\n",
       " 'Issuer Command': 'str',\n",
       " 'Issuer Squad': 'str',\n",
       " 'Violation Time': 'str',\n",
       " 'Time First Observed': 'str',\n",
       " 'Violation County': 'str',\n",
       " 'Violation In Front Of Or Opposite': 'str',\n",
       " 'House Number': 'str',\n",
       " 'Street Name': 'str',\n",
       " 'Intersecting Street': 'str',\n",
       " 'Date First Observed': 'int16',\n",
       " 'Law Section': 'int16',\n",
       " 'Sub Division': 'str',\n",
       " 'Violation Legal Code': 'str',\n",
       " 'Days Parking In Effect    ': 'str',\n",
       " 'From Hours In Effect': 'str',\n",
       " 'To Hours In Effect': 'str',\n",
       " 'Vehicle Color': 'str',\n",
       " 'Unregistered Vehicle?': 'str',\n",
       " 'Vehicle Year': 'int16',\n",
       " 'Meter Number': 'str',\n",
       " 'Feet From Curb': 'int16',\n",
       " 'Violation Post Code': 'str',\n",
       " 'Violation Description': 'str',\n",
       " 'No Standing or Stopping Violation': 'str',\n",
       " 'Hydrant Violation': 'str',\n",
       " 'Double Parking Violation': 'str'}"
      ]
     },
     "execution_count": 10,
     "metadata": {},
     "output_type": "execute_result"
    }
   ],
   "source": [
    "cols_dict"
   ]
  },
  {
   "cell_type": "markdown",
   "metadata": {},
   "source": [
    "## Removing unimportant columns from cols_dict either because they are irrelevant or they have 'nan' values"
   ]
  },
  {
   "cell_type": "code",
   "execution_count": 11,
   "metadata": {},
   "outputs": [],
   "source": [
    "irrelevant_cols = ['Summons Number',\n",
    "                   'Plate ID',\n",
    "                   'Violation Description',\n",
    "                   'Vehicle Expiration Date',\n",
    "                   'Date First Observed',\n",
    "                   'No Standing or Stopping Violation',\n",
    "                   'Hydrant Violation',\n",
    "                   'Double Parking Violation',\n",
    "                   'Latitude',\n",
    "                   'Longitude',\n",
    "                   'Community Board',\n",
    "                   'Community Council',\n",
    "                   'Census Tract',\n",
    "                   'BIN',\n",
    "                   'BBL',\n",
    "                   'NTA']\n",
    "\n",
    "for col in irrelevant_cols:\n",
    "    try:\n",
    "        del cols_dict[col]\n",
    "    except:\n",
    "        continue"
   ]
  },
  {
   "cell_type": "code",
   "execution_count": 12,
   "metadata": {},
   "outputs": [],
   "source": [
    "cols_list = [col for col in cols_dict]"
   ]
  },
  {
   "cell_type": "markdown",
   "metadata": {},
   "source": [
    "# Reading csvs - 2013-2014, 2015,2016,2017"
   ]
  },
  {
   "cell_type": "code",
   "execution_count": 13,
   "metadata": {},
   "outputs": [],
   "source": [
    "date_parser = lambda x: pd.datetime.strptime(x, \"%m/%d/%Y\")"
   ]
  },
  {
   "cell_type": "code",
   "execution_count": 14,
   "metadata": {},
   "outputs": [],
   "source": [
    "data_2013_14_chunks = pd.read_csv('./Parking_Violations_Issued_-_Fiscal_Year_2014__August_2013___June_2014_.csv',\n",
    "                                 chunksize=10000,\n",
    "                                 usecols=cols_list,\n",
    "                                 dtype=cols_dict,\n",
    "                                 parse_dates=['Issue Date'],\n",
    "                                 date_parser=date_parser)"
   ]
  },
  {
   "cell_type": "markdown",
   "metadata": {},
   "source": [
    "# Visualizing the data"
   ]
  },
  {
   "cell_type": "code",
   "execution_count": 15,
   "metadata": {},
   "outputs": [
    {
     "name": "stderr",
     "output_type": "stream",
     "text": [
      "<ipython-input-13-0257cb03e81d>:1: FutureWarning: The pandas.datetime class is deprecated and will be removed from pandas in a future version. Import from datetime module instead.\n",
      "  date_parser = lambda x: pd.datetime.strptime(x, \"%m/%d/%Y\")\n"
     ]
    }
   ],
   "source": [
    "for chunk in data_2013_14_chunks:\n",
    "    df = chunk\n",
    "    break"
   ]
  },
  {
   "cell_type": "markdown",
   "metadata": {},
   "source": [
    "### Size in MB with in int32"
   ]
  },
  {
   "cell_type": "code",
   "execution_count": 36,
   "metadata": {},
   "outputs": [
    {
     "data": {
      "text/plain": [
       "2.400128"
      ]
     },
     "execution_count": 36,
     "metadata": {},
     "output_type": "execute_result"
    }
   ],
   "source": [
    "# df.memory_usage(index=True).sum()/(10**6)"
   ]
  },
  {
   "cell_type": "markdown",
   "metadata": {},
   "source": [
    "### Size in MB with int "
   ]
  },
  {
   "cell_type": "code",
   "execution_count": 44,
   "metadata": {},
   "outputs": [
    {
     "data": {
      "text/plain": [
       "2.800128"
      ]
     },
     "execution_count": 44,
     "metadata": {},
     "output_type": "execute_result"
    }
   ],
   "source": [
    "# df.memory_usage(index=True).sum()/(10**6)"
   ]
  },
  {
   "cell_type": "markdown",
   "metadata": {},
   "source": [
    "### Size in MB with int16"
   ]
  },
  {
   "cell_type": "code",
   "execution_count": 16,
   "metadata": {},
   "outputs": [
    {
     "data": {
      "text/plain": [
       "2.200128"
      ]
     },
     "execution_count": 16,
     "metadata": {},
     "output_type": "execute_result"
    }
   ],
   "source": [
    "df.memory_usage(index=True).sum()/(10**6)"
   ]
  },
  {
   "cell_type": "code",
   "execution_count": 10,
   "metadata": {},
   "outputs": [
    {
     "data": {
      "text/html": [
       "<div>\n",
       "<style scoped>\n",
       "    .dataframe tbody tr th:only-of-type {\n",
       "        vertical-align: middle;\n",
       "    }\n",
       "\n",
       "    .dataframe tbody tr th {\n",
       "        vertical-align: top;\n",
       "    }\n",
       "\n",
       "    .dataframe thead th {\n",
       "        text-align: right;\n",
       "    }\n",
       "</style>\n",
       "<table border=\"1\" class=\"dataframe\">\n",
       "  <thead>\n",
       "    <tr style=\"text-align: right;\">\n",
       "      <th></th>\n",
       "      <th>Registration State</th>\n",
       "      <th>Plate Type</th>\n",
       "      <th>Issue Date</th>\n",
       "      <th>Violation Code</th>\n",
       "      <th>Vehicle Body Type</th>\n",
       "      <th>Vehicle Make</th>\n",
       "      <th>Issuing Agency</th>\n",
       "      <th>Street Code1</th>\n",
       "      <th>Street Code2</th>\n",
       "      <th>Street Code3</th>\n",
       "      <th>...</th>\n",
       "      <th>Violation Legal Code</th>\n",
       "      <th>Days Parking In Effect</th>\n",
       "      <th>From Hours In Effect</th>\n",
       "      <th>To Hours In Effect</th>\n",
       "      <th>Vehicle Color</th>\n",
       "      <th>Unregistered Vehicle?</th>\n",
       "      <th>Vehicle Year</th>\n",
       "      <th>Meter Number</th>\n",
       "      <th>Feet From Curb</th>\n",
       "      <th>Violation Post Code</th>\n",
       "    </tr>\n",
       "  </thead>\n",
       "  <tbody>\n",
       "    <tr>\n",
       "      <th>0</th>\n",
       "      <td>NY</td>\n",
       "      <td>PAS</td>\n",
       "      <td>2013-08-04</td>\n",
       "      <td>46</td>\n",
       "      <td>SUBN</td>\n",
       "      <td>AUDI</td>\n",
       "      <td>P</td>\n",
       "      <td>37250</td>\n",
       "      <td>13610</td>\n",
       "      <td>21190</td>\n",
       "      <td>...</td>\n",
       "      <td>NaN</td>\n",
       "      <td>BBBBBBB</td>\n",
       "      <td>ALL</td>\n",
       "      <td>ALL</td>\n",
       "      <td>GY</td>\n",
       "      <td>0</td>\n",
       "      <td>2013</td>\n",
       "      <td>-</td>\n",
       "      <td>0</td>\n",
       "      <td>NaN</td>\n",
       "    </tr>\n",
       "    <tr>\n",
       "      <th>1</th>\n",
       "      <td>NY</td>\n",
       "      <td>COM</td>\n",
       "      <td>2013-08-04</td>\n",
       "      <td>46</td>\n",
       "      <td>VAN</td>\n",
       "      <td>FORD</td>\n",
       "      <td>P</td>\n",
       "      <td>37290</td>\n",
       "      <td>40404</td>\n",
       "      <td>40404</td>\n",
       "      <td>...</td>\n",
       "      <td>NaN</td>\n",
       "      <td>BBBBBBB</td>\n",
       "      <td>ALL</td>\n",
       "      <td>ALL</td>\n",
       "      <td>WH</td>\n",
       "      <td>0</td>\n",
       "      <td>2012</td>\n",
       "      <td>-</td>\n",
       "      <td>0</td>\n",
       "      <td>NaN</td>\n",
       "    </tr>\n",
       "    <tr>\n",
       "      <th>2</th>\n",
       "      <td>NY</td>\n",
       "      <td>COM</td>\n",
       "      <td>2013-08-05</td>\n",
       "      <td>46</td>\n",
       "      <td>P-U</td>\n",
       "      <td>CHEVR</td>\n",
       "      <td>P</td>\n",
       "      <td>37030</td>\n",
       "      <td>31190</td>\n",
       "      <td>13610</td>\n",
       "      <td>...</td>\n",
       "      <td>NaN</td>\n",
       "      <td>BBBBBBB</td>\n",
       "      <td>ALL</td>\n",
       "      <td>ALL</td>\n",
       "      <td>NaN</td>\n",
       "      <td>0</td>\n",
       "      <td>0</td>\n",
       "      <td>-</td>\n",
       "      <td>0</td>\n",
       "      <td>NaN</td>\n",
       "    </tr>\n",
       "    <tr>\n",
       "      <th>3</th>\n",
       "      <td>NY</td>\n",
       "      <td>COM</td>\n",
       "      <td>2013-08-05</td>\n",
       "      <td>46</td>\n",
       "      <td>VAN</td>\n",
       "      <td>FORD</td>\n",
       "      <td>P</td>\n",
       "      <td>37270</td>\n",
       "      <td>11710</td>\n",
       "      <td>12010</td>\n",
       "      <td>...</td>\n",
       "      <td>NaN</td>\n",
       "      <td>BBBBBBB</td>\n",
       "      <td>ALL</td>\n",
       "      <td>ALL</td>\n",
       "      <td>WH</td>\n",
       "      <td>0</td>\n",
       "      <td>2010</td>\n",
       "      <td>-</td>\n",
       "      <td>0</td>\n",
       "      <td>NaN</td>\n",
       "    </tr>\n",
       "    <tr>\n",
       "      <th>4</th>\n",
       "      <td>NY</td>\n",
       "      <td>COM</td>\n",
       "      <td>2013-08-08</td>\n",
       "      <td>41</td>\n",
       "      <td>TRLR</td>\n",
       "      <td>GMC</td>\n",
       "      <td>P</td>\n",
       "      <td>37240</td>\n",
       "      <td>12010</td>\n",
       "      <td>31190</td>\n",
       "      <td>...</td>\n",
       "      <td>NaN</td>\n",
       "      <td>BBBBBBB</td>\n",
       "      <td>ALL</td>\n",
       "      <td>ALL</td>\n",
       "      <td>BR</td>\n",
       "      <td>0</td>\n",
       "      <td>2012</td>\n",
       "      <td>-</td>\n",
       "      <td>0</td>\n",
       "      <td>NaN</td>\n",
       "    </tr>\n",
       "  </tbody>\n",
       "</table>\n",
       "<p>5 rows × 35 columns</p>\n",
       "</div>"
      ],
      "text/plain": [
       "  Registration State Plate Type Issue Date Violation Code Vehicle Body Type  \\\n",
       "0                 NY        PAS 2013-08-04             46              SUBN   \n",
       "1                 NY        COM 2013-08-04             46               VAN   \n",
       "2                 NY        COM 2013-08-05             46               P-U   \n",
       "3                 NY        COM 2013-08-05             46               VAN   \n",
       "4                 NY        COM 2013-08-08             41              TRLR   \n",
       "\n",
       "  Vehicle Make Issuing Agency Street Code1 Street Code2 Street Code3  ...  \\\n",
       "0         AUDI              P        37250        13610        21190  ...   \n",
       "1         FORD              P        37290        40404        40404  ...   \n",
       "2        CHEVR              P        37030        31190        13610  ...   \n",
       "3         FORD              P        37270        11710        12010  ...   \n",
       "4          GMC              P        37240        12010        31190  ...   \n",
       "\n",
       "  Violation Legal Code Days Parking In Effect     From Hours In Effect  \\\n",
       "0                  NaN                    BBBBBBB                  ALL   \n",
       "1                  NaN                    BBBBBBB                  ALL   \n",
       "2                  NaN                    BBBBBBB                  ALL   \n",
       "3                  NaN                    BBBBBBB                  ALL   \n",
       "4                  NaN                    BBBBBBB                  ALL   \n",
       "\n",
       "  To Hours In Effect Vehicle Color Unregistered Vehicle? Vehicle Year  \\\n",
       "0                ALL            GY                     0         2013   \n",
       "1                ALL            WH                     0         2012   \n",
       "2                ALL           NaN                     0            0   \n",
       "3                ALL            WH                     0         2010   \n",
       "4                ALL            BR                     0         2012   \n",
       "\n",
       "  Meter Number Feet From Curb Violation Post Code  \n",
       "0            -              0                 NaN  \n",
       "1            -              0                 NaN  \n",
       "2            -              0                 NaN  \n",
       "3            -              0                 NaN  \n",
       "4            -              0                 NaN  \n",
       "\n",
       "[5 rows x 35 columns]"
      ]
     },
     "execution_count": 10,
     "metadata": {},
     "output_type": "execute_result"
    }
   ],
   "source": [
    "df.head()"
   ]
  },
  {
   "cell_type": "markdown",
   "metadata": {},
   "source": [
    "# Preprocessing data"
   ]
  },
  {
   "cell_type": "markdown",
   "metadata": {},
   "source": [
    "## Checking what columns have NaN values"
   ]
  },
  {
   "cell_type": "code",
   "execution_count": 8,
   "metadata": {},
   "outputs": [
    {
     "name": "stderr",
     "output_type": "stream",
     "text": [
      "/home/abishek/miniconda3/envs/anishka/lib/python3.8/site-packages/IPython/core/interactiveshell.py:3062: DtypeWarning: Columns (18,38) have mixed types.Specify dtype option on import or set low_memory=False.\n",
      "  has_raised = await self.run_ast_nodes(code_ast.body, cell_name,\n"
     ]
    }
   ],
   "source": [
    "# columns_non_informative = {}\n",
    "# for column_name in column_names:\n",
    "#     columns_non_informative[column_name] = None\n",
    "\n",
    "# for chunk in data_2013_14_chunk:\n",
    "#     for column_name in column_names:\n",
    "#         for value in chunk[column_name]:\n",
    "#             try: \n",
    "#                 if not(math.isnan(value)):\n",
    "#                     columns_non_informative[column_name] = True\n",
    "#                     break\n",
    "#             except:\n",
    "#                 if isinstance(value,str):\n",
    "#                     columns_non_informative[column_name] = True\n",
    "#                     break\n",
    "#     break\n",
    "                    \n",
    "                    \n",
    "                "
   ]
  },
  {
   "cell_type": "code",
   "execution_count": 12,
   "metadata": {
    "scrolled": true
   },
   "outputs": [
    {
     "data": {
      "text/plain": [
       "{'Summons Number': True,\n",
       " 'Plate ID': True,\n",
       " 'Registration State': True,\n",
       " 'Plate Type': True,\n",
       " 'Issue Date': True,\n",
       " 'Violation Code': True,\n",
       " 'Vehicle Body Type': True,\n",
       " 'Vehicle Make': True,\n",
       " 'Issuing Agency': True,\n",
       " 'Street Code1': True,\n",
       " 'Street Code2': True,\n",
       " 'Street Code3': True,\n",
       " 'Vehicle Expiration Date': True,\n",
       " 'Violation Location': True,\n",
       " 'Violation Precinct': True,\n",
       " 'Issuer Precinct': True,\n",
       " 'Issuer Code': True,\n",
       " 'Issuer Command': True,\n",
       " 'Issuer Squad': True,\n",
       " 'Violation Time': True,\n",
       " 'Time First Observed': True,\n",
       " 'Violation County': True,\n",
       " 'Violation In Front Of Or Opposite': True,\n",
       " 'House Number': True,\n",
       " 'Street Name': True,\n",
       " 'Intersecting Street': True,\n",
       " 'Date First Observed': True,\n",
       " 'Law Section': True,\n",
       " 'Sub Division': True,\n",
       " 'Violation Legal Code': True,\n",
       " 'Days Parking In Effect    ': True,\n",
       " 'From Hours In Effect': True,\n",
       " 'To Hours In Effect': True,\n",
       " 'Vehicle Color': True,\n",
       " 'Unregistered Vehicle?': True,\n",
       " 'Vehicle Year': True,\n",
       " 'Meter Number': True,\n",
       " 'Feet From Curb': True,\n",
       " 'Violation Post Code': True,\n",
       " 'Violation Description': True,\n",
       " 'No Standing or Stopping Violation': None,\n",
       " 'Hydrant Violation': None,\n",
       " 'Double Parking Violation': None,\n",
       " 'Latitude': None,\n",
       " 'Longitude': None,\n",
       " 'Community Board': None,\n",
       " 'Community Council ': None,\n",
       " 'Census Tract': None,\n",
       " 'BIN': None,\n",
       " 'BBL': None,\n",
       " 'NTA': None}"
      ]
     },
     "execution_count": 12,
     "metadata": {},
     "output_type": "execute_result"
    }
   ],
   "source": [
    "# columns_non_informative"
   ]
  },
  {
   "cell_type": "markdown",
   "metadata": {},
   "source": [
    "# #-----------------------------------------------------------------------------------------------------------"
   ]
  },
  {
   "cell_type": "markdown",
   "metadata": {},
   "source": [
    "### List of columns to be removed ** Already done during read_csv"
   ]
  },
  {
   "cell_type": "code",
   "execution_count": 13,
   "metadata": {},
   "outputs": [
    {
     "name": "stdout",
     "output_type": "stream",
     "text": [
      "11 ['No Standing or Stopping Violation', 'Hydrant Violation', 'Double Parking Violation', 'Latitude', 'Longitude', 'Community Board', 'Community Council ', 'Census Tract', 'BIN', 'BBL', 'NTA']\n"
     ]
    }
   ],
   "source": [
    "# columns_non_informative_list = [column_name for column_name,value in columns_non_informative.items() if not(value) ]\n",
    "# print(len(columns_non_informative_list),columns_non_informative_list)"
   ]
  },
  {
   "cell_type": "code",
   "execution_count": 14,
   "metadata": {},
   "outputs": [],
   "source": [
    "# def chunk_removeColumn(chunk):\n",
    "#     chunk.drop(columns_non_informative_list,axis=1)\n",
    "    \n",
    "#     return chunk"
   ]
  },
  {
   "cell_type": "markdown",
   "metadata": {},
   "source": [
    "# #-----------------------------------------------------------------------------------------------------------"
   ]
  },
  {
   "cell_type": "markdown",
   "metadata": {},
   "source": [
    "### No. of chunks"
   ]
  },
  {
   "cell_type": "code",
   "execution_count": 11,
   "metadata": {},
   "outputs": [
    {
     "name": "stderr",
     "output_type": "stream",
     "text": [
      "<ipython-input-6-0257cb03e81d>:1: FutureWarning: The pandas.datetime class is deprecated and will be removed from pandas in a future version. Import from datetime module instead.\n",
      "  date_parser = lambda x: pd.datetime.strptime(x, \"%m/%d/%Y\")\n"
     ]
    },
    {
     "name": "stdout",
     "output_type": "stream",
     "text": [
      "455\n"
     ]
    }
   ],
   "source": [
    "chunk_count = 0\n",
    "for chunk in data_2013_14_chunks:\n",
    "    chunk_count += 1\n",
    "\n",
    "print(chunk_count)\n",
    "    "
   ]
  },
  {
   "cell_type": "markdown",
   "metadata": {},
   "source": [
    "# Loading 2 chunks"
   ]
  },
  {
   "cell_type": "code",
   "execution_count": 12,
   "metadata": {},
   "outputs": [
    {
     "name": "stderr",
     "output_type": "stream",
     "text": [
      "<ipython-input-7-0257cb03e81d>:1: FutureWarning: The pandas.datetime class is deprecated and will be removed from pandas in a future version. Import from datetime module instead.\n",
      "  date_parser = lambda x: pd.datetime.strptime(x, \"%m/%d/%Y\")\n"
     ]
    }
   ],
   "source": [
    "chunks_left = 2\n",
    "chunk_list = []  # append each chunk data frame here \n",
    "\n",
    "# Each chunk is in df format\n",
    "for chunk in data_2013_14_chunks:  \n",
    "    if chunks_left >=0:\n",
    "        # perform data filtering \n",
    "        chunk_list.append(chunk)\n",
    "        chunks_left -= 1\n",
    "    else:\n",
    "        break\n",
    "       \n",
    "# concat the list into dataframe \n",
    "data_2013_14 = pd.concat(chunk_list)"
   ]
  },
  {
   "cell_type": "code",
   "execution_count": 13,
   "metadata": {},
   "outputs": [
    {
     "data": {
      "text/html": [
       "<div>\n",
       "<style scoped>\n",
       "    .dataframe tbody tr th:only-of-type {\n",
       "        vertical-align: middle;\n",
       "    }\n",
       "\n",
       "    .dataframe tbody tr th {\n",
       "        vertical-align: top;\n",
       "    }\n",
       "\n",
       "    .dataframe thead th {\n",
       "        text-align: right;\n",
       "    }\n",
       "</style>\n",
       "<table border=\"1\" class=\"dataframe\">\n",
       "  <thead>\n",
       "    <tr style=\"text-align: right;\">\n",
       "      <th></th>\n",
       "      <th>Registration State</th>\n",
       "      <th>Plate Type</th>\n",
       "      <th>Issue Date</th>\n",
       "      <th>Violation Code</th>\n",
       "      <th>Vehicle Body Type</th>\n",
       "      <th>Vehicle Make</th>\n",
       "      <th>Issuing Agency</th>\n",
       "      <th>Street Code1</th>\n",
       "      <th>Street Code2</th>\n",
       "      <th>Street Code3</th>\n",
       "      <th>...</th>\n",
       "      <th>Violation Legal Code</th>\n",
       "      <th>Days Parking In Effect</th>\n",
       "      <th>From Hours In Effect</th>\n",
       "      <th>To Hours In Effect</th>\n",
       "      <th>Vehicle Color</th>\n",
       "      <th>Unregistered Vehicle?</th>\n",
       "      <th>Vehicle Year</th>\n",
       "      <th>Meter Number</th>\n",
       "      <th>Feet From Curb</th>\n",
       "      <th>Violation Post Code</th>\n",
       "    </tr>\n",
       "  </thead>\n",
       "  <tbody>\n",
       "    <tr>\n",
       "      <th>400000</th>\n",
       "      <td>NJ</td>\n",
       "      <td>PAS</td>\n",
       "      <td>2013-08-02</td>\n",
       "      <td>16</td>\n",
       "      <td>VAN</td>\n",
       "      <td>INTER</td>\n",
       "      <td>T</td>\n",
       "      <td>35190</td>\n",
       "      <td>11710</td>\n",
       "      <td>44990</td>\n",
       "      <td>...</td>\n",
       "      <td>NaN</td>\n",
       "      <td>Y</td>\n",
       "      <td>0700A</td>\n",
       "      <td>0400P</td>\n",
       "      <td>WHITE</td>\n",
       "      <td>NaN</td>\n",
       "      <td>0</td>\n",
       "      <td>NaN</td>\n",
       "      <td>0</td>\n",
       "      <td>53 -</td>\n",
       "    </tr>\n",
       "    <tr>\n",
       "      <th>400001</th>\n",
       "      <td>NY</td>\n",
       "      <td>COM</td>\n",
       "      <td>2013-08-02</td>\n",
       "      <td>21</td>\n",
       "      <td>VAN</td>\n",
       "      <td>FORD</td>\n",
       "      <td>T</td>\n",
       "      <td>44990</td>\n",
       "      <td>35250</td>\n",
       "      <td>35270</td>\n",
       "      <td>...</td>\n",
       "      <td>NaN</td>\n",
       "      <td>Y  Y</td>\n",
       "      <td>1100A</td>\n",
       "      <td>1230A</td>\n",
       "      <td>WH</td>\n",
       "      <td>NaN</td>\n",
       "      <td>2006</td>\n",
       "      <td>NaN</td>\n",
       "      <td>0</td>\n",
       "      <td>53 -</td>\n",
       "    </tr>\n",
       "    <tr>\n",
       "      <th>400002</th>\n",
       "      <td>NY</td>\n",
       "      <td>COM</td>\n",
       "      <td>2013-08-02</td>\n",
       "      <td>21</td>\n",
       "      <td>VAN</td>\n",
       "      <td>CHEVR</td>\n",
       "      <td>T</td>\n",
       "      <td>35270</td>\n",
       "      <td>13610</td>\n",
       "      <td>44990</td>\n",
       "      <td>...</td>\n",
       "      <td>NaN</td>\n",
       "      <td>Y  Y</td>\n",
       "      <td>1100A</td>\n",
       "      <td>1230A</td>\n",
       "      <td>WHITE</td>\n",
       "      <td>NaN</td>\n",
       "      <td>0</td>\n",
       "      <td>NaN</td>\n",
       "      <td>0</td>\n",
       "      <td>53 -</td>\n",
       "    </tr>\n",
       "    <tr>\n",
       "      <th>400003</th>\n",
       "      <td>NY</td>\n",
       "      <td>COM</td>\n",
       "      <td>2013-08-02</td>\n",
       "      <td>46</td>\n",
       "      <td>VAN</td>\n",
       "      <td>FORD</td>\n",
       "      <td>T</td>\n",
       "      <td>35270</td>\n",
       "      <td>44990</td>\n",
       "      <td>29690</td>\n",
       "      <td>...</td>\n",
       "      <td>NaN</td>\n",
       "      <td>NaN</td>\n",
       "      <td>NaN</td>\n",
       "      <td>NaN</td>\n",
       "      <td>BLUE</td>\n",
       "      <td>NaN</td>\n",
       "      <td>2008</td>\n",
       "      <td>NaN</td>\n",
       "      <td>0</td>\n",
       "      <td>53 -</td>\n",
       "    </tr>\n",
       "    <tr>\n",
       "      <th>400004</th>\n",
       "      <td>NY</td>\n",
       "      <td>COM</td>\n",
       "      <td>2013-08-02</td>\n",
       "      <td>14</td>\n",
       "      <td>VAN</td>\n",
       "      <td>CHEVR</td>\n",
       "      <td>T</td>\n",
       "      <td>35190</td>\n",
       "      <td>0</td>\n",
       "      <td>0</td>\n",
       "      <td>...</td>\n",
       "      <td>NaN</td>\n",
       "      <td>YYYYYYY</td>\n",
       "      <td>NaN</td>\n",
       "      <td>NaN</td>\n",
       "      <td>WH</td>\n",
       "      <td>NaN</td>\n",
       "      <td>1998</td>\n",
       "      <td>NaN</td>\n",
       "      <td>0</td>\n",
       "      <td>53 -</td>\n",
       "    </tr>\n",
       "    <tr>\n",
       "      <th>...</th>\n",
       "      <td>...</td>\n",
       "      <td>...</td>\n",
       "      <td>...</td>\n",
       "      <td>...</td>\n",
       "      <td>...</td>\n",
       "      <td>...</td>\n",
       "      <td>...</td>\n",
       "      <td>...</td>\n",
       "      <td>...</td>\n",
       "      <td>...</td>\n",
       "      <td>...</td>\n",
       "      <td>...</td>\n",
       "      <td>...</td>\n",
       "      <td>...</td>\n",
       "      <td>...</td>\n",
       "      <td>...</td>\n",
       "      <td>...</td>\n",
       "      <td>...</td>\n",
       "      <td>...</td>\n",
       "      <td>...</td>\n",
       "      <td>...</td>\n",
       "    </tr>\n",
       "    <tr>\n",
       "      <th>429995</th>\n",
       "      <td>NY</td>\n",
       "      <td>PAS</td>\n",
       "      <td>2013-08-11</td>\n",
       "      <td>40</td>\n",
       "      <td>SDN</td>\n",
       "      <td>NISSA</td>\n",
       "      <td>P</td>\n",
       "      <td>62200</td>\n",
       "      <td>32240</td>\n",
       "      <td>32390</td>\n",
       "      <td>...</td>\n",
       "      <td>NaN</td>\n",
       "      <td>BBBBBBB</td>\n",
       "      <td>ALL</td>\n",
       "      <td>ALL</td>\n",
       "      <td>WHITE</td>\n",
       "      <td>0</td>\n",
       "      <td>2011</td>\n",
       "      <td>-</td>\n",
       "      <td>0</td>\n",
       "      <td>NaN</td>\n",
       "    </tr>\n",
       "    <tr>\n",
       "      <th>429996</th>\n",
       "      <td>NY</td>\n",
       "      <td>PAS</td>\n",
       "      <td>2013-07-17</td>\n",
       "      <td>62</td>\n",
       "      <td>VAN</td>\n",
       "      <td>FORD</td>\n",
       "      <td>P</td>\n",
       "      <td>62200</td>\n",
       "      <td>32240</td>\n",
       "      <td>32390</td>\n",
       "      <td>...</td>\n",
       "      <td>NaN</td>\n",
       "      <td>BBBBBBB</td>\n",
       "      <td>ALL</td>\n",
       "      <td>ALL</td>\n",
       "      <td>B</td>\n",
       "      <td>0</td>\n",
       "      <td>2001</td>\n",
       "      <td>-</td>\n",
       "      <td>0</td>\n",
       "      <td>NaN</td>\n",
       "    </tr>\n",
       "    <tr>\n",
       "      <th>429997</th>\n",
       "      <td>NY</td>\n",
       "      <td>PAS</td>\n",
       "      <td>2013-07-18</td>\n",
       "      <td>71</td>\n",
       "      <td>SUBN</td>\n",
       "      <td>NaN</td>\n",
       "      <td>P</td>\n",
       "      <td>35290</td>\n",
       "      <td>32640</td>\n",
       "      <td>32740</td>\n",
       "      <td>...</td>\n",
       "      <td>NaN</td>\n",
       "      <td>BBBBBBB</td>\n",
       "      <td>ALL</td>\n",
       "      <td>ALL</td>\n",
       "      <td>GY</td>\n",
       "      <td>0</td>\n",
       "      <td>2011</td>\n",
       "      <td>-</td>\n",
       "      <td>0</td>\n",
       "      <td>NaN</td>\n",
       "    </tr>\n",
       "    <tr>\n",
       "      <th>429998</th>\n",
       "      <td>NY</td>\n",
       "      <td>999</td>\n",
       "      <td>2013-08-01</td>\n",
       "      <td>40</td>\n",
       "      <td>VAN</td>\n",
       "      <td>FORD</td>\n",
       "      <td>P</td>\n",
       "      <td>35290</td>\n",
       "      <td>32740</td>\n",
       "      <td>32790</td>\n",
       "      <td>...</td>\n",
       "      <td>NaN</td>\n",
       "      <td>BBBBBBB</td>\n",
       "      <td>ALL</td>\n",
       "      <td>ALL</td>\n",
       "      <td>BL</td>\n",
       "      <td>0</td>\n",
       "      <td>2011</td>\n",
       "      <td>-</td>\n",
       "      <td>10</td>\n",
       "      <td>NaN</td>\n",
       "    </tr>\n",
       "    <tr>\n",
       "      <th>429999</th>\n",
       "      <td>NY</td>\n",
       "      <td>999</td>\n",
       "      <td>2013-08-01</td>\n",
       "      <td>70</td>\n",
       "      <td>VAN</td>\n",
       "      <td>FORD</td>\n",
       "      <td>P</td>\n",
       "      <td>35290</td>\n",
       "      <td>32740</td>\n",
       "      <td>32790</td>\n",
       "      <td>...</td>\n",
       "      <td>NaN</td>\n",
       "      <td>BBBBBBB</td>\n",
       "      <td>ALL</td>\n",
       "      <td>ALL</td>\n",
       "      <td>BL</td>\n",
       "      <td>0</td>\n",
       "      <td>2011</td>\n",
       "      <td>-</td>\n",
       "      <td>0</td>\n",
       "      <td>NaN</td>\n",
       "    </tr>\n",
       "  </tbody>\n",
       "</table>\n",
       "<p>30000 rows × 35 columns</p>\n",
       "</div>"
      ],
      "text/plain": [
       "       Registration State Plate Type Issue Date Violation Code  \\\n",
       "400000                 NJ        PAS 2013-08-02             16   \n",
       "400001                 NY        COM 2013-08-02             21   \n",
       "400002                 NY        COM 2013-08-02             21   \n",
       "400003                 NY        COM 2013-08-02             46   \n",
       "400004                 NY        COM 2013-08-02             14   \n",
       "...                   ...        ...        ...            ...   \n",
       "429995                 NY        PAS 2013-08-11             40   \n",
       "429996                 NY        PAS 2013-07-17             62   \n",
       "429997                 NY        PAS 2013-07-18             71   \n",
       "429998                 NY        999 2013-08-01             40   \n",
       "429999                 NY        999 2013-08-01             70   \n",
       "\n",
       "       Vehicle Body Type Vehicle Make Issuing Agency Street Code1  \\\n",
       "400000               VAN        INTER              T        35190   \n",
       "400001               VAN         FORD              T        44990   \n",
       "400002               VAN        CHEVR              T        35270   \n",
       "400003               VAN         FORD              T        35270   \n",
       "400004               VAN        CHEVR              T        35190   \n",
       "...                  ...          ...            ...          ...   \n",
       "429995               SDN        NISSA              P        62200   \n",
       "429996               VAN         FORD              P        62200   \n",
       "429997              SUBN          NaN              P        35290   \n",
       "429998               VAN         FORD              P        35290   \n",
       "429999               VAN         FORD              P        35290   \n",
       "\n",
       "       Street Code2 Street Code3  ... Violation Legal Code  \\\n",
       "400000        11710        44990  ...                  NaN   \n",
       "400001        35250        35270  ...                  NaN   \n",
       "400002        13610        44990  ...                  NaN   \n",
       "400003        44990        29690  ...                  NaN   \n",
       "400004            0            0  ...                  NaN   \n",
       "...             ...          ...  ...                  ...   \n",
       "429995        32240        32390  ...                  NaN   \n",
       "429996        32240        32390  ...                  NaN   \n",
       "429997        32640        32740  ...                  NaN   \n",
       "429998        32740        32790  ...                  NaN   \n",
       "429999        32740        32790  ...                  NaN   \n",
       "\n",
       "       Days Parking In Effect     From Hours In Effect To Hours In Effect  \\\n",
       "400000                          Y                0700A              0400P   \n",
       "400001                       Y  Y                1100A              1230A   \n",
       "400002                       Y  Y                1100A              1230A   \n",
       "400003                        NaN                  NaN                NaN   \n",
       "400004                    YYYYYYY                  NaN                NaN   \n",
       "...                           ...                  ...                ...   \n",
       "429995                    BBBBBBB                  ALL                ALL   \n",
       "429996                    BBBBBBB                  ALL                ALL   \n",
       "429997                    BBBBBBB                  ALL                ALL   \n",
       "429998                    BBBBBBB                  ALL                ALL   \n",
       "429999                    BBBBBBB                  ALL                ALL   \n",
       "\n",
       "       Vehicle Color Unregistered Vehicle? Vehicle Year Meter Number  \\\n",
       "400000         WHITE                   NaN            0          NaN   \n",
       "400001            WH                   NaN         2006          NaN   \n",
       "400002         WHITE                   NaN            0          NaN   \n",
       "400003          BLUE                   NaN         2008          NaN   \n",
       "400004            WH                   NaN         1998          NaN   \n",
       "...              ...                   ...          ...          ...   \n",
       "429995         WHITE                     0         2011            -   \n",
       "429996             B                     0         2001            -   \n",
       "429997            GY                     0         2011            -   \n",
       "429998            BL                     0         2011            -   \n",
       "429999            BL                     0         2011            -   \n",
       "\n",
       "       Feet From Curb Violation Post Code  \n",
       "400000              0                53 -  \n",
       "400001              0                53 -  \n",
       "400002              0                53 -  \n",
       "400003              0                53 -  \n",
       "400004              0                53 -  \n",
       "...               ...                 ...  \n",
       "429995              0                 NaN  \n",
       "429996              0                 NaN  \n",
       "429997              0                 NaN  \n",
       "429998             10                 NaN  \n",
       "429999              0                 NaN  \n",
       "\n",
       "[30000 rows x 35 columns]"
      ]
     },
     "execution_count": 13,
     "metadata": {},
     "output_type": "execute_result"
    }
   ],
   "source": [
    "data_2013_14"
   ]
  },
  {
   "cell_type": "code",
   "execution_count": 32,
   "metadata": {},
   "outputs": [
    {
     "data": {
      "text/plain": [
       "Registration State                       0\n",
       "Plate Type                               0\n",
       "Issue Date                               0\n",
       "Violation Code                           0\n",
       "Vehicle Body Type                      642\n",
       "Vehicle Make                          1077\n",
       "Issuing Agency                           0\n",
       "Street Code1                             0\n",
       "Street Code2                             0\n",
       "Street Code3                             0\n",
       "Violation Location                     210\n",
       "Violation Precinct                       0\n",
       "Issuer Precinct                          0\n",
       "Issuer Code                              0\n",
       "Issuer Command                           0\n",
       "Issuer Squad                             0\n",
       "Violation Time                           0\n",
       "Time First Observed                  28931\n",
       "Violation County                       886\n",
       "Violation In Front Of Or Opposite     3274\n",
       "House Number                          4198\n",
       "Street Name                             38\n",
       "Intersecting Street                  26561\n",
       "Law Section                              0\n",
       "Sub Division                             3\n",
       "Violation Legal Code                 30000\n",
       "Days Parking In Effect                  14\n",
       "From Hours In Effect                    55\n",
       "To Hours In Effect                      55\n",
       "Vehicle Color                          564\n",
       "Unregistered Vehicle?                  249\n",
       "Vehicle Year                             0\n",
       "Meter Number                           245\n",
       "Feet From Curb                           0\n",
       "Violation Post Code                  29751\n",
       "dtype: int64"
      ]
     },
     "execution_count": 32,
     "metadata": {},
     "output_type": "execute_result"
    }
   ],
   "source": [
    "data_2013_14.isnull().sum()"
   ]
  }
 ],
 "metadata": {
  "kernelspec": {
   "display_name": "Python 3",
   "language": "python",
   "name": "python3"
  },
  "language_info": {
   "codemirror_mode": {
    "name": "ipython",
    "version": 3
   },
   "file_extension": ".py",
   "mimetype": "text/x-python",
   "name": "python",
   "nbconvert_exporter": "python",
   "pygments_lexer": "ipython3",
   "version": "3.8.3"
  }
 },
 "nbformat": 4,
 "nbformat_minor": 4
}
